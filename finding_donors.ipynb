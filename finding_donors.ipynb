{
 "cells": [
  {
   "cell_type": "markdown",
   "metadata": {},
   "source": [
    "## Supervised Learning\n",
    "## Project: Finding Donors for *CharityML*"
   ]
  },
  {
   "cell_type": "markdown",
   "metadata": {},
   "source": [
    "In this notebook, some template code has already been provided for you, and it will be your job to implement the additional functionality necessary to successfully complete this project. Sections that begin with **'Implementation'** in the header indicate that the following block of code will require additional functionality which you must provide. Instructions will be provided for each section and the specifics of the implementation are marked in the code block with a `'TODO'` statement. Please be sure to read the instructions carefully!\n",
    "\n",
    "In addition to implementing code, there will be questions that you must answer which relate to the project and your implementation. Each section where you will answer a question is preceded by a **'Question X'** header. Carefully read each question and provide thorough answers in the following text boxes that begin with **'Answer:'**. Your project submission will be evaluated based on your answers to each of the questions and the implementation you provide.  \n",
    "\n",
    ">**Note:** Please specify WHICH VERSION OF PYTHON you are using when submitting this notebook. Code and Markdown cells can be executed using the **Shift + Enter** keyboard shortcut. In addition, Markdown cells can be edited by typically double-clicking the cell to enter edit mode."
   ]
  },
  {
   "cell_type": "markdown",
   "metadata": {},
   "source": [
    "## Getting Started\n",
    "\n",
    "In this project, you will employ several supervised algorithms of your choice to accurately model individuals' income using data collected from the 1994 U.S. Census. You will then choose the best candidate algorithm from preliminary results and further optimize this algorithm to best model the data. Your goal with this implementation is to construct a model that accurately predicts whether an individual makes more than $50,000. This sort of task can arise in a non-profit setting, where organizations survive on donations.  Understanding an individual's income can help a non-profit better understand how large of a donation to request, or whether or not they should reach out to begin with.  While it can be difficult to determine an individual's general income bracket directly from public sources, we can (as we will see) infer this value from other publically available features. \n",
    "\n",
    "The dataset for this project originates from the [UCI Machine Learning Repository](https://archive.ics.uci.edu/ml/datasets/Census+Income). The datset was donated by Ron Kohavi and Barry Becker, after being published in the article _\"Scaling Up the Accuracy of Naive-Bayes Classifiers: A Decision-Tree Hybrid\"_. You can find the article by Ron Kohavi [online](https://www.aaai.org/Papers/KDD/1996/KDD96-033.pdf). The data we investigate here consists of small changes to the original dataset, such as removing the `'fnlwgt'` feature and records with missing or ill-formatted entries."
   ]
  },
  {
   "cell_type": "markdown",
   "metadata": {},
   "source": [
    "----\n",
    "## Exploring the Data\n",
    "Run the code cell below to load necessary Python libraries and load the census data. Note that the last column from this dataset, `'income'`, will be our target label (whether an individual makes more than, or at most, $50,000 annually). All other columns are features about each individual in the census database."
   ]
  },
  {
   "cell_type": "code",
   "execution_count": 1,
   "metadata": {},
   "outputs": [
    {
     "data": {
      "text/html": [
       "<div>\n",
       "<style>\n",
       "    .dataframe thead tr:only-child th {\n",
       "        text-align: right;\n",
       "    }\n",
       "\n",
       "    .dataframe thead th {\n",
       "        text-align: left;\n",
       "    }\n",
       "\n",
       "    .dataframe tbody tr th {\n",
       "        vertical-align: top;\n",
       "    }\n",
       "</style>\n",
       "<table border=\"1\" class=\"dataframe\">\n",
       "  <thead>\n",
       "    <tr style=\"text-align: right;\">\n",
       "      <th></th>\n",
       "      <th>age</th>\n",
       "      <th>workclass</th>\n",
       "      <th>education_level</th>\n",
       "      <th>education-num</th>\n",
       "      <th>marital-status</th>\n",
       "      <th>occupation</th>\n",
       "      <th>relationship</th>\n",
       "      <th>race</th>\n",
       "      <th>sex</th>\n",
       "      <th>capital-gain</th>\n",
       "      <th>capital-loss</th>\n",
       "      <th>hours-per-week</th>\n",
       "      <th>native-country</th>\n",
       "      <th>income</th>\n",
       "    </tr>\n",
       "  </thead>\n",
       "  <tbody>\n",
       "    <tr>\n",
       "      <th>0</th>\n",
       "      <td>39</td>\n",
       "      <td>State-gov</td>\n",
       "      <td>Bachelors</td>\n",
       "      <td>13.0</td>\n",
       "      <td>Never-married</td>\n",
       "      <td>Adm-clerical</td>\n",
       "      <td>Not-in-family</td>\n",
       "      <td>White</td>\n",
       "      <td>Male</td>\n",
       "      <td>2174.0</td>\n",
       "      <td>0.0</td>\n",
       "      <td>40.0</td>\n",
       "      <td>United-States</td>\n",
       "      <td>&lt;=50K</td>\n",
       "    </tr>\n",
       "  </tbody>\n",
       "</table>\n",
       "</div>"
      ],
      "text/plain": [
       "   age   workclass education_level  education-num  marital-status  \\\n",
       "0   39   State-gov       Bachelors           13.0   Never-married   \n",
       "\n",
       "      occupation    relationship    race    sex  capital-gain  capital-loss  \\\n",
       "0   Adm-clerical   Not-in-family   White   Male        2174.0           0.0   \n",
       "\n",
       "   hours-per-week  native-country income  \n",
       "0            40.0   United-States  <=50K  "
      ]
     },
     "metadata": {},
     "output_type": "display_data"
    }
   ],
   "source": [
    "# Import libraries necessary for this project\n",
    "import numpy as np\n",
    "import pandas as pd\n",
    "from time import time\n",
    "from IPython.display import display # Allows the use of display() for DataFrames\n",
    "\n",
    "# Import supplementary visualization code visuals.py\n",
    "import visuals as vs\n",
    "\n",
    "# Pretty display for notebooks\n",
    "%matplotlib inline\n",
    "\n",
    "# Load the Census dataset\n",
    "data = pd.read_csv(\"census.csv\")\n",
    "\n",
    "# Success - Display the first record\n",
    "display(data.head(n=1))"
   ]
  },
  {
   "cell_type": "markdown",
   "metadata": {},
   "source": [
    "### Implementation: Data Exploration\n",
    "A cursory investigation of the dataset will determine how many individuals fit into either group, and will tell us about the percentage of these individuals making more than \\$50,000. In the code cell below, you will need to compute the following:\n",
    "- The total number of records, `'n_records'`\n",
    "- The number of individuals making more than \\$50,000 annually, `'n_greater_50k'`.\n",
    "- The number of individuals making at most \\$50,000 annually, `'n_at_most_50k'`.\n",
    "- The percentage of individuals making more than \\$50,000 annually, `'greater_percent'`.\n",
    "\n",
    "** HINT: ** You may need to look at the table above to understand how the `'income'` entries are formatted. "
   ]
  },
  {
   "cell_type": "code",
   "execution_count": 2,
   "metadata": {},
   "outputs": [
    {
     "name": "stdout",
     "output_type": "stream",
     "text": [
      "Total number of records: 45222\n",
      "Individuals making more than $50,000: 11208\n",
      "Individuals making at most $50,000: 34014\n",
      "Percentage of individuals making more than $50,000: 24.78439697492371%\n"
     ]
    }
   ],
   "source": [
    "# TODO: Total number of records\n",
    "n_records = len(data)\n",
    "\n",
    "# TODO: Number of records where individual's income is more than $50,000\n",
    "n_greater_50k = np.sum(data['income']=='>50K')\n",
    "\n",
    "# TODO: Number of records where individual's income is at most $50,000\n",
    "n_at_most_50k = np.sum(data['income']=='<=50K')\n",
    "\n",
    "# TODO: Percentage of individuals whose income is more than $50,000\n",
    "greater_percent = (n_greater_50k / n_records)*100\n",
    "\n",
    "# Print the results\n",
    "print(\"Total number of records: {}\".format(n_records))\n",
    "print(\"Individuals making more than $50,000: {}\".format(n_greater_50k))\n",
    "print(\"Individuals making at most $50,000: {}\".format(n_at_most_50k))\n",
    "print(\"Percentage of individuals making more than $50,000: {}%\".format(greater_percent))"
   ]
  },
  {
   "cell_type": "markdown",
   "metadata": {},
   "source": [
    "** Featureset Exploration **\n",
    "\n",
    "* **age**: continuous. \n",
    "* **workclass**: Private, Self-emp-not-inc, Self-emp-inc, Federal-gov, Local-gov, State-gov, Without-pay, Never-worked. \n",
    "* **education**: Bachelors, Some-college, 11th, HS-grad, Prof-school, Assoc-acdm, Assoc-voc, 9th, 7th-8th, 12th, Masters, 1st-4th, 10th, Doctorate, 5th-6th, Preschool. \n",
    "* **education-num**: continuous. \n",
    "* **marital-status**: Married-civ-spouse, Divorced, Never-married, Separated, Widowed, Married-spouse-absent, Married-AF-spouse. \n",
    "* **occupation**: Tech-support, Craft-repair, Other-service, Sales, Exec-managerial, Prof-specialty, Handlers-cleaners, Machine-op-inspct, Adm-clerical, Farming-fishing, Transport-moving, Priv-house-serv, Protective-serv, Armed-Forces. \n",
    "* **relationship**: Wife, Own-child, Husband, Not-in-family, Other-relative, Unmarried. \n",
    "* **race**: Black, White, Asian-Pac-Islander, Amer-Indian-Eskimo, Other. \n",
    "* **sex**: Female, Male. \n",
    "* **capital-gain**: continuous. \n",
    "* **capital-loss**: continuous. \n",
    "* **hours-per-week**: continuous. \n",
    "* **native-country**: United-States, Cambodia, England, Puerto-Rico, Canada, Germany, Outlying-US(Guam-USVI-etc), India, Japan, Greece, South, China, Cuba, Iran, Honduras, Philippines, Italy, Poland, Jamaica, Vietnam, Mexico, Portugal, Ireland, France, Dominican-Republic, Laos, Ecuador, Taiwan, Haiti, Columbia, Hungary, Guatemala, Nicaragua, Scotland, Thailand, Yugoslavia, El-Salvador, Trinadad&Tobago, Peru, Hong, Holand-Netherlands."
   ]
  },
  {
   "cell_type": "markdown",
   "metadata": {},
   "source": [
    "----\n",
    "## Preparing the Data\n",
    "Before data can be used as input for machine learning algorithms, it often must be cleaned, formatted, and restructured — this is typically known as **preprocessing**. Fortunately, for this dataset, there are no invalid or missing entries we must deal with, however, there are some qualities about certain features that must be adjusted. This preprocessing can help tremendously with the outcome and predictive power of nearly all learning algorithms."
   ]
  },
  {
   "cell_type": "markdown",
   "metadata": {},
   "source": [
    "### Transforming Skewed Continuous Features\n",
    "A dataset may sometimes contain at least one feature whose values tend to lie near a single number, but will also have a non-trivial number of vastly larger or smaller values than that single number.  Algorithms can be sensitive to such distributions of values and can underperform if the range is not properly normalized. With the census dataset two features fit this description: '`capital-gain'` and `'capital-loss'`. \n",
    "\n",
    "Run the code cell below to plot a histogram of these two features. Note the range of the values present and how they are distributed."
   ]
  },
  {
   "cell_type": "code",
   "execution_count": 3,
   "metadata": {},
   "outputs": [
    {
     "data": {
      "image/png": "[encoded data removed]",
      "text/plain": [
       "<matplotlib.figure.Figure at 0x7f83c8966588>"
      ]
     },
     "metadata": {},
     "output_type": "display_data"
    }
   ],
   "source": [
    "# Split the data into features and target label\n",
    "income_raw = data['income']\n",
    "features_raw = data.drop('income', axis = 1)\n",
    "\n",
    "# Visualize skewed continuous features of original data\n",
    "vs.distribution(data)"
   ]
  },
  {
   "cell_type": "markdown",
   "metadata": {},
   "source": [
    "For highly-skewed feature distributions such as `'capital-gain'` and `'capital-loss'`, it is common practice to apply a <a href=\"https://en.wikipedia.org/wiki/Data_transformation_(statistics)\">logarithmic transformation</a> on the data so that the very large and very small values do not negatively affect the performance of a learning algorithm. Using a logarithmic transformation significantly reduces the range of values caused by outliers. Care must be taken when applying this transformation however: The logarithm of `0` is undefined, so we must translate the values by a small amount above `0` to apply the the logarithm successfully.\n",
    "\n",
    "Run the code cell below to perform a transformation on the data and visualize the results. Again, note the range of values and how they are distributed. "
   ]
  },
  {
   "cell_type": "code",
   "execution_count": 4,
   "metadata": {},
   "outputs": [
    {
     "data": {
      "image/png": "[encoded data removed]",
      "text/plain": [
       "<matplotlib.figure.Figure at 0x7f8399666cc0>"
      ]
     },
     "metadata": {},
     "output_type": "display_data"
    }
   ],
   "source": [
    "# Log-transform the skewed features\n",
    "skewed = ['capital-gain', 'capital-loss']\n",
    "features_log_transformed = pd.DataFrame(data = features_raw)\n",
    "features_log_transformed[skewed] = features_raw[skewed].apply(lambda x: np.log(x + 1))\n",
    "\n",
    "# Visualize the new log distributions\n",
    "vs.distribution(features_log_transformed, transformed = True)"
   ]
  },
  {
   "cell_type": "markdown",
   "metadata": {},
   "source": [
    "### Normalizing Numerical Features\n",
    "In addition to performing transformations on features that are highly skewed, it is often good practice to perform some type of scaling on numerical features. Applying a scaling to the data does not change the shape of each feature's distribution (such as `'capital-gain'` or `'capital-loss'` above); however, normalization ensures that each feature is treated equally when applying supervised learners. Note that once scaling is applied, observing the data in its raw form will no longer have the same original meaning, as exampled below.\n",
    "\n",
    "Run the code cell below to normalize each numerical feature. We will use [`sklearn.preprocessing.MinMaxScaler`](http://scikit-learn.org/stable/modules/generated/sklearn.preprocessing.MinMaxScaler.html) for this."
   ]
  },
  {
   "cell_type": "code",
   "execution_count": 5,
   "metadata": {},
   "outputs": [
    {
     "data": {
      "text/html": [
       "<div>\n",
       "<style>\n",
       "    .dataframe thead tr:only-child th {\n",
       "        text-align: right;\n",
       "    }\n",
       "\n",
       "    .dataframe thead th {\n",
       "        text-align: left;\n",
       "    }\n",
       "\n",
       "    .dataframe tbody tr th {\n",
       "        vertical-align: top;\n",
       "    }\n",
       "</style>\n",
       "<table border=\"1\" class=\"dataframe\">\n",
       "  <thead>\n",
       "    <tr style=\"text-align: right;\">\n",
       "      <th></th>\n",
       "      <th>age</th>\n",
       "      <th>workclass</th>\n",
       "      <th>education_level</th>\n",
       "      <th>education-num</th>\n",
       "      <th>marital-status</th>\n",
       "      <th>occupation</th>\n",
       "      <th>relationship</th>\n",
       "      <th>race</th>\n",
       "      <th>sex</th>\n",
       "      <th>capital-gain</th>\n",
       "      <th>capital-loss</th>\n",
       "      <th>hours-per-week</th>\n",
       "      <th>native-country</th>\n",
       "    </tr>\n",
       "  </thead>\n",
       "  <tbody>\n",
       "    <tr>\n",
       "      <th>0</th>\n",
       "      <td>0.301370</td>\n",
       "      <td>State-gov</td>\n",
       "      <td>Bachelors</td>\n",
       "      <td>0.800000</td>\n",
       "      <td>Never-married</td>\n",
       "      <td>Adm-clerical</td>\n",
       "      <td>Not-in-family</td>\n",
       "      <td>White</td>\n",
       "      <td>Male</td>\n",
       "      <td>0.667492</td>\n",
       "      <td>0.0</td>\n",
       "      <td>0.397959</td>\n",
       "      <td>United-States</td>\n",
       "    </tr>\n",
       "    <tr>\n",
       "      <th>1</th>\n",
       "      <td>0.452055</td>\n",
       "      <td>Self-emp-not-inc</td>\n",
       "      <td>Bachelors</td>\n",
       "      <td>0.800000</td>\n",
       "      <td>Married-civ-spouse</td>\n",
       "      <td>Exec-managerial</td>\n",
       "      <td>Husband</td>\n",
       "      <td>White</td>\n",
       "      <td>Male</td>\n",
       "      <td>0.000000</td>\n",
       "      <td>0.0</td>\n",
       "      <td>0.122449</td>\n",
       "      <td>United-States</td>\n",
       "    </tr>\n",
       "    <tr>\n",
       "      <th>2</th>\n",
       "      <td>0.287671</td>\n",
       "      <td>Private</td>\n",
       "      <td>HS-grad</td>\n",
       "      <td>0.533333</td>\n",
       "      <td>Divorced</td>\n",
       "      <td>Handlers-cleaners</td>\n",
       "      <td>Not-in-family</td>\n",
       "      <td>White</td>\n",
       "      <td>Male</td>\n",
       "      <td>0.000000</td>\n",
       "      <td>0.0</td>\n",
       "      <td>0.397959</td>\n",
       "      <td>United-States</td>\n",
       "    </tr>\n",
       "    <tr>\n",
       "      <th>3</th>\n",
       "      <td>0.493151</td>\n",
       "      <td>Private</td>\n",
       "      <td>11th</td>\n",
       "      <td>0.400000</td>\n",
       "      <td>Married-civ-spouse</td>\n",
       "      <td>Handlers-cleaners</td>\n",
       "      <td>Husband</td>\n",
       "      <td>Black</td>\n",
       "      <td>Male</td>\n",
       "      <td>0.000000</td>\n",
       "      <td>0.0</td>\n",
       "      <td>0.397959</td>\n",
       "      <td>United-States</td>\n",
       "    </tr>\n",
       "    <tr>\n",
       "      <th>4</th>\n",
       "      <td>0.150685</td>\n",
       "      <td>Private</td>\n",
       "      <td>Bachelors</td>\n",
       "      <td>0.800000</td>\n",
       "      <td>Married-civ-spouse</td>\n",
       "      <td>Prof-specialty</td>\n",
       "      <td>Wife</td>\n",
       "      <td>Black</td>\n",
       "      <td>Female</td>\n",
       "      <td>0.000000</td>\n",
       "      <td>0.0</td>\n",
       "      <td>0.397959</td>\n",
       "      <td>Cuba</td>\n",
       "    </tr>\n",
       "  </tbody>\n",
       "</table>\n",
       "</div>"
      ],
      "text/plain": [
       "        age          workclass education_level  education-num  \\\n",
       "0  0.301370          State-gov       Bachelors       0.800000   \n",
       "1  0.452055   Self-emp-not-inc       Bachelors       0.800000   \n",
       "2  0.287671            Private         HS-grad       0.533333   \n",
       "3  0.493151            Private            11th       0.400000   \n",
       "4  0.150685            Private       Bachelors       0.800000   \n",
       "\n",
       "        marital-status          occupation    relationship    race      sex  \\\n",
       "0        Never-married        Adm-clerical   Not-in-family   White     Male   \n",
       "1   Married-civ-spouse     Exec-managerial         Husband   White     Male   \n",
       "2             Divorced   Handlers-cleaners   Not-in-family   White     Male   \n",
       "3   Married-civ-spouse   Handlers-cleaners         Husband   Black     Male   \n",
       "4   Married-civ-spouse      Prof-specialty            Wife   Black   Female   \n",
       "\n",
       "   capital-gain  capital-loss  hours-per-week  native-country  \n",
       "0      0.667492           0.0        0.397959   United-States  \n",
       "1      0.000000           0.0        0.122449   United-States  \n",
       "2      0.000000           0.0        0.397959   United-States  \n",
       "3      0.000000           0.0        0.397959   United-States  \n",
       "4      0.000000           0.0        0.397959            Cuba  "
      ]
     },
     "metadata": {},
     "output_type": "display_data"
    }
   ],
   "source": [
    "# Import sklearn.preprocessing.StandardScaler\n",
    "from sklearn.preprocessing import MinMaxScaler\n",
    "\n",
    "# Initialize a scaler, then apply it to the features\n",
    "scaler = MinMaxScaler() # default=(0, 1)\n",
    "numerical = ['age', 'education-num', 'capital-gain', 'capital-loss', 'hours-per-week']\n",
    "\n",
    "features_log_minmax_transform = pd.DataFrame(data = features_log_transformed)\n",
    "features_log_minmax_transform[numerical] = scaler.fit_transform(features_log_transformed[numerical])\n",
    "\n",
    "# Show an example of a record with scaling applied\n",
    "display(features_log_minmax_transform.head(n = 5))"
   ]
  },
  {
   "cell_type": "markdown",
   "metadata": {},
   "source": [
    "### Implementation: Data Preprocessing\n",
    "\n",
    "From the table in **Exploring the Data** above, we can see there are several features for each record that are non-numeric. Typically, learning algorithms expect input to be numeric, which requires that non-numeric features (called *categorical variables*) be converted. One popular way to convert categorical variables is by using the **one-hot encoding** scheme. One-hot encoding creates a _\"dummy\"_ variable for each possible category of each non-numeric feature. For example, assume `someFeature` has three possible entries: `A`, `B`, or `C`. We then encode this feature into `someFeature_A`, `someFeature_B` and `someFeature_C`.\n",
    "\n",
    "|   | someFeature |                    | someFeature_A | someFeature_B | someFeature_C |\n",
    "| :-: | :-: |                            | :-: | :-: | :-: |\n",
    "| 0 |  B  |  | 0 | 1 | 0 |\n",
    "| 1 |  C  | ----> one-hot encode ----> | 0 | 0 | 1 |\n",
    "| 2 |  A  |  | 1 | 0 | 0 |\n",
    "\n",
    "Additionally, as with the non-numeric features, we need to convert the non-numeric target label, `'income'` to numerical values for the learning algorithm to work. Since there are only two possible categories for this label (\"<=50K\" and \">50K\"), we can avoid using one-hot encoding and simply encode these two categories as `0` and `1`, respectively. In code cell below, you will need to implement the following:\n",
    " - Use [`pandas.get_dummies()`](http://pandas.pydata.org/pandas-docs/stable/generated/pandas.get_dummies.html?highlight=get_dummies#pandas.get_dummies) to perform one-hot encoding on the `'features_log_minmax_transform'` data.\n",
    " - Convert the target label `'income_raw'` to numerical entries.\n",
    "   - Set records with \"<=50K\" to `0` and records with \">50K\" to `1`."
   ]
  },
  {
   "cell_type": "code",
   "execution_count": 6,
   "metadata": {},
   "outputs": [
    {
     "data": {
      "text/html": [
       "<div>\n",
       "<style>\n",
       "    .dataframe thead tr:only-child th {\n",
       "        text-align: right;\n",
       "    }\n",
       "\n",
       "    .dataframe thead th {\n",
       "        text-align: left;\n",
       "    }\n",
       "\n",
       "    .dataframe tbody tr th {\n",
       "        vertical-align: top;\n",
       "    }\n",
       "</style>\n",
       "<table border=\"1\" class=\"dataframe\">\n",
       "  <thead>\n",
       "    <tr style=\"text-align: right;\">\n",
       "      <th></th>\n",
       "      <th>age</th>\n",
       "      <th>education-num</th>\n",
       "      <th>capital-gain</th>\n",
       "      <th>capital-loss</th>\n",
       "      <th>hours-per-week</th>\n",
       "      <th>workclass_ Federal-gov</th>\n",
       "      <th>workclass_ Local-gov</th>\n",
       "      <th>workclass_ Private</th>\n",
       "      <th>workclass_ Self-emp-inc</th>\n",
       "      <th>workclass_ Self-emp-not-inc</th>\n",
       "      <th>...</th>\n",
       "      <th>native-country_ Portugal</th>\n",
       "      <th>native-country_ Puerto-Rico</th>\n",
       "      <th>native-country_ Scotland</th>\n",
       "      <th>native-country_ South</th>\n",
       "      <th>native-country_ Taiwan</th>\n",
       "      <th>native-country_ Thailand</th>\n",
       "      <th>native-country_ Trinadad&amp;Tobago</th>\n",
       "      <th>native-country_ United-States</th>\n",
       "      <th>native-country_ Vietnam</th>\n",
       "      <th>native-country_ Yugoslavia</th>\n",
       "    </tr>\n",
       "  </thead>\n",
       "  <tbody>\n",
       "    <tr>\n",
       "      <th>0</th>\n",
       "      <td>0.301370</td>\n",
       "      <td>0.800000</td>\n",
       "      <td>0.667492</td>\n",
       "      <td>0.0</td>\n",
       "      <td>0.397959</td>\n",
       "      <td>0</td>\n",
       "      <td>0</td>\n",
       "      <td>0</td>\n",
       "      <td>0</td>\n",
       "      <td>0</td>\n",
       "      <td>...</td>\n",
       "      <td>0</td>\n",
       "      <td>0</td>\n",
       "      <td>0</td>\n",
       "      <td>0</td>\n",
       "      <td>0</td>\n",
       "      <td>0</td>\n",
       "      <td>0</td>\n",
       "      <td>1</td>\n",
       "      <td>0</td>\n",
       "      <td>0</td>\n",
       "    </tr>\n",
       "    <tr>\n",
       "      <th>1</th>\n",
       "      <td>0.452055</td>\n",
       "      <td>0.800000</td>\n",
       "      <td>0.000000</td>\n",
       "      <td>0.0</td>\n",
       "      <td>0.122449</td>\n",
       "      <td>0</td>\n",
       "      <td>0</td>\n",
       "      <td>0</td>\n",
       "      <td>0</td>\n",
       "      <td>1</td>\n",
       "      <td>...</td>\n",
       "      <td>0</td>\n",
       "      <td>0</td>\n",
       "      <td>0</td>\n",
       "      <td>0</td>\n",
       "      <td>0</td>\n",
       "      <td>0</td>\n",
       "      <td>0</td>\n",
       "      <td>1</td>\n",
       "      <td>0</td>\n",
       "      <td>0</td>\n",
       "    </tr>\n",
       "    <tr>\n",
       "      <th>2</th>\n",
       "      <td>0.287671</td>\n",
       "      <td>0.533333</td>\n",
       "      <td>0.000000</td>\n",
       "      <td>0.0</td>\n",
       "      <td>0.397959</td>\n",
       "      <td>0</td>\n",
       "      <td>0</td>\n",
       "      <td>1</td>\n",
       "      <td>0</td>\n",
       "      <td>0</td>\n",
       "      <td>...</td>\n",
       "      <td>0</td>\n",
       "      <td>0</td>\n",
       "      <td>0</td>\n",
       "      <td>0</td>\n",
       "      <td>0</td>\n",
       "      <td>0</td>\n",
       "      <td>0</td>\n",
       "      <td>1</td>\n",
       "      <td>0</td>\n",
       "      <td>0</td>\n",
       "    </tr>\n",
       "    <tr>\n",
       "      <th>3</th>\n",
       "      <td>0.493151</td>\n",
       "      <td>0.400000</td>\n",
       "      <td>0.000000</td>\n",
       "      <td>0.0</td>\n",
       "      <td>0.397959</td>\n",
       "      <td>0</td>\n",
       "      <td>0</td>\n",
       "      <td>1</td>\n",
       "      <td>0</td>\n",
       "      <td>0</td>\n",
       "      <td>...</td>\n",
       "      <td>0</td>\n",
       "      <td>0</td>\n",
       "      <td>0</td>\n",
       "      <td>0</td>\n",
       "      <td>0</td>\n",
       "      <td>0</td>\n",
       "      <td>0</td>\n",
       "      <td>1</td>\n",
       "      <td>0</td>\n",
       "      <td>0</td>\n",
       "    </tr>\n",
       "    <tr>\n",
       "      <th>4</th>\n",
       "      <td>0.150685</td>\n",
       "      <td>0.800000</td>\n",
       "      <td>0.000000</td>\n",
       "      <td>0.0</td>\n",
       "      <td>0.397959</td>\n",
       "      <td>0</td>\n",
       "      <td>0</td>\n",
       "      <td>1</td>\n",
       "      <td>0</td>\n",
       "      <td>0</td>\n",
       "      <td>...</td>\n",
       "      <td>0</td>\n",
       "      <td>0</td>\n",
       "      <td>0</td>\n",
       "      <td>0</td>\n",
       "      <td>0</td>\n",
       "      <td>0</td>\n",
       "      <td>0</td>\n",
       "      <td>0</td>\n",
       "      <td>0</td>\n",
       "      <td>0</td>\n",
       "    </tr>\n",
       "  </tbody>\n",
       "</table>\n",
       "<p>5 rows × 103 columns</p>\n",
       "</div>"
      ],
      "text/plain": [
       "        age  education-num  capital-gain  capital-loss  hours-per-week  \\\n",
       "0  0.301370       0.800000      0.667492           0.0        0.397959   \n",
       "1  0.452055       0.800000      0.000000           0.0        0.122449   \n",
       "2  0.287671       0.533333      0.000000           0.0        0.397959   \n",
       "3  0.493151       0.400000      0.000000           0.0        0.397959   \n",
       "4  0.150685       0.800000      0.000000           0.0        0.397959   \n",
       "\n",
       "   workclass_ Federal-gov  workclass_ Local-gov  workclass_ Private  \\\n",
       "0                       0                     0                   0   \n",
       "1                       0                     0                   0   \n",
       "2                       0                     0                   1   \n",
       "3                       0                     0                   1   \n",
       "4                       0                     0                   1   \n",
       "\n",
       "   workclass_ Self-emp-inc  workclass_ Self-emp-not-inc  \\\n",
       "0                        0                            0   \n",
       "1                        0                            1   \n",
       "2                        0                            0   \n",
       "3                        0                            0   \n",
       "4                        0                            0   \n",
       "\n",
       "              ...              native-country_ Portugal  \\\n",
       "0             ...                                     0   \n",
       "1             ...                                     0   \n",
       "2             ...                                     0   \n",
       "3             ...                                     0   \n",
       "4             ...                                     0   \n",
       "\n",
       "   native-country_ Puerto-Rico  native-country_ Scotland  \\\n",
       "0                            0                         0   \n",
       "1                            0                         0   \n",
       "2                            0                         0   \n",
       "3                            0                         0   \n",
       "4                            0                         0   \n",
       "\n",
       "   native-country_ South  native-country_ Taiwan  native-country_ Thailand  \\\n",
       "0                      0                       0                         0   \n",
       "1                      0                       0                         0   \n",
       "2                      0                       0                         0   \n",
       "3                      0                       0                         0   \n",
       "4                      0                       0                         0   \n",
       "\n",
       "   native-country_ Trinadad&Tobago  native-country_ United-States  \\\n",
       "0                                0                              1   \n",
       "1                                0                              1   \n",
       "2                                0                              1   \n",
       "3                                0                              1   \n",
       "4                                0                              0   \n",
       "\n",
       "   native-country_ Vietnam  native-country_ Yugoslavia  \n",
       "0                        0                           0  \n",
       "1                        0                           0  \n",
       "2                        0                           0  \n",
       "3                        0                           0  \n",
       "4                        0                           0  \n",
       "\n",
       "[5 rows x 103 columns]"
      ]
     },
     "metadata": {},
     "output_type": "display_data"
    },
    {
     "name": "stdout",
     "output_type": "stream",
     "text": [
      "103 total features after one-hot encoding.\n"
     ]
    }
   ],
   "source": [
    "# TODO: One-hot encode the 'features_log_minmax_transform' data using pandas.get_dummies()\n",
    "categorical = ['workclass', 'education_level', 'marital-status', 'occupation', 'relationship', 'race', 'sex', 'native-country']\n",
    "features_final = pd.get_dummies(features_log_minmax_transform, categorical)\n",
    "\n",
    "display(features_final.head(n = 5))\n",
    "\n",
    "# TODO: Encode the 'income_raw' data to numerical values\n",
    "income = pd.get_dummies(income_raw, drop_first=True)\n",
    "income = income['>50K']\n",
    "\n",
    "# Print the number of features after one-hot encoding\n",
    "encoded = list(features_final.columns)\n",
    "print(\"{} total features after one-hot encoding.\".format(len(encoded)))\n",
    "\n",
    "# Uncomment the following line to see the encoded feature names\n",
    "# print encoded"
   ]
  },
  {
   "cell_type": "markdown",
   "metadata": {},
   "source": [
    "### Shuffle and Split Data\n",
    "Now all _categorical variables_ have been converted into numerical features, and all numerical features have been normalized. As always, we will now split the data (both features and their labels) into training and test sets. 80% of the data will be used for training and 20% for testing.\n",
    "\n",
    "Run the code cell below to perform this split."
   ]
  },
  {
   "cell_type": "code",
   "execution_count": 7,
   "metadata": {},
   "outputs": [
    {
     "name": "stdout",
     "output_type": "stream",
     "text": [
      "Training set has 36177 samples.\n",
      "Testing set has 9045 samples.\n"
     ]
    }
   ],
   "source": [
    "# Import train_test_split\n",
    "from sklearn.model_selection import train_test_split\n",
    "\n",
    "# Split the 'features' and 'income' data into training and testing sets\n",
    "X_train, X_test, y_train, y_test = train_test_split(features_final, \n",
    "                                                    income, \n",
    "                                                    test_size = 0.2, \n",
    "                                                    random_state = 0)\n",
    "\n",
    "# Show the results of the split\n",
    "print(\"Training set has {} samples.\".format(X_train.shape[0]))\n",
    "print(\"Testing set has {} samples.\".format(X_test.shape[0]))"
   ]
  },
  {
   "cell_type": "markdown",
   "metadata": {},
   "source": [
    "----\n",
    "## Evaluating Model Performance\n",
    "In this section, we will investigate four different algorithms, and determine which is best at modeling the data. Three of these algorithms will be supervised learners of your choice, and the fourth algorithm is known as a *naive predictor*."
   ]
  },
  {
   "cell_type": "markdown",
   "metadata": {},
   "source": [
    "### Metrics and the Naive Predictor\n",
    "*CharityML*, equipped with their research, knows individuals that make more than \\$50,000 are most likely to donate to their charity. Because of this, *CharityML* is particularly interested in predicting who makes more than \\$50,000 accurately. It would seem that using **accuracy** as a metric for evaluating a particular model's performace would be appropriate. Additionally, identifying someone that *does not* make more than \\$50,000 as someone who does would be detrimental to *CharityML*, since they are looking to find individuals willing to donate. Therefore, a model's ability to precisely predict those that make more than \\$50,000 is *more important* than the model's ability to **recall** those individuals. We can use **F-beta score** as a metric that considers both precision and recall:\n",
    "\n",
    "$$ F_{\\beta} = (1 + \\beta^2) \\cdot \\frac{precision \\cdot recall}{\\left( \\beta^2 \\cdot precision \\right) + recall} $$\n",
    "\n",
    "In particular, when $\\beta = 0.5$, more emphasis is placed on precision. This is called the **F$_{0.5}$ score** (or F-score for simplicity).\n",
    "\n",
    "Looking at the distribution of classes (those who make at most \\$50,000, and those who make more), it's clear most individuals do not make more than \\$50,000. This can greatly affect **accuracy**, since we could simply say *\"this person does not make more than \\$50,000\"* and generally be right, without ever looking at the data! Making such a statement would be called **naive**, since we have not considered any information to substantiate the claim. It is always important to consider the *naive prediction* for your data, to help establish a benchmark for whether a model is performing well. That been said, using that prediction would be pointless: If we predicted all people made less than \\$50,000, *CharityML* would identify no one as donors. \n",
    "\n",
    "\n",
    "#### Note: Recap of accuracy, precision, recall\n",
    "\n",
    "** Accuracy ** measures how often the classifier makes the correct prediction. It’s the ratio of the number of correct predictions to the total number of predictions (the number of test data points).\n",
    "\n",
    "** Precision ** tells us what proportion of messages we classified as spam, actually were spam.\n",
    "It is a ratio of true positives(words classified as spam, and which are actually spam) to all positives(all words classified as spam, irrespective of whether that was the correct classificatio), in other words it is the ratio of\n",
    "\n",
    "`[True Positives/(True Positives + False Positives)]`\n",
    "\n",
    "** Recall(sensitivity)** tells us what proportion of messages that actually were spam were classified by us as spam.\n",
    "It is a ratio of true positives(words classified as spam, and which are actually spam) to all the words that were actually spam, in other words it is the ratio of\n",
    "\n",
    "`[True Positives/(True Positives + False Negatives)]`\n",
    "\n",
    "For classification problems that are skewed in their classification distributions like in our case, for example if we had a 100 text messages and only 2 were spam and the rest 98 weren't, accuracy by itself is not a very good metric. We could classify 90 messages as not spam(including the 2 that were spam but we classify them as not spam, hence they would be false negatives) and 10 as spam(all 10 false positives) and still get a reasonably good accuracy score. For such cases, precision and recall come in very handy. These two metrics can be combined to get the F1 score, which is weighted average(harmonic mean) of the precision and recall scores. This score can range from 0 to 1, with 1 being the best possible F1 score(we take the harmonic mean as we are dealing with ratios)."
   ]
  },
  {
   "cell_type": "markdown",
   "metadata": {},
   "source": [
    "### Question 1 - Naive Predictor Performace\n",
    "* If we chose a model that always predicted an individual made more than $50,000, what would  that model's accuracy and F-score be on this dataset? You must use the code cell below and assign your results to `'accuracy'` and `'fscore'` to be used later.\n",
    "\n",
    "** Please note ** that the the purpose of generating a naive predictor is simply to show what a base model without any intelligence would look like. In the real world, ideally your base model would be either the results of a previous model or could be based on a research paper upon which you are looking to improve. When there is no benchmark model set, getting a result better than random choice is a place you could start from.\n",
    "\n",
    "** HINT: ** \n",
    "\n",
    "* When we have a model that always predicts '1' (i.e. the individual makes more than 50k) then our model will have no True Negatives(TN) or False Negatives(FN) as we are not making any negative('0' value) predictions. Therefore our Accuracy in this case becomes the same as our Precision(True Positives/(True Positives + False Positives)) as every prediction that we have made with value '1' that should have '0' becomes a False Positive; therefore our denominator in this case is the total number of records we have in total. \n",
    "* Our Recall score(True Positives/(True Positives + False Negatives)) in this setting becomes 1 as we have no False Negatives."
   ]
  },
  {
   "cell_type": "code",
   "execution_count": 8,
   "metadata": {},
   "outputs": [
    {
     "name": "stdout",
     "output_type": "stream",
     "text": [
      "Naive Predictor: [Accuracy score: 0.2478, F-score: 0.2917]\n"
     ]
    }
   ],
   "source": [
    "'''\n",
    "TP = np.sum(income) # Counting the ones as this is the naive case. Note that 'income' is the 'income_raw' data \n",
    "encoded to numerical values done in the data preprocessing step.\n",
    "FP = income.count() - TP # Specific to the naive case\n",
    "\n",
    "TN = 0 # No predicted negatives in the naive case\n",
    "FN = 0 # No predicted negatives in the naive case\n",
    "'''\n",
    "# TODO: Calculate accuracy, precision and recall\n",
    "TP = np.sum(income)\n",
    "FP = income.count() - TP\n",
    "TN = 0\n",
    "FN = 0\n",
    "\n",
    "accuracy = TP/income.count()\n",
    "recall = TP/(TP+FN)\n",
    "precision = TP/(TP+FP)\n",
    "\n",
    "#print(\"Accuracy: {:.4f}, Recall: {:.4f}, Precision: {:0.4f}\".format(accuracy, recall, precision))\n",
    "\n",
    "# TODO: Calculate F-score using the formula above for beta = 0.5 and correct values for precision and recall.\n",
    "beta = 0.5\n",
    "beta_squared = np.square(beta)\n",
    "\n",
    "fscore = (1 + beta_squared)*((precision*recall)/(beta_squared*precision + recall))\n",
    "\n",
    "# Print the results \n",
    "print(\"Naive Predictor: [Accuracy score: {:.4f}, F-score: {:.4f}]\".format(accuracy, fscore))"
   ]
  },
  {
   "cell_type": "markdown",
   "metadata": {},
   "source": [
    "**Answer: **  The naive predictor's accuracy:  0.2478, F-score: 0.2917"
   ]
  },
  {
   "cell_type": "markdown",
   "metadata": {},
   "source": [
    "###  Supervised Learning Models\n",
    "**The following are some of the supervised learning models that are currently available in** [`scikit-learn`](http://scikit-learn.org/stable/supervised_learning.html) **that you may choose from:**\n",
    "- Gaussian Naive Bayes (GaussianNB)\n",
    "- Decision Trees\n",
    "- Ensemble Methods (Bagging, AdaBoost, Random Forest, Gradient Boosting)\n",
    "- K-Nearest Neighbors (KNeighbors)\n",
    "- Stochastic Gradient Descent Classifier (SGDC)\n",
    "- Support Vector Machines (SVM)\n",
    "- Logistic Regression"
   ]
  },
  {
   "cell_type": "markdown",
   "metadata": {},
   "source": [
    "### Question 2 - Model Application\n",
    "List three of the supervised learning models above that are appropriate for this problem that you will test on the census data. For each model chosen\n",
    "\n",
    "- Describe one real-world application in industry where the model can be applied. \n",
    "- What are the strengths of the model; when does it perform well?\n",
    "- What are the weaknesses of the model; when does it perform poorly?\n",
    "- What makes this model a good candidate for the problem, given what you know about the data?\n",
    "\n",
    "** HINT: **\n",
    "\n",
    "Structure your answer in the same format as above^, with 4 parts for each of the three models you pick. Please include references with your answer."
   ]
  },
  {
   "cell_type": "markdown",
   "metadata": {},
   "source": [
    "**Answer: ** I believe the most appropriate models to solve this problem are K-Nearest Neighbours (kNN), Logistic Regression and the ensemble method Gradient Boosting.\n",
    "\n",
    "**K-Nearest Neighbors (kNNs):** \n",
    "- Applications:\n",
    " - have been used in the industry successfully for recommender systems (ref: https://towardsdatascience.com/how-did-we-build-book-recommender-systems-in-an-hour-part-2-k-nearest-neighbors-and-matrix-c04b3c2ef55c ). If you know a user likes a particular item, then you can recommend similar items for them. \n",
    "- Strengths:\n",
    " - This model is popular due to its simplicity, requring only one parameter (k) estimated. \n",
    " - The model is effective where there is a large training database, or many combinations of predictor variables. It is also robust to noisy training data. \n",
    "- Weaknesses:\n",
    " - It provides no information on which predictors are most effective in making a good classification.\n",
    " - The computation cost is high, number of records required increases faster than linearly. \n",
    " - We need to determine the k parameter. \n",
    "- What makes it a good canditate: \n",
    " - It is good to begining with a simple model, as it can be used as 'weak predictors' for more complicated models like ensemble methods like bagging and random forests\n",
    "\n",
    "**Logistic Regression:** \n",
    "- Applications:\n",
    " - In industry, logistic regression is well-known, widely used in healthcare, for example: applying logictics regression to predict patient readmissions (ref: https://hub.packtpub.com/healthcare-analytics-logistic-regression-to-reduce-patient-readmissions ). \n",
    "- Strengths:\n",
    " - It is a fast model to learn and effective on many binary classification problems.\n",
    " - In addition to classification, it's also useful for scoring/ranking due to it's outputs have a nice probabilistic interpretation.\n",
    " - The model is easy to implement and fairly straightforward.\n",
    " - The algorithm can be regularized to avoid overfitting. \n",
    " - Logistic models can be updated easily with new data using stochastic gradient descent. \n",
    "- Weaknesses:\n",
    " - We need to choose correct set of features in order to have a successful model, if we include the wrong features, the model will have little to no predictive value. \n",
    " - The model also does not work well if features are highly correlated with one another.\n",
    " - The model also perform badly when the data is non-linearly separable.\n",
    "- What makes it a good canditate:\n",
    " - The model is useful as a standard benchmark and a starting point to compare with more complex models. \n",
    "\n",
    "**Gradient Boosting:** is an essembly technique which builds a sequence of weak predictor (typically decision trees) models to form a more powerful model. \n",
    "- Applications:\n",
    " - The model is applied widely in industry, one of its applications is sales forecasting in retail demand and sales prediction (ref: https://pdfs.semanticscholar.org/76a2/44f4da1d29170a9f91d381a5e12dc7ad2c0f.pdf ). \n",
    "- Strengths:\n",
    " - The model is often providing good prediction accuracy for many prediction tasks including non-linear. \n",
    " - The model can optimize on different loss functions and provides several hyperparameter tuning options making the model is very flexible.\n",
    " - The model works great with both catagorical, numerical and mising values so no pre-processing  or imputation are required. \n",
    "- Weaknesses:\n",
    " - The model can overfit a training dataset quickly if the data is noisy.\n",
    " - The model generally takes longer to train because of the fact that trees are built sequentially.\n",
    "- What makes it a good canditate:\n",
    " - The data contains heterogenous features with a mix of categorical and numerical features. \n",
    " - The model is a strong predictor and it is the wining model for many classification completitions in Kaggle. \n",
    " - We can tune many hyperparameters in order to achieve a good performance. \n"
   ]
  },
  {
   "cell_type": "markdown",
   "metadata": {},
   "source": [
    "### Implementation - Creating a Training and Predicting Pipeline\n",
    "To properly evaluate the performance of each model you've chosen, it's important that you create a training and predicting pipeline that allows you to quickly and effectively train models using various sizes of training data and perform predictions on the testing data. Your implementation here will be used in the following section.\n",
    "In the code block below, you will need to implement the following:\n",
    " - Import `fbeta_score` and `accuracy_score` from [`sklearn.metrics`](http://scikit-learn.org/stable/modules/classes.html#sklearn-metrics-metrics).\n",
    " - Fit the learner to the sampled training data and record the training time.\n",
    " - Perform predictions on the test data `X_test`, and also on the first 300 training points `X_train[:300]`.\n",
    "   - Record the total prediction time.\n",
    " - Calculate the accuracy score for both the training subset and testing set.\n",
    " - Calculate the F-score for both the training subset and testing set.\n",
    "   - Make sure that you set the `beta` parameter!"
   ]
  },
  {
   "cell_type": "code",
   "execution_count": 9,
   "metadata": {},
   "outputs": [],
   "source": [
    "# TODO: Import two metrics from sklearn - fbeta_score and accuracy_score\n",
    "from sklearn.metrics import fbeta_score, accuracy_score\n",
    "\n",
    "def train_predict(learner, sample_size, X_train, y_train, X_test, y_test): \n",
    "    '''\n",
    "    inputs:\n",
    "       - learner: the learning algorithm to be trained and predicted on\n",
    "       - sample_size: the size of samples (number) to be drawn from training set\n",
    "       - X_train: features training set\n",
    "       - y_train: income training set\n",
    "       - X_test: features testing set\n",
    "       - y_test: income testing set\n",
    "    '''\n",
    "    \n",
    "    results = {}\n",
    "    \n",
    "    # TODO: Fit the learner to the training data using slicing with 'sample_size' using .fit(training_features[:], training_labels[:])\n",
    "    start = time() # Get start time\n",
    "    learner = learner.fit(X_train[:sample_size], y_train[:sample_size]) \n",
    "    end = time() # Get end time\n",
    "    \n",
    "    # TODO: Calculate the training time\n",
    "    results['train_time'] = end-start\n",
    "        \n",
    "    # TODO: Get the predictions on the test set(X_test),\n",
    "    #       then get predictions on the first 300 training samples(X_train) using .predict()\n",
    "    start = time() # Get start time\n",
    "    predictions_test = learner.predict(X_test)\n",
    "    predictions_train = learner.predict(X_train[:300])\n",
    "    end = time() # Get end time\n",
    "    \n",
    "    # TODO: Calculate the total prediction time\n",
    "    results['pred_time'] = end-start\n",
    "            \n",
    "    # TODO: Compute accuracy on the first 300 training samples which is y_train[:300]\n",
    "    results['acc_train'] = accuracy_score(y_train[:300], predictions_train)\n",
    "        \n",
    "    # TODO: Compute accuracy on test set using accuracy_score()\n",
    "    results['acc_test'] = accuracy_score(y_test, predictions_test)\n",
    "    \n",
    "    # TODO: Compute F-score on the the first 300 training samples using fbeta_score()\n",
    "    results['f_train'] = fbeta_score(y_train[:300], predictions_train, beta=0.5)\n",
    "        \n",
    "    # TODO: Compute F-score on the test set which is y_test\n",
    "    results['f_test'] = fbeta_score(y_test, predictions_test, beta=0.5)\n",
    "       \n",
    "    # Success\n",
    "    print(\"{} trained on {} samples.\".format(learner.__class__.__name__, sample_size))\n",
    "        \n",
    "    # Return the results\n",
    "    return results"
   ]
  },
  {
   "cell_type": "markdown",
   "metadata": {},
   "source": [
    "### Implementation: Initial Model Evaluation\n",
    "In the code cell, you will need to implement the following:\n",
    "- Import the three supervised learning models you've discussed in the previous section.\n",
    "- Initialize the three models and store them in `'clf_A'`, `'clf_B'`, and `'clf_C'`.\n",
    "  - Use a `'random_state'` for each model you use, if provided.\n",
    "  - **Note:** Use the default settings for each model — you will tune one specific model in a later section.\n",
    "- Calculate the number of records equal to 1%, 10%, and 100% of the training data.\n",
    "  - Store those values in `'samples_1'`, `'samples_10'`, and `'samples_100'` respectively.\n",
    "\n",
    "**Note:** Depending on which algorithms you chose, the following implementation may take some time to run!"
   ]
  },
  {
   "cell_type": "code",
   "execution_count": 10,
   "metadata": {},
   "outputs": [
    {
     "name": "stdout",
     "output_type": "stream",
     "text": [
      "KNeighborsClassifier trained on 361 samples.\n",
      "KNeighborsClassifier trained on 3617 samples.\n",
      "KNeighborsClassifier trained on 36177 samples.\n",
      "LogisticRegression trained on 361 samples.\n",
      "LogisticRegression trained on 3617 samples.\n",
      "LogisticRegression trained on 36177 samples.\n",
      "GradientBoostingClassifier trained on 361 samples.\n",
      "GradientBoostingClassifier trained on 3617 samples.\n",
      "GradientBoostingClassifier trained on 36177 samples.\n"
     ]
    },
    {
     "data": {
      "image/png": "[encoded data removed]",
      "text/plain": [
       "<matplotlib.figure.Figure at 0x7f8396d882b0>"
      ]
     },
     "metadata": {},
     "output_type": "display_data"
    }
   ],
   "source": [
    "# TODO: Import the three supervised learning models from sklearn\n",
    "from sklearn.naive_bayes import GaussianNB\n",
    "from sklearn.ensemble import AdaBoostClassifier\n",
    "from sklearn.neighbors import KNeighborsClassifier\n",
    "from sklearn.svm import SVC\n",
    "from sklearn.linear_model import LogisticRegression\n",
    "from sklearn.tree import DecisionTreeClassifier\n",
    "from sklearn.linear_model import SGDClassifier\n",
    "from sklearn.ensemble import RandomForestClassifier\n",
    "from sklearn.ensemble import GradientBoostingClassifier\n",
    "from sklearn.svm import LinearSVC \n",
    "# TODO: Initialize the three models\n",
    "\n",
    "clf_A = KNeighborsClassifier()\n",
    "clf_B = LogisticRegression(random_state=30)\n",
    "clf_C = GradientBoostingClassifier(random_state=30)\n",
    "\n",
    "\n",
    "# TODO: Calculate the number of samples for 1%, 10%, and 100% of the training data\n",
    "# HINT: samples_100 is the entire training set i.e. len(y_train)\n",
    "# HINT: samples_10 is 10% of samples_100 (ensure to set the count of the values to be `int` and not `float`)\n",
    "# HINT: samples_1 is 1% of samples_100 (ensure to set the count of the values to be `int` and not `float`)\n",
    "samples_100 = len(y_train)\n",
    "samples_10 = (int)(len(y_train) * 0.1)\n",
    "samples_1 = (int)(len(y_train) * 0.01)\n",
    "\n",
    "# Collect results on the learners\n",
    "results = {}\n",
    "for clf in [clf_A, clf_B, clf_C]:\n",
    "    clf_name = clf.__class__.__name__\n",
    "    results[clf_name] = {}\n",
    "    for i, samples in enumerate([samples_1, samples_10, samples_100]):\n",
    "        results[clf_name][i] = \\\n",
    "        train_predict(clf, samples, X_train, y_train, X_test, y_test)\n",
    "\n",
    "# Run metrics visualization for the three supervised learning models chosen\n",
    "vs.evaluate(results, accuracy, fscore)"
   ]
  },
  {
   "cell_type": "markdown",
   "metadata": {},
   "source": [
    "----\n",
    "## Improving Results\n",
    "In this final section, you will choose from the three supervised learning models the *best* model to use on the student data. You will then perform a grid search optimization for the model over the entire training set (`X_train` and `y_train`) by tuning at least one parameter to improve upon the untuned model's F-score. "
   ]
  },
  {
   "cell_type": "markdown",
   "metadata": {},
   "source": [
    "### Question 3 - Choosing the Best Model\n",
    "\n",
    "* Based on the evaluation you performed earlier, in one to two paragraphs, explain to *CharityML* which of the three models you believe to be most appropriate for the task of identifying individuals that make more than \\$50,000. \n",
    "\n",
    "** HINT: ** \n",
    "Look at the graph at the bottom left from the cell above(the visualization created by `vs.evaluate(results, accuracy, fscore)`) and check the F score for the testing set when 100% of the training set is used. Which model has the highest score? Your answer should include discussion of the:\n",
    "* metrics - F score on the testing when 100% of the training data is used, \n",
    "* prediction/training time\n",
    "* the algorithm's suitability for the data."
   ]
  },
  {
   "cell_type": "markdown",
   "metadata": {},
   "source": [
    "**Answer: ** From the graphs above, it is clear that the Gradient Boosting Classifier is the most appropriate for the task of indentifying individuals that make more than $50,000. This is because it achieved the highest scores on both accuracy and F-score for testing set among all other evaluated models. It, also, is one of the fastest for prediction time. While the model is the slowest for training time, which was expected due to multiple trees were built sequentially, and it is a trade off for a better prediction. \n",
    "\n",
    " "
   ]
  },
  {
   "cell_type": "markdown",
   "metadata": {},
   "source": [
    "### Question 4 - Describing the Model in Layman's Terms\n",
    "\n",
    "* In one to two paragraphs, explain to *CharityML*, in layman's terms, how the final model chosen is supposed to work. Be sure that you are describing the major qualities of the model, such as how the model is trained and how the model makes a prediction. Avoid using advanced mathematical jargon, such as describing equations.\n",
    "\n",
    "** HINT: **\n",
    "\n",
    "When explaining your model, if using external resources please include all citations."
   ]
  },
  {
   "cell_type": "markdown",
   "metadata": {},
   "source": [
    "**Answer: ** \n",
    " \n",
    "Gradient boosting is a type of boosting technique. It relies on the intuition that a stronger model possible next model, when combined with previous models, minimizes a pre-defined loss function. The key idea is to set the target outcomes for  next model in order to minimize the error from the previous model. Each new model takes a step in the direction that minimizes prediction error, in the space of possible predictions for each training case.\n",
    "\n",
    "Gradient boosting involves three elements:\n",
    "- A loss function to be optimized. Any loss function which is differentiable can be used. We can use standard loss functions are supported and you can define your own. For example, regression may use a squared error and classification may use logarithmic loss.\n",
    "- A weak learner to make predictions. Decision trees are normally used as the weak learner in gradient boosting.\n",
    "- An additive model to add weak learners to minimize the loss function. The model consists of ensemble of trees where trees are added one at a time, and existing trees in the model stays the same. A gradient descent procedure is used to minimize the loss when adding trees. After calculating error or loss, the weights are updated to minimize that error. After calculating the loss, to perform the gradient descent procedure, we must add a tree to the model that reduces the loss (i.e. follow the gradient). \n",
    "\n",
    "rerferences:\n",
    "1. https://en.wikipedia.org/wiki/Gradient_boosting\n",
    "2. https://www.displayr.com/gradient-boosting-the-coolest-kid-on-the-machine-learning-block/\n",
    "3. https://machinelearningmastery.com/gentle-introduction-gradient-boosting-algorithm-machine-learning/\n",
    "4. https://hackernoon.com/gradient-boosting-and-xgboost-90862daa6c77"
   ]
  },
  {
   "cell_type": "markdown",
   "metadata": {},
   "source": [
    "### Implementation: Model Tuning\n",
    "Fine tune the chosen model. Use grid search (`GridSearchCV`) with at least one important parameter tuned with at least 3 different values. You will need to use the entire training set for this. In the code cell below, you will need to implement the following:\n",
    "- Import [`sklearn.grid_search.GridSearchCV`](http://scikit-learn.org/0.17/modules/generated/sklearn.grid_search.GridSearchCV.html) and [`sklearn.metrics.make_scorer`](http://scikit-learn.org/stable/modules/generated/sklearn.metrics.make_scorer.html).\n",
    "- Initialize the classifier you've chosen and store it in `clf`.\n",
    " - Set a `random_state` if one is available to the same state you set before.\n",
    "- Create a dictionary of parameters you wish to tune for the chosen model.\n",
    " - Example: `parameters = {'parameter' : [list of values]}`.\n",
    " - **Note:** Avoid tuning the `max_features` parameter of your learner if that parameter is available!\n",
    "- Use `make_scorer` to create an `fbeta_score` scoring object (with $\\beta = 0.5$).\n",
    "- Perform grid search on the classifier `clf` using the `'scorer'`, and store it in `grid_obj`.\n",
    "- Fit the grid search object to the training data (`X_train`, `y_train`), and store it in `grid_fit`.\n",
    "\n",
    "**Note:** Depending on the algorithm chosen and the parameter list, the following implementation may take some time to run!"
   ]
  },
  {
   "cell_type": "code",
   "execution_count": 13,
   "metadata": {},
   "outputs": [
    {
     "name": "stdout",
     "output_type": "stream",
     "text": [
      "Fitting 10 folds for each of 125 candidates, totalling 1250 fits\n",
      "[CV] learning_rate=0.02, max_depth=2, n_estimators=25 ................\n",
      "[CV] learning_rate=0.02, max_depth=2, n_estimators=25 ................\n",
      "[CV] learning_rate=0.02, max_depth=2, n_estimators=25 ................\n",
      "[CV] learning_rate=0.02, max_depth=2, n_estimators=25 ................\n",
      "[CV] learning_rate=0.02, max_depth=2, n_estimators=25 ................\n",
      "[CV] learning_rate=0.02, max_depth=2, n_estimators=25 ................\n",
      "[CV] learning_rate=0.02, max_depth=2, n_estimators=25 ................\n",
      "[CV] learning_rate=0.02, max_depth=2, n_estimators=25 ................\n",
      "[CV]  learning_rate=0.02, max_depth=2, n_estimators=25, score=0.17357762777242045, total=   3.2s\n",
      "[CV] learning_rate=0.02, max_depth=2, n_estimators=25 ................\n",
      "[CV]  learning_rate=0.02, max_depth=2, n_estimators=25, score=0.15173764072442486, total=   3.3s\n",
      "[CV] learning_rate=0.02, max_depth=2, n_estimators=25 ................\n",
      "[CV]  learning_rate=0.02, max_depth=2, n_estimators=25, score=0.16244624940277116, total=   3.5s\n",
      "[CV]  learning_rate=0.02, max_depth=2, n_estimators=25, score=0.18101761252446183, total=   3.5s\n",
      "[CV] learning_rate=0.02, max_depth=2, n_estimators=50 ................\n",
      "[CV] learning_rate=0.02, max_depth=2, n_estimators=50 ................\n"
     ]
    },
    {
     "name": "stderr",
     "output_type": "stream",
     "text": [
      "[Parallel(n_jobs=-1)]: Done   2 tasks      | elapsed:    3.7s\n"
     ]
    },
    {
     "name": "stdout",
     "output_type": "stream",
     "text": [
      "[CV]  learning_rate=0.02, max_depth=2, n_estimators=25, score=0.1718377088305489, total=   3.7s\n",
      "[CV]  learning_rate=0.02, max_depth=2, n_estimators=25, score=0.15180722891566265, total=   3.8s\n",
      "[CV] learning_rate=0.02, max_depth=2, n_estimators=50 ................\n",
      "[CV]  learning_rate=0.02, max_depth=2, n_estimators=25, score=0.1752336448598131, total=   3.8s\n",
      "[CV] learning_rate=0.02, max_depth=2, n_estimators=50 ................\n",
      "[CV] learning_rate=0.02, max_depth=2, n_estimators=50 ................\n",
      "[CV]  learning_rate=0.02, max_depth=2, n_estimators=25, score=0.17403574788334902, total=   3.8s\n",
      "[CV] learning_rate=0.02, max_depth=2, n_estimators=50 ................\n",
      "[CV]  learning_rate=0.02, max_depth=2, n_estimators=25, score=0.16214908034849948, total=   3.7s\n",
      "[CV] learning_rate=0.02, max_depth=2, n_estimators=50 ................\n",
      "[CV]  learning_rate=0.02, max_depth=2, n_estimators=25, score=0.15570065293822197, total=   3.5s\n"
     ]
    },
    {
     "name": "stderr",
     "output_type": "stream",
     "text": [
      "[Parallel(n_jobs=-1)]: Done   9 tasks      | elapsed:    7.3s\n"
     ]
    },
    {
     "name": "stdout",
     "output_type": "stream",
     "text": [
      "[CV] learning_rate=0.02, max_depth=2, n_estimators=50 ................\n",
      "[CV]  learning_rate=0.02, max_depth=2, n_estimators=50, score=0.5374128091312619, total=   6.1s\n",
      "[CV] learning_rate=0.02, max_depth=2, n_estimators=50 ................\n",
      "[CV]  learning_rate=0.02, max_depth=2, n_estimators=50, score=0.4670698924731182, total=   5.8s\n",
      "[CV] learning_rate=0.02, max_depth=2, n_estimators=50 ................\n",
      "[CV]  learning_rate=0.02, max_depth=2, n_estimators=50, score=0.5603835780641295, total=   6.5s\n",
      "[CV] learning_rate=0.02, max_depth=2, n_estimators=100 ...............\n",
      "[CV]  learning_rate=0.02, max_depth=2, n_estimators=50, score=0.5777439024390243, total=   6.4s\n",
      "[CV]  learning_rate=0.02, max_depth=2, n_estimators=50, score=0.46032291308828577, total=   6.5s\n",
      "[CV] learning_rate=0.02, max_depth=2, n_estimators=100 ...............\n",
      "[CV] learning_rate=0.02, max_depth=2, n_estimators=100 ...............\n",
      "[CV]  learning_rate=0.02, max_depth=2, n_estimators=50, score=0.49045865416806167, total=   6.6s\n",
      "[CV] learning_rate=0.02, max_depth=2, n_estimators=100 ...............\n"
     ]
    },
    {
     "name": "stderr",
     "output_type": "stream",
     "text": [
      "[Parallel(n_jobs=-1)]: Done  16 tasks      | elapsed:   11.0s\n"
     ]
    },
    {
     "name": "stdout",
     "output_type": "stream",
     "text": [
      "[CV]  learning_rate=0.02, max_depth=2, n_estimators=50, score=0.4658815379286456, total=   6.3s\n",
      "[CV] learning_rate=0.02, max_depth=2, n_estimators=100 ...............\n",
      "[CV]  learning_rate=0.02, max_depth=2, n_estimators=50, score=0.4878048780487805, total=   6.4s\n",
      "[CV] learning_rate=0.02, max_depth=2, n_estimators=100 ...............\n",
      "[CV]  learning_rate=0.02, max_depth=2, n_estimators=50, score=0.5444170265268353, total=   6.5s\n",
      "[CV] learning_rate=0.02, max_depth=2, n_estimators=100 ...............\n",
      "[CV]  learning_rate=0.02, max_depth=2, n_estimators=50, score=0.4798598949211909, total=   6.3s\n",
      "[CV] learning_rate=0.02, max_depth=2, n_estimators=100 ...............\n",
      "[CV]  learning_rate=0.02, max_depth=2, n_estimators=100, score=0.6872381566226232, total=  11.7s\n",
      "[CV] learning_rate=0.02, max_depth=2, n_estimators=100 ...............\n",
      "[CV]  learning_rate=0.02, max_depth=2, n_estimators=100, score=0.7167315175097275, total=  11.8s\n",
      "[CV] learning_rate=0.02, max_depth=2, n_estimators=100 ...............\n",
      "[CV]  learning_rate=0.02, max_depth=2, n_estimators=100, score=0.7169900615238998, total=  11.8s\n",
      "[CV] learning_rate=0.02, max_depth=2, n_estimators=200 ...............\n",
      "[CV]  learning_rate=0.02, max_depth=2, n_estimators=100, score=0.695551128818061, total=  12.2s\n",
      "[CV] learning_rate=0.02, max_depth=2, n_estimators=200 ...............\n",
      "[CV]  learning_rate=0.02, max_depth=2, n_estimators=100, score=0.7093588336729895, total=  11.7s\n",
      "[CV] learning_rate=0.02, max_depth=2, n_estimators=200 ...............\n"
     ]
    },
    {
     "name": "stderr",
     "output_type": "stream",
     "text": [
      "[Parallel(n_jobs=-1)]: Done  25 tasks      | elapsed:   25.8s\n"
     ]
    },
    {
     "name": "stdout",
     "output_type": "stream",
     "text": [
      "[CV]  learning_rate=0.02, max_depth=2, n_estimators=100, score=0.7044728434504792, total=  11.9s\n",
      "[CV] learning_rate=0.02, max_depth=2, n_estimators=200 ...............\n",
      "[CV]  learning_rate=0.02, max_depth=2, n_estimators=100, score=0.6935348446683459, total=  11.4s\n",
      "[CV] learning_rate=0.02, max_depth=2, n_estimators=200 ...............\n",
      "[CV]  learning_rate=0.02, max_depth=2, n_estimators=100, score=0.7099049371358479, total=  12.0s\n",
      "[CV] learning_rate=0.02, max_depth=2, n_estimators=200 ...............\n",
      "[CV]  learning_rate=0.02, max_depth=2, n_estimators=100, score=0.7042712748614279, total=  11.6s\n",
      "[CV] learning_rate=0.02, max_depth=2, n_estimators=200 ...............\n",
      "[CV]  learning_rate=0.02, max_depth=2, n_estimators=100, score=0.6953805687982904, total=  12.0s\n",
      "[CV] learning_rate=0.02, max_depth=2, n_estimators=200 ...............\n",
      "[CV]  learning_rate=0.02, max_depth=2, n_estimators=200, score=0.7076780758556891, total=  22.7s\n",
      "[CV] learning_rate=0.02, max_depth=2, n_estimators=200 ...............\n",
      "[CV]  learning_rate=0.02, max_depth=2, n_estimators=200, score=0.7342401638145385, total=  23.0s\n",
      "[CV] learning_rate=0.02, max_depth=2, n_estimators=200 ...............\n",
      "[CV]  learning_rate=0.02, max_depth=2, n_estimators=200, score=0.7107250755287009, total=  23.5s\n",
      "[CV] learning_rate=0.02, max_depth=2, n_estimators=400 ...............\n",
      "[CV]  learning_rate=0.02, max_depth=2, n_estimators=200, score=0.7363489972185624, total=  24.2s\n",
      "[CV] learning_rate=0.02, max_depth=2, n_estimators=400 ...............\n"
     ]
    },
    {
     "name": "stderr",
     "output_type": "stream",
     "text": [
      "[Parallel(n_jobs=-1)]: Done  34 tasks      | elapsed:   50.5s\n"
     ]
    },
    {
     "name": "stdout",
     "output_type": "stream",
     "text": [
      "[CV]  learning_rate=0.02, max_depth=2, n_estimators=200, score=0.7335482925399384, total=  23.1s\n",
      "[CV] learning_rate=0.02, max_depth=2, n_estimators=400 ...............\n",
      "[CV]  learning_rate=0.02, max_depth=2, n_estimators=200, score=0.7235676314235084, total=  22.6s\n",
      "[CV] learning_rate=0.02, max_depth=2, n_estimators=400 ...............\n",
      "[CV]  learning_rate=0.02, max_depth=2, n_estimators=200, score=0.7214996174445295, total=  23.0s\n",
      "[CV] learning_rate=0.02, max_depth=2, n_estimators=400 ...............\n",
      "[CV]  learning_rate=0.02, max_depth=2, n_estimators=200, score=0.7263853000287108, total=  22.8s\n",
      "[CV] learning_rate=0.02, max_depth=2, n_estimators=400 ...............\n",
      "[CV]  learning_rate=0.02, max_depth=2, n_estimators=200, score=0.7259281617869, total=  23.3s\n",
      "[CV] learning_rate=0.02, max_depth=2, n_estimators=400 ...............\n",
      "[CV]  learning_rate=0.02, max_depth=2, n_estimators=200, score=0.715143328830857, total=  22.8s\n",
      "[CV] learning_rate=0.02, max_depth=2, n_estimators=400 ...............\n",
      "[CV]  learning_rate=0.02, max_depth=2, n_estimators=400, score=0.7111882046834345, total=  44.0s\n",
      "[CV] learning_rate=0.02, max_depth=2, n_estimators=400 ...............\n",
      "[CV]  learning_rate=0.02, max_depth=2, n_estimators=400, score=0.7488730551112404, total=  44.0s\n",
      "[CV] learning_rate=0.02, max_depth=2, n_estimators=400 ...............\n",
      "[CV]  learning_rate=0.02, max_depth=2, n_estimators=400, score=0.7143886966551328, total=  43.5s\n",
      "[CV] learning_rate=0.02, max_depth=3, n_estimators=25 ................\n",
      "[CV]  learning_rate=0.02, max_depth=2, n_estimators=400, score=0.7426942266571633, total=  44.0s\n",
      "[CV] learning_rate=0.02, max_depth=3, n_estimators=25 ................\n",
      "[CV]  learning_rate=0.02, max_depth=3, n_estimators=25, score=0.5214424951267057, total=   5.5s\n",
      "[CV] learning_rate=0.02, max_depth=3, n_estimators=25 ................\n",
      "[CV]  learning_rate=0.02, max_depth=2, n_estimators=400, score=0.7399167503947179, total=  43.8s\n",
      "[CV] learning_rate=0.02, max_depth=3, n_estimators=25 ................\n",
      "[CV]  learning_rate=0.02, max_depth=3, n_estimators=25, score=0.543042270904042, total=   5.5s\n",
      "[CV] learning_rate=0.02, max_depth=3, n_estimators=25 ................\n"
     ]
    },
    {
     "name": "stderr",
     "output_type": "stream",
     "text": [
      "[Parallel(n_jobs=-1)]: Done  45 tasks      | elapsed:  1.7min\n"
     ]
    },
    {
     "name": "stdout",
     "output_type": "stream",
     "text": [
      "[CV]  learning_rate=0.02, max_depth=2, n_estimators=400, score=0.7345802398629355, total=  44.5s\n",
      "[CV] learning_rate=0.02, max_depth=3, n_estimators=25 ................\n",
      "[CV]  learning_rate=0.02, max_depth=3, n_estimators=25, score=0.5664794007490638, total=   5.5s\n",
      "[CV]  learning_rate=0.02, max_depth=3, n_estimators=25, score=0.5291338582677165, total=   5.5s\n",
      "[CV] learning_rate=0.02, max_depth=3, n_estimators=25 ................\n",
      "[CV] learning_rate=0.02, max_depth=3, n_estimators=25 ................\n",
      "[CV]  learning_rate=0.02, max_depth=3, n_estimators=25, score=0.525984251968504, total=   5.8s\n",
      "[CV] learning_rate=0.02, max_depth=3, n_estimators=25 ................\n",
      "[CV]  learning_rate=0.02, max_depth=3, n_estimators=25, score=0.5142405063291139, total=   5.4s\n",
      "[CV] learning_rate=0.02, max_depth=3, n_estimators=25 ................\n",
      "[CV]  learning_rate=0.02, max_depth=3, n_estimators=25, score=0.541332510795805, total=   5.4s\n",
      "[CV] learning_rate=0.02, max_depth=3, n_estimators=50 ................\n",
      "[CV]  learning_rate=0.02, max_depth=3, n_estimators=25, score=0.5132396207911082, total=   5.5s\n",
      "[CV] learning_rate=0.02, max_depth=3, n_estimators=50 ................\n",
      "[CV]  learning_rate=0.02, max_depth=3, n_estimators=25, score=0.5065573770491805, total=   5.6s\n",
      "[CV] learning_rate=0.02, max_depth=3, n_estimators=50 ................\n",
      "[CV]  learning_rate=0.02, max_depth=2, n_estimators=400, score=0.7344750765803398, total=  43.3s\n",
      "[CV] learning_rate=0.02, max_depth=3, n_estimators=50 ................\n"
     ]
    },
    {
     "name": "stderr",
     "output_type": "stream",
     "text": [
      "[Parallel(n_jobs=-1)]: Done  56 tasks      | elapsed:  1.9min\n"
     ]
    },
    {
     "name": "stdout",
     "output_type": "stream",
     "text": [
      "[CV]  learning_rate=0.02, max_depth=2, n_estimators=400, score=0.7277868730465843, total=  44.5s\n",
      "[CV] learning_rate=0.02, max_depth=3, n_estimators=50 ................\n",
      "[CV]  learning_rate=0.02, max_depth=3, n_estimators=25, score=0.5251066622907777, total=   5.7s\n",
      "[CV] learning_rate=0.02, max_depth=3, n_estimators=50 ................\n",
      "[CV]  learning_rate=0.02, max_depth=3, n_estimators=50, score=0.6839699640874959, total=  10.5s\n",
      "[CV] learning_rate=0.02, max_depth=3, n_estimators=50 ................\n",
      "[CV]  learning_rate=0.02, max_depth=3, n_estimators=50, score=0.7174302951247351, total=  10.5s\n",
      "[CV] learning_rate=0.02, max_depth=3, n_estimators=50 ................\n",
      "[CV]  learning_rate=0.02, max_depth=3, n_estimators=50, score=0.7056956739602471, total=  10.4s\n",
      "[CV] learning_rate=0.02, max_depth=3, n_estimators=50 ................\n",
      "[CV]  learning_rate=0.02, max_depth=3, n_estimators=50, score=0.6965214564369311, total=  10.6s\n",
      "[CV] learning_rate=0.02, max_depth=3, n_estimators=50 ................\n",
      "[CV]  learning_rate=0.02, max_depth=3, n_estimators=50, score=0.7063603688076262, total=  10.4s\n",
      "[CV] learning_rate=0.02, max_depth=3, n_estimators=100 ...............\n",
      "[CV]  learning_rate=0.02, max_depth=3, n_estimators=50, score=0.7034282018111254, total=  10.5s\n",
      "[CV] learning_rate=0.02, max_depth=3, n_estimators=100 ...............\n",
      "[CV]  learning_rate=0.02, max_depth=3, n_estimators=50, score=0.6948250846364662, total=  10.6s\n",
      "[CV] learning_rate=0.02, max_depth=3, n_estimators=100 ...............\n",
      "[CV]  learning_rate=0.02, max_depth=3, n_estimators=50, score=0.7082952119548643, total=  10.6s\n",
      "[CV] learning_rate=0.02, max_depth=3, n_estimators=100 ...............\n",
      "[CV]  learning_rate=0.02, max_depth=3, n_estimators=50, score=0.7087072116982386, total=  10.6s\n",
      "[CV] learning_rate=0.02, max_depth=3, n_estimators=100 ...............\n",
      "[CV]  learning_rate=0.02, max_depth=3, n_estimators=50, score=0.6997538966365874, total=  10.7s\n",
      "[CV] learning_rate=0.02, max_depth=3, n_estimators=100 ...............\n",
      "[CV]  learning_rate=0.02, max_depth=2, n_estimators=400, score=0.7299912049252419, total=  42.1s\n",
      "[CV] learning_rate=0.02, max_depth=3, n_estimators=100 ...............\n"
     ]
    },
    {
     "name": "stderr",
     "output_type": "stream",
     "text": [
      "[Parallel(n_jobs=-1)]: Done  69 tasks      | elapsed:  2.3min\n"
     ]
    },
    {
     "name": "stdout",
     "output_type": "stream",
     "text": [
      "[CV]  learning_rate=0.02, max_depth=2, n_estimators=400, score=0.7294525494727719, total=  42.6s\n",
      "[CV] learning_rate=0.02, max_depth=3, n_estimators=100 ...............\n",
      "[CV]  learning_rate=0.02, max_depth=3, n_estimators=100, score=0.6958925750394945, total=  20.5s\n",
      "[CV] learning_rate=0.02, max_depth=3, n_estimators=100 ...............\n",
      "[CV]  learning_rate=0.02, max_depth=3, n_estimators=100, score=0.7271025120923702, total=  20.6s\n",
      "[CV] learning_rate=0.02, max_depth=3, n_estimators=100 ...............\n",
      "[CV]  learning_rate=0.02, max_depth=3, n_estimators=100, score=0.72611859420963, total=  20.3s\n",
      "[CV] learning_rate=0.02, max_depth=3, n_estimators=200 ...............\n",
      "[CV]  learning_rate=0.02, max_depth=3, n_estimators=100, score=0.7101381042059006, total=  20.5s\n",
      "[CV] learning_rate=0.02, max_depth=3, n_estimators=200 ...............\n",
      "[CV]  learning_rate=0.02, max_depth=3, n_estimators=100, score=0.7206174537673848, total=  20.3s\n",
      "[CV] learning_rate=0.02, max_depth=3, n_estimators=200 ...............\n",
      "[CV]  learning_rate=0.02, max_depth=3, n_estimators=100, score=0.7149591451917033, total=  20.2s\n",
      "[CV] learning_rate=0.02, max_depth=3, n_estimators=200 ...............\n",
      "[CV]  learning_rate=0.02, max_depth=3, n_estimators=100, score=0.7130351742798027, total=  20.4s\n",
      "[CV] learning_rate=0.02, max_depth=3, n_estimators=200 ...............\n",
      "[CV]  learning_rate=0.02, max_depth=3, n_estimators=100, score=0.7197082465019351, total=  20.9s\n",
      "[CV] learning_rate=0.02, max_depth=3, n_estimators=200 ...............\n",
      "[CV]  learning_rate=0.02, max_depth=3, n_estimators=100, score=0.7162076606521051, total=  20.5s\n",
      "[CV] learning_rate=0.02, max_depth=3, n_estimators=200 ...............\n",
      "[CV]  learning_rate=0.02, max_depth=3, n_estimators=100, score=0.7082603851663217, total=  20.6s\n",
      "[CV] learning_rate=0.02, max_depth=3, n_estimators=200 ...............\n",
      "[CV]  learning_rate=0.02, max_depth=3, n_estimators=200, score=0.7479674796747968, total=  39.4s\n",
      "[CV] learning_rate=0.02, max_depth=3, n_estimators=200 ...............\n",
      "[CV]  learning_rate=0.02, max_depth=3, n_estimators=200, score=0.7442942288123274, total=  39.3s\n",
      "[CV] learning_rate=0.02, max_depth=3, n_estimators=200 ...............\n",
      "[CV]  learning_rate=0.02, max_depth=3, n_estimators=200, score=0.7244234180958014, total=  39.0s\n",
      "[CV] learning_rate=0.02, max_depth=3, n_estimators=400 ...............\n"
     ]
    },
    {
     "name": "stderr",
     "output_type": "stream",
     "text": [
      "[Parallel(n_jobs=-1)]: Done  82 tasks      | elapsed:  3.3min\n"
     ]
    },
    {
     "name": "stdout",
     "output_type": "stream",
     "text": [
      "[CV]  learning_rate=0.02, max_depth=3, n_estimators=200, score=0.7146064052678838, total=  40.2s\n",
      "[CV] learning_rate=0.02, max_depth=3, n_estimators=400 ...............\n",
      "[CV]  learning_rate=0.02, max_depth=3, n_estimators=200, score=0.7427349166543736, total=  39.2s\n",
      "[CV] learning_rate=0.02, max_depth=3, n_estimators=400 ...............\n",
      "[CV]  learning_rate=0.02, max_depth=3, n_estimators=200, score=0.732608695652174, total=  39.5s\n",
      "[CV] learning_rate=0.02, max_depth=3, n_estimators=400 ...............\n",
      "[CV]  learning_rate=0.02, max_depth=3, n_estimators=200, score=0.7325279094662793, total=  39.6s\n",
      "[CV] learning_rate=0.02, max_depth=3, n_estimators=400 ...............\n",
      "[CV]  learning_rate=0.02, max_depth=3, n_estimators=200, score=0.7377049180327869, total=  39.5s\n",
      "[CV] learning_rate=0.02, max_depth=3, n_estimators=400 ...............\n",
      "[CV]  learning_rate=0.02, max_depth=3, n_estimators=200, score=0.7312518673438902, total=  39.1s\n",
      "[CV] learning_rate=0.02, max_depth=3, n_estimators=400 ...............\n",
      "[CV]  learning_rate=0.02, max_depth=3, n_estimators=200, score=0.7299540536534755, total=  39.3s\n",
      "[CV] learning_rate=0.02, max_depth=3, n_estimators=400 ...............\n",
      "[CV]  learning_rate=0.02, max_depth=3, n_estimators=400, score=0.7571999448808048, total= 1.2min\n",
      "[CV] learning_rate=0.02, max_depth=3, n_estimators=400 ...............\n",
      "[CV]  learning_rate=0.02, max_depth=3, n_estimators=400, score=0.7214386459802539, total= 1.3min\n",
      "[CV] learning_rate=0.02, max_depth=3, n_estimators=400 ...............\n",
      "[CV]  learning_rate=0.02, max_depth=3, n_estimators=400, score=0.760229916518407, total= 1.3min\n",
      "[CV] learning_rate=0.02, max_depth=5, n_estimators=25 ................\n",
      "[CV]  learning_rate=0.02, max_depth=3, n_estimators=400, score=0.7298050139275766, total= 1.3min\n",
      "[CV] learning_rate=0.02, max_depth=5, n_estimators=25 ................\n",
      "[CV]  learning_rate=0.02, max_depth=3, n_estimators=400, score=0.7513566161124252, total= 1.3min\n",
      "[CV] learning_rate=0.02, max_depth=5, n_estimators=25 ................\n",
      "[CV]  learning_rate=0.02, max_depth=3, n_estimators=400, score=0.7437227074235809, total= 1.3min\n",
      "[CV] learning_rate=0.02, max_depth=5, n_estimators=25 ................\n",
      "[CV]  learning_rate=0.02, max_depth=5, n_estimators=25, score=0.5743449116392444, total=  12.3s\n",
      "[CV] learning_rate=0.02, max_depth=5, n_estimators=25 ................\n"
     ]
    },
    {
     "name": "stderr",
     "output_type": "stream",
     "text": [
      "[Parallel(n_jobs=-1)]: Done  97 tasks      | elapsed:  4.8min\n"
     ]
    },
    {
     "name": "stdout",
     "output_type": "stream",
     "text": [
      "[CV]  learning_rate=0.02, max_depth=5, n_estimators=25, score=0.5931471350417505, total=  12.5s\n",
      "[CV] learning_rate=0.02, max_depth=5, n_estimators=25 ................\n",
      "[CV]  learning_rate=0.02, max_depth=5, n_estimators=25, score=0.5948007911839502, total=  12.5s\n",
      "[CV] learning_rate=0.02, max_depth=5, n_estimators=25 ................\n",
      "[CV]  learning_rate=0.02, max_depth=5, n_estimators=25, score=0.6141114982578396, total=  12.1s\n",
      "[CV] learning_rate=0.02, max_depth=5, n_estimators=25 ................\n",
      "[CV]  learning_rate=0.02, max_depth=5, n_estimators=25, score=0.5875542691751086, total=  12.1s\n",
      "[CV] learning_rate=0.02, max_depth=5, n_estimators=25 ................\n",
      "[CV]  learning_rate=0.02, max_depth=5, n_estimators=25, score=0.5882352941176471, total=  11.8s\n",
      "[CV] learning_rate=0.02, max_depth=5, n_estimators=25 ................\n",
      "[CV]  learning_rate=0.02, max_depth=5, n_estimators=25, score=0.5739680626694788, total=  12.3s\n",
      "[CV] learning_rate=0.02, max_depth=5, n_estimators=50 ................\n",
      "[CV]  learning_rate=0.02, max_depth=5, n_estimators=25, score=0.6020350480497456, total=  12.1s\n",
      "[CV] learning_rate=0.02, max_depth=5, n_estimators=50 ................\n",
      "[CV]  learning_rate=0.02, max_depth=5, n_estimators=25, score=0.5762358546754021, total=  12.2s\n",
      "[CV] learning_rate=0.02, max_depth=5, n_estimators=50 ................\n",
      "[CV]  learning_rate=0.02, max_depth=3, n_estimators=400, score=0.7442645074224022, total= 1.2min\n",
      "[CV] learning_rate=0.02, max_depth=5, n_estimators=50 ................\n",
      "[CV]  learning_rate=0.02, max_depth=5, n_estimators=25, score=0.5899970050913447, total=  12.3s\n",
      "[CV] learning_rate=0.02, max_depth=5, n_estimators=50 ................\n",
      "[CV]  learning_rate=0.02, max_depth=3, n_estimators=400, score=0.7475154832205099, total= 1.3min\n",
      "[CV] learning_rate=0.02, max_depth=5, n_estimators=50 ................\n",
      "[CV]  learning_rate=0.02, max_depth=5, n_estimators=50, score=0.7218020388030254, total=  23.5s\n",
      "[CV] learning_rate=0.02, max_depth=5, n_estimators=50 ................\n",
      "[CV]  learning_rate=0.02, max_depth=5, n_estimators=50, score=0.7395523556112068, total=  24.0s\n",
      "[CV] learning_rate=0.02, max_depth=5, n_estimators=50 ................\n",
      "[CV]  learning_rate=0.02, max_depth=5, n_estimators=50, score=0.7460754167340994, total=  24.0s\n",
      "[CV] learning_rate=0.02, max_depth=5, n_estimators=50 ................\n",
      "[CV]  learning_rate=0.02, max_depth=5, n_estimators=50, score=0.7249190938511327, total=  24.1s\n",
      "[CV] learning_rate=0.02, max_depth=5, n_estimators=50 ................\n",
      "[CV]  learning_rate=0.02, max_depth=5, n_estimators=50, score=0.7296204107031737, total=  23.2s\n",
      "[CV] learning_rate=0.02, max_depth=5, n_estimators=100 ...............\n"
     ]
    },
    {
     "name": "stderr",
     "output_type": "stream",
     "text": [
      "[Parallel(n_jobs=-1)]: Done 112 tasks      | elapsed:  5.6min\n"
     ]
    },
    {
     "name": "stdout",
     "output_type": "stream",
     "text": [
      "[CV]  learning_rate=0.02, max_depth=5, n_estimators=50, score=0.7355926909261284, total=  23.5s\n",
      "[CV] learning_rate=0.02, max_depth=5, n_estimators=100 ...............\n",
      "[CV]  learning_rate=0.02, max_depth=3, n_estimators=400, score=0.7346399777592438, total= 1.2min\n",
      "[CV] learning_rate=0.02, max_depth=5, n_estimators=100 ...............\n",
      "[CV]  learning_rate=0.02, max_depth=3, n_estimators=400, score=0.7406894642115465, total= 1.2min\n",
      "[CV] learning_rate=0.02, max_depth=5, n_estimators=100 ...............\n",
      "[CV]  learning_rate=0.02, max_depth=5, n_estimators=50, score=0.7327658153897513, total=  23.9s\n",
      "[CV] learning_rate=0.02, max_depth=5, n_estimators=100 ...............\n",
      "[CV]  learning_rate=0.02, max_depth=5, n_estimators=50, score=0.7429718875502008, total=  24.0s\n",
      "[CV] learning_rate=0.02, max_depth=5, n_estimators=100 ...............\n",
      "[CV]  learning_rate=0.02, max_depth=5, n_estimators=50, score=0.7296209325729621, total=  24.0s\n",
      "[CV] learning_rate=0.02, max_depth=5, n_estimators=100 ...............\n",
      "[CV]  learning_rate=0.02, max_depth=5, n_estimators=50, score=0.7222131548881998, total=  23.9s\n",
      "[CV] learning_rate=0.02, max_depth=5, n_estimators=100 ...............\n",
      "[CV]  learning_rate=0.02, max_depth=5, n_estimators=100, score=0.7255166217430368, total=  47.1s\n",
      "[CV] learning_rate=0.02, max_depth=5, n_estimators=100 ...............\n",
      "[CV]  learning_rate=0.02, max_depth=5, n_estimators=100, score=0.7488730551112404, total=  47.1s\n",
      "[CV] learning_rate=0.02, max_depth=5, n_estimators=100 ...............\n",
      "[CV]  learning_rate=0.02, max_depth=5, n_estimators=100, score=0.7547999413747618, total=  47.1s\n",
      "[CV] learning_rate=0.02, max_depth=5, n_estimators=200 ...............\n",
      "[CV]  learning_rate=0.02, max_depth=5, n_estimators=100, score=0.7270857814336076, total=  47.5s\n",
      "[CV] learning_rate=0.02, max_depth=5, n_estimators=200 ...............\n",
      "[CV]  learning_rate=0.02, max_depth=5, n_estimators=100, score=0.7454545454545454, total=  46.8s\n",
      "[CV] learning_rate=0.02, max_depth=5, n_estimators=200 ...............\n",
      "[CV]  learning_rate=0.02, max_depth=5, n_estimators=100, score=0.7382116158711903, total=  46.7s\n",
      "[CV] learning_rate=0.02, max_depth=5, n_estimators=200 ...............\n",
      "[CV]  learning_rate=0.02, max_depth=5, n_estimators=100, score=0.7398622800306044, total=  47.4s\n",
      "[CV] learning_rate=0.02, max_depth=5, n_estimators=200 ...............\n",
      "[CV]  learning_rate=0.02, max_depth=5, n_estimators=100, score=0.7458250778375319, total=  47.2s\n",
      "[CV] learning_rate=0.02, max_depth=5, n_estimators=200 ...............\n",
      "[CV]  learning_rate=0.02, max_depth=5, n_estimators=100, score=0.7302035358787698, total=  47.2s\n",
      "[CV] learning_rate=0.02, max_depth=5, n_estimators=200 ...............\n",
      "[CV]  learning_rate=0.02, max_depth=5, n_estimators=100, score=0.7421289355322338, total=  47.6s\n"
     ]
    },
    {
     "name": "stderr",
     "output_type": "stream",
     "text": [
      "[Parallel(n_jobs=-1)]: Done 129 tasks      | elapsed:  7.2min\n"
     ]
    },
    {
     "name": "stdout",
     "output_type": "stream",
     "text": [
      "[CV] learning_rate=0.02, max_depth=5, n_estimators=200 ...............\n",
      "[CV]  learning_rate=0.02, max_depth=5, n_estimators=200, score=0.7321178120617112, total= 1.5min\n",
      "[CV] learning_rate=0.02, max_depth=5, n_estimators=200 ...............\n",
      "[CV]  learning_rate=0.02, max_depth=5, n_estimators=200, score=0.758384668035592, total= 1.5min\n",
      "[CV] learning_rate=0.02, max_depth=5, n_estimators=200 ...............\n",
      "[CV]  learning_rate=0.02, max_depth=5, n_estimators=200, score=0.7588131210017693, total= 1.5min\n",
      "[CV] learning_rate=0.02, max_depth=5, n_estimators=400 ...............\n",
      "[CV]  learning_rate=0.02, max_depth=5, n_estimators=200, score=0.7315380344253193, total= 1.5min\n",
      "[CV] learning_rate=0.02, max_depth=5, n_estimators=400 ...............\n",
      "[CV]  learning_rate=0.02, max_depth=5, n_estimators=200, score=0.756046993780235, total= 1.5min\n",
      "[CV] learning_rate=0.02, max_depth=5, n_estimators=400 ...............\n",
      "[CV]  learning_rate=0.02, max_depth=5, n_estimators=200, score=0.7464324917672888, total= 1.5min\n",
      "[CV] learning_rate=0.02, max_depth=5, n_estimators=400 ...............\n",
      "[CV]  learning_rate=0.02, max_depth=5, n_estimators=200, score=0.7515378443434073, total= 1.5min\n",
      "[CV] learning_rate=0.02, max_depth=5, n_estimators=400 ...............\n",
      "[CV]  learning_rate=0.02, max_depth=5, n_estimators=200, score=0.7529478619122034, total= 1.5min\n",
      "[CV] learning_rate=0.02, max_depth=5, n_estimators=400 ...............\n",
      "[CV]  learning_rate=0.02, max_depth=5, n_estimators=200, score=0.7423490488006618, total= 1.5min\n",
      "[CV] learning_rate=0.02, max_depth=5, n_estimators=400 ...............\n",
      "[CV]  learning_rate=0.02, max_depth=5, n_estimators=200, score=0.7410210540800881, total= 1.5min\n",
      "[CV] learning_rate=0.02, max_depth=5, n_estimators=400 ...............\n",
      "[CV]  learning_rate=0.02, max_depth=5, n_estimators=400, score=0.7278813336833815, total= 2.9min\n",
      "[CV] learning_rate=0.02, max_depth=5, n_estimators=400 ...............\n",
      "[CV]  learning_rate=0.02, max_depth=5, n_estimators=400, score=0.7668750797499043, total= 2.8min\n",
      "[CV] learning_rate=0.02, max_depth=5, n_estimators=400 ...............\n",
      "[CV]  learning_rate=0.02, max_depth=5, n_estimators=400, score=0.7670708359923419, total= 2.9min\n",
      "[CV] learning_rate=0.02, max_depth=10, n_estimators=25 ...............\n",
      "[CV]  learning_rate=0.02, max_depth=5, n_estimators=400, score=0.7477678571428571, total= 2.9min\n",
      "[CV] learning_rate=0.02, max_depth=10, n_estimators=25 ...............\n",
      "[CV]  learning_rate=0.02, max_depth=5, n_estimators=400, score=0.7668353444920202, total= 2.8min\n",
      "[CV] learning_rate=0.02, max_depth=10, n_estimators=25 ...............\n",
      "[CV]  learning_rate=0.02, max_depth=5, n_estimators=400, score=0.7620698510529018, total= 2.9min\n",
      "[CV] learning_rate=0.02, max_depth=10, n_estimators=25 ...............\n"
     ]
    },
    {
     "name": "stderr",
     "output_type": "stream",
     "text": [
      "[Parallel(n_jobs=-1)]: Done 146 tasks      | elapsed: 11.7min\n"
     ]
    },
    {
     "name": "stdout",
     "output_type": "stream",
     "text": [
      "[CV]  learning_rate=0.02, max_depth=10, n_estimators=25, score=0.6294569391113549, total=  47.3s\n",
      "[CV] learning_rate=0.02, max_depth=10, n_estimators=25 ...............\n",
      "[CV]  learning_rate=0.02, max_depth=10, n_estimators=25, score=0.6535031847133758, total=  48.0s\n",
      "[CV] learning_rate=0.02, max_depth=10, n_estimators=25 ...............\n",
      "[CV]  learning_rate=0.02, max_depth=10, n_estimators=25, score=0.6452448820938067, total=  49.4s\n",
      "[CV] learning_rate=0.02, max_depth=10, n_estimators=25 ...............\n",
      "[CV]  learning_rate=0.02, max_depth=10, n_estimators=25, score=0.6611461619348055, total=  49.7s\n",
      "[CV] learning_rate=0.02, max_depth=10, n_estimators=25 ...............\n",
      "[CV]  learning_rate=0.02, max_depth=5, n_estimators=400, score=0.759510686920285, total= 2.9min\n",
      "[CV] learning_rate=0.02, max_depth=10, n_estimators=25 ...............\n",
      "[CV]  learning_rate=0.02, max_depth=5, n_estimators=400, score=0.7564364007137395, total= 2.9min\n",
      "[CV] learning_rate=0.02, max_depth=10, n_estimators=25 ...............\n",
      "[CV]  learning_rate=0.02, max_depth=10, n_estimators=25, score=0.650427571909821, total=  49.1s\n",
      "[CV] learning_rate=0.02, max_depth=10, n_estimators=50 ...............\n",
      "[CV]  learning_rate=0.02, max_depth=10, n_estimators=25, score=0.6366459627329193, total=  50.0s\n",
      "[CV] learning_rate=0.02, max_depth=10, n_estimators=50 ...............\n",
      "[CV]  learning_rate=0.02, max_depth=10, n_estimators=25, score=0.635262449528937, total=  48.4s\n",
      "[CV] learning_rate=0.02, max_depth=10, n_estimators=50 ...............\n",
      "[CV]  learning_rate=0.02, max_depth=10, n_estimators=25, score=0.6498708010335917, total=  48.3s\n",
      "[CV] learning_rate=0.02, max_depth=10, n_estimators=50 ...............\n",
      "[CV]  learning_rate=0.02, max_depth=10, n_estimators=25, score=0.6219379422972238, total=  48.4s\n",
      "[CV] learning_rate=0.02, max_depth=10, n_estimators=50 ...............\n",
      "[CV]  learning_rate=0.02, max_depth=10, n_estimators=25, score=0.6299319727891156, total=  47.4s\n",
      "[CV] learning_rate=0.02, max_depth=10, n_estimators=50 ...............\n",
      "[CV]  learning_rate=0.02, max_depth=5, n_estimators=400, score=0.7525543620644486, total= 2.9min\n",
      "[CV] learning_rate=0.02, max_depth=10, n_estimators=50 ...............\n",
      "[CV]  learning_rate=0.02, max_depth=5, n_estimators=400, score=0.7462587736723613, total= 2.9min\n",
      "[CV] learning_rate=0.02, max_depth=10, n_estimators=50 ...............\n",
      "[CV]  learning_rate=0.02, max_depth=10, n_estimators=50, score=0.7272149888853605, total= 1.6min\n",
      "[CV] learning_rate=0.02, max_depth=10, n_estimators=50 ...............\n",
      "[CV]  learning_rate=0.02, max_depth=10, n_estimators=50, score=0.7497208486201946, total= 1.6min\n",
      "[CV] learning_rate=0.02, max_depth=10, n_estimators=50 ...............\n",
      "[CV]  learning_rate=0.02, max_depth=10, n_estimators=50, score=0.7514356029532403, total= 1.7min\n",
      "[CV] learning_rate=0.02, max_depth=10, n_estimators=100 ..............\n",
      "[CV]  learning_rate=0.02, max_depth=10, n_estimators=50, score=0.7359201047806155, total= 1.7min\n",
      "[CV] learning_rate=0.02, max_depth=10, n_estimators=100 ..............\n",
      "[CV]  learning_rate=0.02, max_depth=10, n_estimators=50, score=0.751417004048583, total= 1.7min\n",
      "[CV] learning_rate=0.02, max_depth=10, n_estimators=100 ..............\n"
     ]
    },
    {
     "name": "stderr",
     "output_type": "stream",
     "text": [
      "[Parallel(n_jobs=-1)]: Done 165 tasks      | elapsed: 15.1min\n"
     ]
    },
    {
     "name": "stdout",
     "output_type": "stream",
     "text": [
      "[CV]  learning_rate=0.02, max_depth=10, n_estimators=50, score=0.7467022613065325, total= 1.6min\n",
      "[CV] learning_rate=0.02, max_depth=10, n_estimators=100 ..............\n",
      "[CV]  learning_rate=0.02, max_depth=10, n_estimators=50, score=0.7398873527905787, total= 1.6min\n",
      "[CV] learning_rate=0.02, max_depth=10, n_estimators=100 ..............\n",
      "[CV]  learning_rate=0.02, max_depth=10, n_estimators=50, score=0.7470055033991583, total= 1.6min\n",
      "[CV] learning_rate=0.02, max_depth=10, n_estimators=100 ..............\n",
      "[CV]  learning_rate=0.02, max_depth=10, n_estimators=50, score=0.7421479229989868, total= 1.6min\n",
      "[CV] learning_rate=0.02, max_depth=10, n_estimators=100 ..............\n",
      "[CV]  learning_rate=0.02, max_depth=10, n_estimators=50, score=0.7312252964426879, total= 1.6min\n",
      "[CV] learning_rate=0.02, max_depth=10, n_estimators=100 ..............\n",
      "[CV]  learning_rate=0.02, max_depth=10, n_estimators=100, score=0.721248940378638, total= 3.3min\n",
      "[CV] learning_rate=0.02, max_depth=10, n_estimators=100 ..............\n",
      "[CV]  learning_rate=0.02, max_depth=10, n_estimators=100, score=0.7594673325010403, total= 3.3min\n",
      "[CV] learning_rate=0.02, max_depth=10, n_estimators=100 ..............\n",
      "[CV]  learning_rate=0.02, max_depth=10, n_estimators=100, score=0.7603074772886093, total= 3.4min\n",
      "[CV] learning_rate=0.02, max_depth=10, n_estimators=200 ..............\n",
      "[CV]  learning_rate=0.02, max_depth=10, n_estimators=100, score=0.7346678023850086, total= 3.4min\n",
      "[CV] learning_rate=0.02, max_depth=10, n_estimators=200 ..............\n",
      "[CV]  learning_rate=0.02, max_depth=10, n_estimators=100, score=0.7466063348416291, total= 3.3min\n",
      "[CV] learning_rate=0.02, max_depth=10, n_estimators=200 ..............\n",
      "[CV]  learning_rate=0.02, max_depth=10, n_estimators=100, score=0.753678998762206, total= 3.4min\n",
      "[CV] learning_rate=0.02, max_depth=10, n_estimators=200 ..............\n",
      "[CV]  learning_rate=0.02, max_depth=10, n_estimators=100, score=0.7465763510528641, total= 3.3min\n",
      "[CV] learning_rate=0.02, max_depth=10, n_estimators=200 ..............\n",
      "[CV]  learning_rate=0.02, max_depth=10, n_estimators=100, score=0.7568426873099254, total= 3.4min\n",
      "[CV] learning_rate=0.02, max_depth=10, n_estimators=200 ..............\n",
      "[CV]  learning_rate=0.02, max_depth=10, n_estimators=100, score=0.7466322728575524, total= 3.4min\n",
      "[CV] learning_rate=0.02, max_depth=10, n_estimators=200 ..............\n",
      "[CV]  learning_rate=0.02, max_depth=10, n_estimators=100, score=0.7453550338470402, total= 3.3min\n",
      "[CV] learning_rate=0.02, max_depth=10, n_estimators=200 ..............\n",
      "[CV]  learning_rate=0.02, max_depth=10, n_estimators=200, score=0.7279392511128567, total= 6.9min\n",
      "[CV] learning_rate=0.02, max_depth=10, n_estimators=200 ..............\n",
      "[CV]  learning_rate=0.02, max_depth=10, n_estimators=200, score=0.7583514655062077, total= 6.9min\n",
      "[CV] learning_rate=0.02, max_depth=10, n_estimators=200 ..............\n",
      "[CV]  learning_rate=0.02, max_depth=10, n_estimators=200, score=0.7614442295293359, total= 6.8min\n",
      "[CV] learning_rate=0.02, max_depth=10, n_estimators=400 ..............\n",
      "[CV]  learning_rate=0.02, max_depth=10, n_estimators=200, score=0.7412257726558408, total= 7.0min\n",
      "[CV] learning_rate=0.02, max_depth=10, n_estimators=400 ..............\n"
     ]
    },
    {
     "name": "stderr",
     "output_type": "stream",
     "text": [
      "[Parallel(n_jobs=-1)]: Done 184 tasks      | elapsed: 26.2min\n"
     ]
    },
    {
     "name": "stdout",
     "output_type": "stream",
     "text": [
      "[CV]  learning_rate=0.02, max_depth=10, n_estimators=200, score=0.7579055178594291, total= 6.8min\n",
      "[CV] learning_rate=0.02, max_depth=10, n_estimators=400 ..............\n",
      "[CV]  learning_rate=0.02, max_depth=10, n_estimators=200, score=0.7585359544749095, total= 6.9min\n",
      "[CV] learning_rate=0.02, max_depth=10, n_estimators=400 ..............\n",
      "[CV]  learning_rate=0.02, max_depth=10, n_estimators=200, score=0.7464968152866243, total= 7.0min\n",
      "[CV] learning_rate=0.02, max_depth=10, n_estimators=400 ..............\n",
      "[CV]  learning_rate=0.02, max_depth=10, n_estimators=200, score=0.7511737089201879, total= 7.0min\n",
      "[CV] learning_rate=0.02, max_depth=10, n_estimators=400 ..............\n",
      "[CV]  learning_rate=0.02, max_depth=10, n_estimators=200, score=0.7487542617361657, total= 6.8min\n",
      "[CV] learning_rate=0.02, max_depth=10, n_estimators=400 ..............\n",
      "[CV]  learning_rate=0.02, max_depth=10, n_estimators=200, score=0.7481247532570074, total= 6.9min\n",
      "[CV] learning_rate=0.02, max_depth=10, n_estimators=400 ..............\n",
      "[CV]  learning_rate=0.02, max_depth=10, n_estimators=400, score=0.7208977935582044, total=12.5min\n",
      "[CV] learning_rate=0.02, max_depth=10, n_estimators=400 ..............\n",
      "[CV]  learning_rate=0.02, max_depth=10, n_estimators=400, score=0.7584094035263224, total=12.4min\n",
      "[CV] learning_rate=0.02, max_depth=10, n_estimators=400 ..............\n",
      "[CV]  learning_rate=0.02, max_depth=10, n_estimators=400, score=0.7577081512919737, total=12.4min\n",
      "[CV] learning_rate=0.02, max_depth=20, n_estimators=25 ...............\n",
      "[CV]  learning_rate=0.02, max_depth=10, n_estimators=400, score=0.74128651973347, total=12.4min\n",
      "[CV] learning_rate=0.02, max_depth=20, n_estimators=25 ...............\n",
      "[CV]  learning_rate=0.02, max_depth=10, n_estimators=400, score=0.7581658291457287, total=12.4min\n",
      "[CV] learning_rate=0.02, max_depth=20, n_estimators=25 ...............\n",
      "[CV]  learning_rate=0.02, max_depth=10, n_estimators=400, score=0.7535780958307404, total=12.5min\n",
      "[CV] learning_rate=0.02, max_depth=20, n_estimators=25 ...............\n",
      "[CV]  learning_rate=0.02, max_depth=20, n_estimators=25, score=0.6467941507311585, total= 3.3min\n",
      "[CV] learning_rate=0.02, max_depth=20, n_estimators=25 ...............\n",
      "[CV]  learning_rate=0.02, max_depth=20, n_estimators=25, score=0.6672811059907834, total= 3.3min\n",
      "[CV] learning_rate=0.02, max_depth=20, n_estimators=25 ...............\n",
      "[CV]  learning_rate=0.02, max_depth=20, n_estimators=25, score=0.676432170181004, total= 3.3min\n",
      "[CV] learning_rate=0.02, max_depth=20, n_estimators=25 ...............\n",
      "[CV]  learning_rate=0.02, max_depth=20, n_estimators=25, score=0.6265432098765432, total= 3.2min\n",
      "[CV] learning_rate=0.02, max_depth=20, n_estimators=25 ...............\n",
      "[CV]  learning_rate=0.02, max_depth=10, n_estimators=400, score=0.7495785241862275, total=12.6min\n",
      "[CV] learning_rate=0.02, max_depth=20, n_estimators=25 ...............\n",
      "[CV]  learning_rate=0.02, max_depth=10, n_estimators=400, score=0.7445237509229633, total=12.5min\n",
      "[CV] learning_rate=0.02, max_depth=20, n_estimators=25 ...............\n",
      "[CV]  learning_rate=0.02, max_depth=20, n_estimators=25, score=0.6566440349175556, total= 3.3min\n",
      "[CV] learning_rate=0.02, max_depth=20, n_estimators=50 ...............\n",
      "[CV]  learning_rate=0.02, max_depth=20, n_estimators=25, score=0.6535766961651918, total= 3.4min\n",
      "[CV] learning_rate=0.02, max_depth=20, n_estimators=50 ...............\n",
      "[CV]  learning_rate=0.02, max_depth=20, n_estimators=25, score=0.6476582402508327, total= 3.2min\n",
      "[CV] learning_rate=0.02, max_depth=20, n_estimators=50 ...............\n"
     ]
    },
    {
     "name": "stderr",
     "output_type": "stream",
     "text": [
      "[Parallel(n_jobs=-1)]: Done 205 tasks      | elapsed: 47.6min\n"
     ]
    },
    {
     "name": "stdout",
     "output_type": "stream",
     "text": [
      "[CV]  learning_rate=0.02, max_depth=20, n_estimators=25, score=0.671559633027523, total= 3.3min\n",
      "[CV] learning_rate=0.02, max_depth=20, n_estimators=50 ...............\n",
      "[CV]  learning_rate=0.02, max_depth=20, n_estimators=25, score=0.6519690974185037, total= 3.3min\n",
      "[CV] learning_rate=0.02, max_depth=20, n_estimators=50 ...............\n",
      "[CV]  learning_rate=0.02, max_depth=20, n_estimators=25, score=0.6521739130434783, total= 3.3min\n",
      "[CV] learning_rate=0.02, max_depth=20, n_estimators=50 ...............\n",
      "[CV]  learning_rate=0.02, max_depth=10, n_estimators=400, score=0.7442992569818089, total=12.5min\n",
      "[CV] learning_rate=0.02, max_depth=20, n_estimators=50 ...............\n",
      "[CV]  learning_rate=0.02, max_depth=10, n_estimators=400, score=0.7464897591137447, total=12.7min\n",
      "[CV] learning_rate=0.02, max_depth=20, n_estimators=50 ...............\n",
      "[CV]  learning_rate=0.02, max_depth=20, n_estimators=50, score=0.6628201519842386, total= 7.1min\n",
      "[CV] learning_rate=0.02, max_depth=20, n_estimators=50 ...............\n",
      "[CV]  learning_rate=0.02, max_depth=20, n_estimators=50, score=0.6903794986696542, total= 7.2min\n",
      "[CV] learning_rate=0.02, max_depth=20, n_estimators=50 ...............\n",
      "[CV]  learning_rate=0.02, max_depth=20, n_estimators=50, score=0.7034405906115058, total= 7.2min\n",
      "[CV] learning_rate=0.02, max_depth=20, n_estimators=100 ..............\n",
      "[CV]  learning_rate=0.02, max_depth=20, n_estimators=50, score=0.6857102751263336, total= 7.0min\n",
      "[CV] learning_rate=0.02, max_depth=20, n_estimators=100 ..............\n",
      "[CV]  learning_rate=0.02, max_depth=20, n_estimators=50, score=0.6913869014859658, total= 7.1min\n",
      "[CV] learning_rate=0.02, max_depth=20, n_estimators=100 ..............\n",
      "[CV]  learning_rate=0.02, max_depth=20, n_estimators=50, score=0.701147835707371, total= 7.3min\n",
      "[CV] learning_rate=0.02, max_depth=20, n_estimators=100 ..............\n",
      "[CV]  learning_rate=0.02, max_depth=20, n_estimators=50, score=0.692039004511716, total= 7.0min\n",
      "[CV] learning_rate=0.02, max_depth=20, n_estimators=100 ..............\n",
      "[CV]  learning_rate=0.02, max_depth=20, n_estimators=50, score=0.7086183310533516, total= 7.2min\n",
      "[CV] learning_rate=0.02, max_depth=20, n_estimators=100 ..............\n",
      "[CV]  learning_rate=0.02, max_depth=20, n_estimators=50, score=0.6954505940307159, total= 7.0min\n",
      "[CV] learning_rate=0.02, max_depth=20, n_estimators=100 ..............\n",
      "[CV]  learning_rate=0.02, max_depth=20, n_estimators=50, score=0.6903225806451613, total= 7.0min\n",
      "[CV] learning_rate=0.02, max_depth=20, n_estimators=100 ..............\n",
      "[CV]  learning_rate=0.02, max_depth=20, n_estimators=100, score=0.6915629322268326, total=15.7min\n",
      "[CV] learning_rate=0.02, max_depth=20, n_estimators=100 ..............\n",
      "[CV]  learning_rate=0.02, max_depth=20, n_estimators=100, score=0.6665393430099313, total=16.1min\n",
      "[CV] learning_rate=0.02, max_depth=20, n_estimators=100 ..............\n",
      "[CV]  learning_rate=0.02, max_depth=20, n_estimators=100, score=0.6822250639386189, total=15.6min\n",
      "[CV] learning_rate=0.02, max_depth=20, n_estimators=200 ..............\n",
      "[CV]  learning_rate=0.02, max_depth=20, n_estimators=100, score=0.7015996976949238, total=15.9min\n",
      "[CV] learning_rate=0.02, max_depth=20, n_estimators=200 ..............\n",
      "[CV]  learning_rate=0.02, max_depth=20, n_estimators=100, score=0.6902545003103664, total=15.9min\n",
      "[CV] learning_rate=0.02, max_depth=20, n_estimators=200 ..............\n",
      "[CV]  learning_rate=0.02, max_depth=20, n_estimators=100, score=0.6876558603491272, total=15.7min\n",
      "[CV] learning_rate=0.02, max_depth=20, n_estimators=200 ..............\n"
     ]
    },
    {
     "name": "stderr",
     "output_type": "stream",
     "text": [
      "[Parallel(n_jobs=-1)]: Done 226 tasks      | elapsed: 74.2min\n"
     ]
    },
    {
     "name": "stdout",
     "output_type": "stream",
     "text": [
      "[CV]  learning_rate=0.02, max_depth=20, n_estimators=100, score=0.68391626576518, total=15.6min\n",
      "[CV] learning_rate=0.02, max_depth=20, n_estimators=200 ..............\n",
      "[CV]  learning_rate=0.02, max_depth=20, n_estimators=100, score=0.6988650382432766, total=15.9min\n",
      "[CV] learning_rate=0.02, max_depth=20, n_estimators=200 ..............\n",
      "[CV]  learning_rate=0.02, max_depth=20, n_estimators=100, score=0.6881897754661931, total=15.3min\n",
      "[CV] learning_rate=0.02, max_depth=20, n_estimators=200 ..............\n",
      "[CV]  learning_rate=0.02, max_depth=20, n_estimators=100, score=0.6894750587620789, total=16.0min\n",
      "[CV] learning_rate=0.02, max_depth=20, n_estimators=200 ..............\n",
      "[CV]  learning_rate=0.02, max_depth=20, n_estimators=200, score=0.6940216729575063, total=33.7min\n",
      "[CV] learning_rate=0.02, max_depth=20, n_estimators=200 ..............\n",
      "[CV]  learning_rate=0.02, max_depth=20, n_estimators=200, score=0.6643014436016638, total=34.5min\n",
      "[CV] learning_rate=0.02, max_depth=20, n_estimators=200 ..............\n",
      "[CV]  learning_rate=0.02, max_depth=20, n_estimators=200, score=0.6758612081877183, total=34.5min\n",
      "[CV] learning_rate=0.02, max_depth=20, n_estimators=400 ..............\n",
      "[CV]  learning_rate=0.02, max_depth=20, n_estimators=200, score=0.6970248937462052, total=35.1min\n",
      "[CV] learning_rate=0.02, max_depth=20, n_estimators=400 ..............\n",
      "[CV]  learning_rate=0.02, max_depth=20, n_estimators=200, score=0.6896551724137931, total=33.6min\n",
      "[CV] learning_rate=0.02, max_depth=20, n_estimators=400 ..............\n",
      "[CV]  learning_rate=0.02, max_depth=20, n_estimators=200, score=0.6827284864668043, total=35.2min\n",
      "[CV] learning_rate=0.02, max_depth=20, n_estimators=400 ..............\n",
      "[CV]  learning_rate=0.02, max_depth=20, n_estimators=200, score=0.6938114655792756, total=34.3min\n",
      "[CV] learning_rate=0.02, max_depth=20, n_estimators=400 ..............\n",
      "[CV]  learning_rate=0.02, max_depth=20, n_estimators=200, score=0.6857322438717788, total=34.9min\n",
      "[CV] learning_rate=0.02, max_depth=20, n_estimators=400 ..............\n",
      "[CV]  learning_rate=0.02, max_depth=20, n_estimators=200, score=0.6851920009814747, total=34.0min\n",
      "[CV] learning_rate=0.02, max_depth=20, n_estimators=400 ..............\n",
      "[CV]  learning_rate=0.02, max_depth=20, n_estimators=200, score=0.6884333080232853, total=35.1min\n",
      "[CV] learning_rate=0.02, max_depth=20, n_estimators=400 ..............\n",
      "[CV]  learning_rate=0.02, max_depth=20, n_estimators=400, score=0.697786914983674, total=64.6min\n",
      "[CV] learning_rate=0.02, max_depth=20, n_estimators=400 ..............\n",
      "[CV]  learning_rate=0.02, max_depth=20, n_estimators=400, score=0.6672276989660976, total=65.0min\n",
      "[CV] learning_rate=0.02, max_depth=20, n_estimators=400 ..............\n",
      "[CV]  learning_rate=0.02, max_depth=20, n_estimators=400, score=0.6903364866483055, total=65.6min\n",
      "[CV] learning_rate=0.01, max_depth=2, n_estimators=25 ................\n"
     ]
    },
    {
     "name": "stderr",
     "output_type": "stream",
     "text": [
      "/home/thi/anaconda3/envs/fastai/lib/python3.6/site-packages/sklearn/metrics/classification.py:1135: UndefinedMetricWarning: F-score is ill-defined and being set to 0.0 due to no predicted samples.\n",
      "  'precision', 'predicted', average, warn_for)\n"
     ]
    },
    {
     "name": "stdout",
     "output_type": "stream",
     "text": [
      "[CV]  learning_rate=0.01, max_depth=2, n_estimators=25, score=0.0, total=   3.0s\n",
      "[CV] learning_rate=0.01, max_depth=2, n_estimators=25 ................\n"
     ]
    },
    {
     "name": "stderr",
     "output_type": "stream",
     "text": [
      "/home/thi/anaconda3/envs/fastai/lib/python3.6/site-packages/sklearn/metrics/classification.py:1135: UndefinedMetricWarning: F-score is ill-defined and being set to 0.0 due to no predicted samples.\n",
      "  'precision', 'predicted', average, warn_for)\n"
     ]
    },
    {
     "name": "stdout",
     "output_type": "stream",
     "text": [
      "[CV]  learning_rate=0.01, max_depth=2, n_estimators=25, score=0.0, total=   3.1s\n",
      "[CV] learning_rate=0.01, max_depth=2, n_estimators=25 ................\n"
     ]
    },
    {
     "name": "stderr",
     "output_type": "stream",
     "text": [
      "/home/thi/anaconda3/envs/fastai/lib/python3.6/site-packages/sklearn/metrics/classification.py:1135: UndefinedMetricWarning: F-score is ill-defined and being set to 0.0 due to no predicted samples.\n",
      "  'precision', 'predicted', average, warn_for)\n"
     ]
    },
    {
     "name": "stdout",
     "output_type": "stream",
     "text": [
      "[CV]  learning_rate=0.01, max_depth=2, n_estimators=25, score=0.0, total=   3.0s\n",
      "[CV] learning_rate=0.01, max_depth=2, n_estimators=25 ................\n"
     ]
    },
    {
     "name": "stderr",
     "output_type": "stream",
     "text": [
      "/home/thi/anaconda3/envs/fastai/lib/python3.6/site-packages/sklearn/metrics/classification.py:1135: UndefinedMetricWarning: F-score is ill-defined and being set to 0.0 due to no predicted samples.\n",
      "  'precision', 'predicted', average, warn_for)\n"
     ]
    },
    {
     "name": "stdout",
     "output_type": "stream",
     "text": [
      "[CV]  learning_rate=0.01, max_depth=2, n_estimators=25, score=0.0, total=   3.1s\n",
      "[CV] learning_rate=0.01, max_depth=2, n_estimators=25 ................\n"
     ]
    },
    {
     "name": "stderr",
     "output_type": "stream",
     "text": [
      "/home/thi/anaconda3/envs/fastai/lib/python3.6/site-packages/sklearn/metrics/classification.py:1135: UndefinedMetricWarning: F-score is ill-defined and being set to 0.0 due to no predicted samples.\n",
      "  'precision', 'predicted', average, warn_for)\n"
     ]
    },
    {
     "name": "stdout",
     "output_type": "stream",
     "text": [
      "[CV]  learning_rate=0.01, max_depth=2, n_estimators=25, score=0.0, total=   3.2s\n",
      "[CV] learning_rate=0.01, max_depth=2, n_estimators=25 ................\n"
     ]
    },
    {
     "name": "stderr",
     "output_type": "stream",
     "text": [
      "/home/thi/anaconda3/envs/fastai/lib/python3.6/site-packages/sklearn/metrics/classification.py:1135: UndefinedMetricWarning: F-score is ill-defined and being set to 0.0 due to no predicted samples.\n",
      "  'precision', 'predicted', average, warn_for)\n"
     ]
    },
    {
     "name": "stdout",
     "output_type": "stream",
     "text": [
      "[CV]  learning_rate=0.01, max_depth=2, n_estimators=25, score=0.0, total=   3.0s\n",
      "[CV] learning_rate=0.01, max_depth=2, n_estimators=25 ................\n"
     ]
    },
    {
     "name": "stderr",
     "output_type": "stream",
     "text": [
      "[Parallel(n_jobs=-1)]: Done 249 tasks      | elapsed: 175.4min\n",
      "/home/thi/anaconda3/envs/fastai/lib/python3.6/site-packages/sklearn/metrics/classification.py:1135: UndefinedMetricWarning: F-score is ill-defined and being set to 0.0 due to no predicted samples.\n",
      "  'precision', 'predicted', average, warn_for)\n"
     ]
    },
    {
     "name": "stdout",
     "output_type": "stream",
     "text": [
      "[CV]  learning_rate=0.01, max_depth=2, n_estimators=25, score=0.0, total=   3.1s\n",
      "[CV] learning_rate=0.01, max_depth=2, n_estimators=25 ................\n"
     ]
    },
    {
     "name": "stderr",
     "output_type": "stream",
     "text": [
      "/home/thi/anaconda3/envs/fastai/lib/python3.6/site-packages/sklearn/metrics/classification.py:1135: UndefinedMetricWarning: F-score is ill-defined and being set to 0.0 due to no predicted samples.\n",
      "  'precision', 'predicted', average, warn_for)\n"
     ]
    },
    {
     "name": "stdout",
     "output_type": "stream",
     "text": [
      "[CV]  learning_rate=0.01, max_depth=2, n_estimators=25, score=0.0, total=   3.0s\n",
      "[CV] learning_rate=0.01, max_depth=2, n_estimators=25 ................\n"
     ]
    },
    {
     "name": "stderr",
     "output_type": "stream",
     "text": [
      "/home/thi/anaconda3/envs/fastai/lib/python3.6/site-packages/sklearn/metrics/classification.py:1135: UndefinedMetricWarning: F-score is ill-defined and being set to 0.0 due to no predicted samples.\n",
      "  'precision', 'predicted', average, warn_for)\n"
     ]
    },
    {
     "name": "stdout",
     "output_type": "stream",
     "text": [
      "[CV]  learning_rate=0.01, max_depth=2, n_estimators=25, score=0.0, total=   3.1s\n",
      "[CV] learning_rate=0.01, max_depth=2, n_estimators=25 ................\n"
     ]
    },
    {
     "name": "stderr",
     "output_type": "stream",
     "text": [
      "/home/thi/anaconda3/envs/fastai/lib/python3.6/site-packages/sklearn/metrics/classification.py:1135: UndefinedMetricWarning: F-score is ill-defined and being set to 0.0 due to no predicted samples.\n",
      "  'precision', 'predicted', average, warn_for)\n"
     ]
    },
    {
     "name": "stdout",
     "output_type": "stream",
     "text": [
      "[CV]  learning_rate=0.01, max_depth=2, n_estimators=25, score=0.0, total=   3.0s\n",
      "[CV] learning_rate=0.01, max_depth=2, n_estimators=50 ................\n",
      "[CV]  learning_rate=0.01, max_depth=2, n_estimators=50, score=0.17357762777242045, total=   6.0s\n",
      "[CV] learning_rate=0.01, max_depth=2, n_estimators=50 ................\n",
      "[CV]  learning_rate=0.01, max_depth=2, n_estimators=50, score=0.16244624940277116, total=   6.0s\n",
      "[CV] learning_rate=0.01, max_depth=2, n_estimators=50 ................\n",
      "[CV]  learning_rate=0.02, max_depth=20, n_estimators=400, score=0.6851438492063492, total=65.5min\n",
      "[CV] learning_rate=0.01, max_depth=2, n_estimators=50 ................\n",
      "[CV]  learning_rate=0.01, max_depth=2, n_estimators=50, score=0.15180722891566265, total=   5.9s\n",
      "[CV] learning_rate=0.01, max_depth=2, n_estimators=50 ................\n",
      "[CV]  learning_rate=0.01, max_depth=2, n_estimators=50, score=0.18101761252446183, total=   5.9s\n",
      "[CV] learning_rate=0.01, max_depth=2, n_estimators=50 ................\n",
      "[CV]  learning_rate=0.01, max_depth=2, n_estimators=50, score=0.1718377088305489, total=   6.0s\n",
      "[CV] learning_rate=0.01, max_depth=2, n_estimators=50 ................\n",
      "[CV]  learning_rate=0.01, max_depth=2, n_estimators=50, score=0.1752336448598131, total=   6.0s\n",
      "[CV] learning_rate=0.01, max_depth=2, n_estimators=50 ................\n",
      "[CV]  learning_rate=0.01, max_depth=2, n_estimators=50, score=0.15173764072442486, total=   5.9s\n",
      "[CV] learning_rate=0.01, max_depth=2, n_estimators=50 ................\n",
      "[CV]  learning_rate=0.01, max_depth=2, n_estimators=50, score=0.17403574788334902, total=   6.0s\n",
      "[CV] learning_rate=0.01, max_depth=2, n_estimators=50 ................\n",
      "[CV]  learning_rate=0.01, max_depth=2, n_estimators=50, score=0.16214908034849948, total=   6.0s\n",
      "[CV] learning_rate=0.01, max_depth=2, n_estimators=100 ...............\n",
      "[CV]  learning_rate=0.01, max_depth=2, n_estimators=50, score=0.15570065293822197, total=   6.0s\n",
      "[CV] learning_rate=0.01, max_depth=2, n_estimators=100 ...............\n",
      "[CV]  learning_rate=0.01, max_depth=2, n_estimators=100, score=0.5374128091312619, total=  11.5s\n",
      "[CV] learning_rate=0.01, max_depth=2, n_estimators=100 ...............\n",
      "[CV]  learning_rate=0.01, max_depth=2, n_estimators=100, score=0.48408710217755446, total=  11.2s\n",
      "[CV] learning_rate=0.01, max_depth=2, n_estimators=100 ...............\n",
      "[CV]  learning_rate=0.01, max_depth=2, n_estimators=100, score=0.5091339648173207, total=  11.3s\n",
      "[CV] learning_rate=0.01, max_depth=2, n_estimators=100 ...............\n",
      "[CV]  learning_rate=0.01, max_depth=2, n_estimators=100, score=0.46032291308828577, total=  11.5s\n",
      "[CV] learning_rate=0.01, max_depth=2, n_estimators=100 ...............\n",
      "[CV]  learning_rate=0.01, max_depth=2, n_estimators=100, score=0.49045865416806167, total=  11.1s\n",
      "[CV] learning_rate=0.01, max_depth=2, n_estimators=100 ...............\n",
      "[CV]  learning_rate=0.01, max_depth=2, n_estimators=100, score=0.4670698924731182, total=  11.1s\n",
      "[CV] learning_rate=0.01, max_depth=2, n_estimators=100 ...............\n",
      "[CV]  learning_rate=0.01, max_depth=2, n_estimators=100, score=0.5462705044877746, total=  11.2s\n",
      "[CV] learning_rate=0.01, max_depth=2, n_estimators=100 ...............\n",
      "[CV]  learning_rate=0.01, max_depth=2, n_estimators=100, score=0.4878048780487805, total=  11.4s\n",
      "[CV] learning_rate=0.01, max_depth=2, n_estimators=100 ...............\n"
     ]
    },
    {
     "name": "stderr",
     "output_type": "stream",
     "text": [
      "[Parallel(n_jobs=-1)]: Done 272 tasks      | elapsed: 177.1min\n"
     ]
    },
    {
     "name": "stdout",
     "output_type": "stream",
     "text": [
      "[CV]  learning_rate=0.01, max_depth=2, n_estimators=100, score=0.4537491240364401, total=  11.1s\n",
      "[CV] learning_rate=0.01, max_depth=2, n_estimators=200 ...............\n",
      "[CV]  learning_rate=0.01, max_depth=2, n_estimators=100, score=0.4798598949211909, total=  11.3s\n",
      "[CV] learning_rate=0.01, max_depth=2, n_estimators=200 ...............\n",
      "[CV]  learning_rate=0.01, max_depth=2, n_estimators=200, score=0.6851311953352769, total=  21.8s\n",
      "[CV] learning_rate=0.01, max_depth=2, n_estimators=200 ...............\n",
      "[CV]  learning_rate=0.01, max_depth=2, n_estimators=200, score=0.7167315175097275, total=  21.8s\n",
      "[CV] learning_rate=0.01, max_depth=2, n_estimators=200 ...............\n",
      "[CV]  learning_rate=0.01, max_depth=2, n_estimators=200, score=0.7169900615238998, total=  21.7s\n",
      "[CV] learning_rate=0.01, max_depth=2, n_estimators=200 ...............\n",
      "[CV]  learning_rate=0.01, max_depth=2, n_estimators=200, score=0.6967348284960423, total=  22.0s\n",
      "[CV] learning_rate=0.01, max_depth=2, n_estimators=200 ...............\n",
      "[CV]  learning_rate=0.01, max_depth=2, n_estimators=200, score=0.7093151984817333, total=  22.0s\n",
      "[CV] learning_rate=0.01, max_depth=2, n_estimators=200 ...............\n",
      "[CV]  learning_rate=0.01, max_depth=2, n_estimators=200, score=0.7041240409207162, total=  21.8s\n",
      "[CV] learning_rate=0.01, max_depth=2, n_estimators=200 ...............\n",
      "[CV]  learning_rate=0.01, max_depth=2, n_estimators=200, score=0.6950259588008708, total=  21.8s\n",
      "[CV] learning_rate=0.01, max_depth=2, n_estimators=200 ...............\n",
      "[CV]  learning_rate=0.01, max_depth=2, n_estimators=200, score=0.7099049371358479, total=  22.1s\n",
      "[CV] learning_rate=0.01, max_depth=2, n_estimators=200 ...............\n",
      "[CV]  learning_rate=0.01, max_depth=2, n_estimators=200, score=0.7042712748614279, total=  21.8s\n",
      "[CV] learning_rate=0.01, max_depth=2, n_estimators=400 ...............\n",
      "[CV]  learning_rate=0.01, max_depth=2, n_estimators=200, score=0.6945586059510109, total=  21.8s\n",
      "[CV] learning_rate=0.01, max_depth=2, n_estimators=400 ...............\n",
      "[CV]  learning_rate=0.01, max_depth=2, n_estimators=400, score=0.7055026129726407, total=  42.8s\n",
      "[CV] learning_rate=0.01, max_depth=2, n_estimators=400 ...............\n",
      "[CV]  learning_rate=0.01, max_depth=2, n_estimators=400, score=0.7338436625938465, total=  43.3s\n",
      "[CV] learning_rate=0.01, max_depth=2, n_estimators=400 ...............\n",
      "[CV]  learning_rate=0.01, max_depth=2, n_estimators=400, score=0.7366885485047412, total=  43.1s\n",
      "[CV] learning_rate=0.01, max_depth=2, n_estimators=400 ...............\n",
      "[CV]  learning_rate=0.01, max_depth=2, n_estimators=400, score=0.7103990326481257, total=  42.7s\n",
      "[CV] learning_rate=0.01, max_depth=2, n_estimators=400 ...............\n",
      "[CV]  learning_rate=0.01, max_depth=2, n_estimators=400, score=0.7320299867705423, total=  42.7s\n",
      "[CV] learning_rate=0.01, max_depth=2, n_estimators=400 ...............\n",
      "[CV]  learning_rate=0.01, max_depth=2, n_estimators=400, score=0.7243059657412876, total=  42.6s\n",
      "[CV] learning_rate=0.01, max_depth=2, n_estimators=400 ...............\n",
      "[CV]  learning_rate=0.01, max_depth=2, n_estimators=400, score=0.7201107862748115, total=  43.0s\n",
      "[CV] learning_rate=0.01, max_depth=2, n_estimators=400 ...............\n",
      "[CV]  learning_rate=0.01, max_depth=2, n_estimators=400, score=0.7260371959942775, total=  43.0s\n",
      "[CV] learning_rate=0.01, max_depth=2, n_estimators=400 ...............\n",
      "[CV]  learning_rate=0.01, max_depth=2, n_estimators=400, score=0.7265601447090745, total=  43.0s\n",
      "[CV] learning_rate=0.01, max_depth=3, n_estimators=25 ................\n",
      "[CV]  learning_rate=0.01, max_depth=2, n_estimators=400, score=0.715143328830857, total=  43.3s\n",
      "[CV] learning_rate=0.01, max_depth=3, n_estimators=25 ................\n"
     ]
    },
    {
     "name": "stderr",
     "output_type": "stream",
     "text": [
      "/home/thi/anaconda3/envs/fastai/lib/python3.6/site-packages/sklearn/metrics/classification.py:1135: UndefinedMetricWarning: F-score is ill-defined and being set to 0.0 due to no predicted samples.\n",
      "  'precision', 'predicted', average, warn_for)\n"
     ]
    },
    {
     "name": "stdout",
     "output_type": "stream",
     "text": [
      "[CV]  learning_rate=0.01, max_depth=3, n_estimators=25, score=0.0, total=   5.4s\n",
      "[CV] learning_rate=0.01, max_depth=3, n_estimators=25 ................\n"
     ]
    },
    {
     "name": "stderr",
     "output_type": "stream",
     "text": [
      "/home/thi/anaconda3/envs/fastai/lib/python3.6/site-packages/sklearn/metrics/classification.py:1135: UndefinedMetricWarning: F-score is ill-defined and being set to 0.0 due to no predicted samples.\n",
      "  'precision', 'predicted', average, warn_for)\n"
     ]
    },
    {
     "name": "stdout",
     "output_type": "stream",
     "text": [
      "[CV]  learning_rate=0.01, max_depth=3, n_estimators=25, score=0.0, total=   5.3s\n",
      "[CV] learning_rate=0.01, max_depth=3, n_estimators=25 ................\n"
     ]
    },
    {
     "name": "stderr",
     "output_type": "stream",
     "text": [
      "/home/thi/anaconda3/envs/fastai/lib/python3.6/site-packages/sklearn/metrics/classification.py:1135: UndefinedMetricWarning: F-score is ill-defined and being set to 0.0 due to no predicted samples.\n",
      "  'precision', 'predicted', average, warn_for)\n"
     ]
    },
    {
     "name": "stdout",
     "output_type": "stream",
     "text": [
      "[CV]  learning_rate=0.01, max_depth=3, n_estimators=25, score=0.0, total=   5.4s\n",
      "[CV] learning_rate=0.01, max_depth=3, n_estimators=25 ................\n"
     ]
    },
    {
     "name": "stderr",
     "output_type": "stream",
     "text": [
      "[Parallel(n_jobs=-1)]: Done 297 tasks      | elapsed: 182.9min\n",
      "/home/thi/anaconda3/envs/fastai/lib/python3.6/site-packages/sklearn/metrics/classification.py:1135: UndefinedMetricWarning: F-score is ill-defined and being set to 0.0 due to no predicted samples.\n",
      "  'precision', 'predicted', average, warn_for)\n"
     ]
    },
    {
     "name": "stdout",
     "output_type": "stream",
     "text": [
      "[CV]  learning_rate=0.01, max_depth=3, n_estimators=25, score=0.0, total=   5.4s\n",
      "[CV] learning_rate=0.01, max_depth=3, n_estimators=25 ................\n"
     ]
    },
    {
     "name": "stderr",
     "output_type": "stream",
     "text": [
      "/home/thi/anaconda3/envs/fastai/lib/python3.6/site-packages/sklearn/metrics/classification.py:1135: UndefinedMetricWarning: F-score is ill-defined and being set to 0.0 due to no predicted samples.\n",
      "  'precision', 'predicted', average, warn_for)\n"
     ]
    },
    {
     "name": "stdout",
     "output_type": "stream",
     "text": [
      "[CV]  learning_rate=0.01, max_depth=3, n_estimators=25, score=0.0, total=   5.2s\n",
      "[CV] learning_rate=0.01, max_depth=3, n_estimators=25 ................\n"
     ]
    },
    {
     "name": "stderr",
     "output_type": "stream",
     "text": [
      "/home/thi/anaconda3/envs/fastai/lib/python3.6/site-packages/sklearn/metrics/classification.py:1135: UndefinedMetricWarning: F-score is ill-defined and being set to 0.0 due to no predicted samples.\n",
      "  'precision', 'predicted', average, warn_for)\n"
     ]
    },
    {
     "name": "stdout",
     "output_type": "stream",
     "text": [
      "[CV]  learning_rate=0.01, max_depth=3, n_estimators=25, score=0.0, total=   5.3s\n",
      "[CV] learning_rate=0.01, max_depth=3, n_estimators=25 ................\n"
     ]
    },
    {
     "name": "stderr",
     "output_type": "stream",
     "text": [
      "/home/thi/anaconda3/envs/fastai/lib/python3.6/site-packages/sklearn/metrics/classification.py:1135: UndefinedMetricWarning: F-score is ill-defined and being set to 0.0 due to no predicted samples.\n",
      "  'precision', 'predicted', average, warn_for)\n"
     ]
    },
    {
     "name": "stdout",
     "output_type": "stream",
     "text": [
      "[CV]  learning_rate=0.01, max_depth=3, n_estimators=25, score=0.0, total=   5.4s\n",
      "[CV] learning_rate=0.01, max_depth=3, n_estimators=25 ................\n"
     ]
    },
    {
     "name": "stderr",
     "output_type": "stream",
     "text": [
      "/home/thi/anaconda3/envs/fastai/lib/python3.6/site-packages/sklearn/metrics/classification.py:1135: UndefinedMetricWarning: F-score is ill-defined and being set to 0.0 due to no predicted samples.\n",
      "  'precision', 'predicted', average, warn_for)\n"
     ]
    },
    {
     "name": "stdout",
     "output_type": "stream",
     "text": [
      "[CV]  learning_rate=0.01, max_depth=3, n_estimators=25, score=0.0, total=   5.3s\n",
      "[CV] learning_rate=0.01, max_depth=3, n_estimators=25 ................\n"
     ]
    },
    {
     "name": "stderr",
     "output_type": "stream",
     "text": [
      "/home/thi/anaconda3/envs/fastai/lib/python3.6/site-packages/sklearn/metrics/classification.py:1135: UndefinedMetricWarning: F-score is ill-defined and being set to 0.0 due to no predicted samples.\n",
      "  'precision', 'predicted', average, warn_for)\n"
     ]
    },
    {
     "name": "stdout",
     "output_type": "stream",
     "text": [
      "[CV]  learning_rate=0.01, max_depth=3, n_estimators=25, score=0.0, total=   5.3s\n",
      "[CV] learning_rate=0.01, max_depth=3, n_estimators=50 ................\n"
     ]
    },
    {
     "name": "stderr",
     "output_type": "stream",
     "text": [
      "/home/thi/anaconda3/envs/fastai/lib/python3.6/site-packages/sklearn/metrics/classification.py:1135: UndefinedMetricWarning: F-score is ill-defined and being set to 0.0 due to no predicted samples.\n",
      "  'precision', 'predicted', average, warn_for)\n"
     ]
    },
    {
     "name": "stdout",
     "output_type": "stream",
     "text": [
      "[CV]  learning_rate=0.01, max_depth=3, n_estimators=25, score=0.0, total=   5.4s\n",
      "[CV] learning_rate=0.01, max_depth=3, n_estimators=50 ................\n",
      "[CV]  learning_rate=0.01, max_depth=3, n_estimators=50, score=0.5214424951267057, total=  10.5s\n",
      "[CV] learning_rate=0.01, max_depth=3, n_estimators=50 ................\n",
      "[CV]  learning_rate=0.01, max_depth=3, n_estimators=50, score=0.543042270904042, total=  10.5s\n",
      "[CV] learning_rate=0.01, max_depth=3, n_estimators=50 ................\n",
      "[CV]  learning_rate=0.01, max_depth=3, n_estimators=50, score=0.525984251968504, total=  10.5s\n",
      "[CV] learning_rate=0.01, max_depth=3, n_estimators=50 ................\n",
      "[CV]  learning_rate=0.01, max_depth=3, n_estimators=50, score=0.5664794007490638, total=  10.5s\n",
      "[CV] learning_rate=0.01, max_depth=3, n_estimators=50 ................\n",
      "[CV]  learning_rate=0.01, max_depth=3, n_estimators=50, score=0.5291338582677165, total=   9.9s\n",
      "[CV] learning_rate=0.01, max_depth=3, n_estimators=50 ................\n",
      "[CV]  learning_rate=0.01, max_depth=3, n_estimators=50, score=0.5142405063291139, total=  10.1s\n",
      "[CV] learning_rate=0.01, max_depth=3, n_estimators=50 ................\n",
      "[CV]  learning_rate=0.01, max_depth=3, n_estimators=50, score=0.5132396207911082, total=  10.1s\n",
      "[CV] learning_rate=0.01, max_depth=3, n_estimators=50 ................\n",
      "[CV]  learning_rate=0.01, max_depth=3, n_estimators=50, score=0.541332510795805, total=   9.9s\n",
      "[CV] learning_rate=0.01, max_depth=3, n_estimators=50 ................\n",
      "[CV]  learning_rate=0.02, max_depth=20, n_estimators=400, score=0.6972665699080793, total=62.8min\n",
      "[CV] learning_rate=0.01, max_depth=3, n_estimators=100 ...............\n",
      "[CV]  learning_rate=0.01, max_depth=3, n_estimators=50, score=0.5065573770491805, total=  10.4s\n",
      "[CV] learning_rate=0.01, max_depth=3, n_estimators=100 ...............\n",
      "[CV]  learning_rate=0.01, max_depth=3, n_estimators=50, score=0.5251066622907777, total=  10.7s\n",
      "[CV] learning_rate=0.01, max_depth=3, n_estimators=100 ...............\n",
      "[CV]  learning_rate=0.01, max_depth=3, n_estimators=100, score=0.6839699640874959, total=  21.1s\n",
      "[CV] learning_rate=0.01, max_depth=3, n_estimators=100 ...............\n",
      "[CV]  learning_rate=0.01, max_depth=3, n_estimators=100, score=0.7174302951247351, total=  20.8s\n",
      "[CV] learning_rate=0.01, max_depth=3, n_estimators=100 ...............\n",
      "[CV]  learning_rate=0.01, max_depth=3, n_estimators=100, score=0.7056956739602471, total=  21.1s\n",
      "[CV] learning_rate=0.01, max_depth=3, n_estimators=100 ...............\n",
      "[CV]  learning_rate=0.01, max_depth=3, n_estimators=100, score=0.695859872611465, total=  20.9s\n",
      "[CV] learning_rate=0.01, max_depth=3, n_estimators=100 ...............\n",
      "[CV]  learning_rate=0.01, max_depth=3, n_estimators=100, score=0.7109613224201573, total=  20.9s\n",
      "[CV] learning_rate=0.01, max_depth=3, n_estimators=100 ...............\n",
      "[CV]  learning_rate=0.01, max_depth=3, n_estimators=100, score=0.7034282018111254, total=  20.7s\n",
      "[CV] learning_rate=0.01, max_depth=3, n_estimators=100 ...............\n",
      "[CV]  learning_rate=0.01, max_depth=3, n_estimators=100, score=0.6948250846364662, total=  20.5s\n",
      "[CV] learning_rate=0.01, max_depth=3, n_estimators=100 ...............\n"
     ]
    },
    {
     "name": "stderr",
     "output_type": "stream",
     "text": [
      "[Parallel(n_jobs=-1)]: Done 322 tasks      | elapsed: 185.1min\n"
     ]
    },
    {
     "name": "stdout",
     "output_type": "stream",
     "text": [
      "[CV]  learning_rate=0.01, max_depth=3, n_estimators=100, score=0.709366391184573, total=  20.8s\n",
      "[CV] learning_rate=0.01, max_depth=3, n_estimators=200 ...............\n",
      "[CV]  learning_rate=0.01, max_depth=3, n_estimators=100, score=0.7087072116982386, total=  20.8s\n",
      "[CV] learning_rate=0.01, max_depth=3, n_estimators=200 ...............\n",
      "[CV]  learning_rate=0.02, max_depth=20, n_estimators=400, score=0.681682755333095, total=64.4min\n",
      "[CV] learning_rate=0.01, max_depth=3, n_estimators=200 ...............\n",
      "[CV]  learning_rate=0.01, max_depth=3, n_estimators=100, score=0.6935817805383022, total=  20.2s\n",
      "[CV] learning_rate=0.01, max_depth=3, n_estimators=200 ...............\n",
      "[CV]  learning_rate=0.01, max_depth=3, n_estimators=200, score=0.6962425007893905, total=  40.0s\n",
      "[CV] learning_rate=0.01, max_depth=3, n_estimators=200 ...............\n",
      "[CV]  learning_rate=0.01, max_depth=3, n_estimators=200, score=0.7275565964090552, total=  40.0s\n",
      "[CV] learning_rate=0.01, max_depth=3, n_estimators=200 ...............\n",
      "[CV]  learning_rate=0.01, max_depth=3, n_estimators=200, score=0.7264428284078601, total=  41.2s\n",
      "[CV] learning_rate=0.01, max_depth=3, n_estimators=200 ...............\n",
      "[CV]  learning_rate=0.01, max_depth=3, n_estimators=200, score=0.7088846880907373, total=  40.2s\n",
      "[CV] learning_rate=0.01, max_depth=3, n_estimators=200 ...............\n",
      "[CV]  learning_rate=0.01, max_depth=3, n_estimators=200, score=0.7181942544459644, total=  40.6s\n",
      "[CV] learning_rate=0.01, max_depth=3, n_estimators=200 ...............\n",
      "[CV]  learning_rate=0.01, max_depth=3, n_estimators=200, score=0.7150723725613592, total=  39.9s\n",
      "[CV] learning_rate=0.01, max_depth=3, n_estimators=200 ...............\n",
      "[CV]  learning_rate=0.01, max_depth=3, n_estimators=200, score=0.7149673930332431, total=  40.0s\n",
      "[CV] learning_rate=0.01, max_depth=3, n_estimators=400 ...............\n",
      "[CV]  learning_rate=0.01, max_depth=3, n_estimators=200, score=0.7189835575485799, total=  39.5s\n",
      "[CV] learning_rate=0.01, max_depth=3, n_estimators=400 ...............\n",
      "[CV]  learning_rate=0.01, max_depth=3, n_estimators=200, score=0.7082603851663217, total=  38.7s\n",
      "[CV] learning_rate=0.01, max_depth=3, n_estimators=400 ...............\n",
      "[CV]  learning_rate=0.01, max_depth=3, n_estimators=200, score=0.7204062202475404, total=  41.2s\n",
      "[CV] learning_rate=0.01, max_depth=3, n_estimators=400 ...............\n",
      "[CV]  learning_rate=0.01, max_depth=3, n_estimators=400, score=0.7128935532233883, total= 1.3min\n",
      "[CV] learning_rate=0.01, max_depth=3, n_estimators=400 ...............\n",
      "[CV]  learning_rate=0.01, max_depth=3, n_estimators=400, score=0.7470753739078929, total= 1.3min\n",
      "[CV] learning_rate=0.01, max_depth=3, n_estimators=400 ...............\n",
      "[CV]  learning_rate=0.01, max_depth=3, n_estimators=400, score=0.7440174039158809, total= 1.3min\n",
      "[CV] learning_rate=0.01, max_depth=3, n_estimators=400 ...............\n",
      "[CV]  learning_rate=0.01, max_depth=3, n_estimators=400, score=0.7238010657193605, total= 1.3min\n",
      "[CV] learning_rate=0.01, max_depth=3, n_estimators=400 ...............\n",
      "[CV]  learning_rate=0.01, max_depth=3, n_estimators=400, score=0.7427349166543736, total= 1.3min\n",
      "[CV] learning_rate=0.01, max_depth=3, n_estimators=400 ...............\n",
      "[CV]  learning_rate=0.01, max_depth=3, n_estimators=400, score=0.7330336426914154, total= 1.3min\n",
      "[CV] learning_rate=0.01, max_depth=3, n_estimators=400 ...............\n",
      "[CV]  learning_rate=0.01, max_depth=3, n_estimators=400, score=0.7332412946770976, total= 1.3min\n",
      "[CV] learning_rate=0.01, max_depth=5, n_estimators=25 ................\n",
      "[CV]  learning_rate=0.01, max_depth=3, n_estimators=400, score=0.7377049180327869, total= 1.3min\n",
      "[CV] learning_rate=0.01, max_depth=5, n_estimators=25 ................\n"
     ]
    },
    {
     "name": "stderr",
     "output_type": "stream",
     "text": [
      "/home/thi/anaconda3/envs/fastai/lib/python3.6/site-packages/sklearn/metrics/classification.py:1135: UndefinedMetricWarning: F-score is ill-defined and being set to 0.0 due to no predicted samples.\n",
      "  'precision', 'predicted', average, warn_for)\n"
     ]
    },
    {
     "name": "stdout",
     "output_type": "stream",
     "text": [
      "[CV]  learning_rate=0.01, max_depth=5, n_estimators=25, score=0.0, total=  12.0s\n",
      "[CV] learning_rate=0.01, max_depth=5, n_estimators=25 ................\n"
     ]
    },
    {
     "name": "stderr",
     "output_type": "stream",
     "text": [
      "/home/thi/anaconda3/envs/fastai/lib/python3.6/site-packages/sklearn/metrics/classification.py:1135: UndefinedMetricWarning: F-score is ill-defined and being set to 0.0 due to no predicted samples.\n",
      "  'precision', 'predicted', average, warn_for)\n"
     ]
    },
    {
     "name": "stdout",
     "output_type": "stream",
     "text": [
      "[CV]  learning_rate=0.01, max_depth=5, n_estimators=25, score=0.0, total=  12.1s\n",
      "[CV] learning_rate=0.01, max_depth=5, n_estimators=25 ................\n"
     ]
    },
    {
     "name": "stderr",
     "output_type": "stream",
     "text": [
      "/home/thi/anaconda3/envs/fastai/lib/python3.6/site-packages/sklearn/metrics/classification.py:1135: UndefinedMetricWarning: F-score is ill-defined and being set to 0.0 due to no predicted samples.\n",
      "  'precision', 'predicted', average, warn_for)\n"
     ]
    },
    {
     "name": "stdout",
     "output_type": "stream",
     "text": [
      "[CV]  learning_rate=0.01, max_depth=5, n_estimators=25, score=0.0, total=  11.7s\n",
      "[CV] learning_rate=0.01, max_depth=5, n_estimators=25 ................\n"
     ]
    },
    {
     "name": "stderr",
     "output_type": "stream",
     "text": [
      "/home/thi/anaconda3/envs/fastai/lib/python3.6/site-packages/sklearn/metrics/classification.py:1135: UndefinedMetricWarning: F-score is ill-defined and being set to 0.0 due to no predicted samples.\n",
      "  'precision', 'predicted', average, warn_for)\n"
     ]
    },
    {
     "name": "stdout",
     "output_type": "stream",
     "text": [
      "[CV]  learning_rate=0.01, max_depth=5, n_estimators=25, score=0.0, total=  12.4s\n",
      "[CV] learning_rate=0.01, max_depth=5, n_estimators=25 ................\n"
     ]
    },
    {
     "name": "stderr",
     "output_type": "stream",
     "text": [
      "/home/thi/anaconda3/envs/fastai/lib/python3.6/site-packages/sklearn/metrics/classification.py:1135: UndefinedMetricWarning: F-score is ill-defined and being set to 0.0 due to no predicted samples.\n",
      "  'precision', 'predicted', average, warn_for)\n"
     ]
    },
    {
     "name": "stdout",
     "output_type": "stream",
     "text": [
      "[CV]  learning_rate=0.01, max_depth=5, n_estimators=25, score=0.0, total=  12.0s\n",
      "[CV] learning_rate=0.01, max_depth=5, n_estimators=25 ................\n"
     ]
    },
    {
     "name": "stderr",
     "output_type": "stream",
     "text": [
      "[Parallel(n_jobs=-1)]: Done 349 tasks      | elapsed: 190.4min\n",
      "/home/thi/anaconda3/envs/fastai/lib/python3.6/site-packages/sklearn/metrics/classification.py:1135: UndefinedMetricWarning: F-score is ill-defined and being set to 0.0 due to no predicted samples.\n",
      "  'precision', 'predicted', average, warn_for)\n"
     ]
    },
    {
     "name": "stdout",
     "output_type": "stream",
     "text": [
      "[CV]  learning_rate=0.01, max_depth=5, n_estimators=25, score=0.0, total=  11.8s\n",
      "[CV] learning_rate=0.01, max_depth=5, n_estimators=25 ................\n"
     ]
    },
    {
     "name": "stderr",
     "output_type": "stream",
     "text": [
      "/home/thi/anaconda3/envs/fastai/lib/python3.6/site-packages/sklearn/metrics/classification.py:1135: UndefinedMetricWarning: F-score is ill-defined and being set to 0.0 due to no predicted samples.\n",
      "  'precision', 'predicted', average, warn_for)\n"
     ]
    },
    {
     "name": "stdout",
     "output_type": "stream",
     "text": [
      "[CV]  learning_rate=0.01, max_depth=5, n_estimators=25, score=0.0, total=  12.1s\n",
      "[CV] learning_rate=0.01, max_depth=5, n_estimators=25 ................\n",
      "[CV]  learning_rate=0.01, max_depth=3, n_estimators=400, score=0.7312518673438902, total= 1.3min\n",
      "[CV] learning_rate=0.01, max_depth=5, n_estimators=25 ................\n"
     ]
    },
    {
     "name": "stderr",
     "output_type": "stream",
     "text": [
      "/home/thi/anaconda3/envs/fastai/lib/python3.6/site-packages/sklearn/metrics/classification.py:1135: UndefinedMetricWarning: F-score is ill-defined and being set to 0.0 due to no predicted samples.\n",
      "  'precision', 'predicted', average, warn_for)\n"
     ]
    },
    {
     "name": "stdout",
     "output_type": "stream",
     "text": [
      "[CV]  learning_rate=0.01, max_depth=5, n_estimators=25, score=0.0, total=  12.3s\n",
      "[CV] learning_rate=0.01, max_depth=5, n_estimators=50 ................\n",
      "[CV]  learning_rate=0.01, max_depth=3, n_estimators=400, score=0.7281696362833161, total= 1.3min\n",
      "[CV] learning_rate=0.01, max_depth=5, n_estimators=50 ................\n"
     ]
    },
    {
     "name": "stderr",
     "output_type": "stream",
     "text": [
      "/home/thi/anaconda3/envs/fastai/lib/python3.6/site-packages/sklearn/metrics/classification.py:1135: UndefinedMetricWarning: F-score is ill-defined and being set to 0.0 due to no predicted samples.\n",
      "  'precision', 'predicted', average, warn_for)\n"
     ]
    },
    {
     "name": "stdout",
     "output_type": "stream",
     "text": [
      "[CV]  learning_rate=0.01, max_depth=5, n_estimators=25, score=0.0, total=  11.8s\n",
      "[CV] learning_rate=0.01, max_depth=5, n_estimators=50 ................\n"
     ]
    },
    {
     "name": "stderr",
     "output_type": "stream",
     "text": [
      "/home/thi/anaconda3/envs/fastai/lib/python3.6/site-packages/sklearn/metrics/classification.py:1135: UndefinedMetricWarning: F-score is ill-defined and being set to 0.0 due to no predicted samples.\n",
      "  'precision', 'predicted', average, warn_for)\n"
     ]
    },
    {
     "name": "stdout",
     "output_type": "stream",
     "text": [
      "[CV]  learning_rate=0.01, max_depth=5, n_estimators=25, score=0.0, total=  12.2s\n",
      "[CV] learning_rate=0.01, max_depth=5, n_estimators=50 ................\n",
      "[CV]  learning_rate=0.01, max_depth=5, n_estimators=50, score=0.5768063145112324, total=  23.7s\n",
      "[CV] learning_rate=0.01, max_depth=5, n_estimators=50 ................\n",
      "[CV]  learning_rate=0.01, max_depth=5, n_estimators=50, score=0.5931471350417505, total=  23.0s\n",
      "[CV] learning_rate=0.01, max_depth=5, n_estimators=50 ................\n",
      "[CV]  learning_rate=0.01, max_depth=5, n_estimators=50, score=0.5948007911839502, total=  23.3s\n",
      "[CV] learning_rate=0.01, max_depth=5, n_estimators=50 ................\n",
      "[CV]  learning_rate=0.01, max_depth=5, n_estimators=50, score=0.6133720930232558, total=  23.9s\n",
      "[CV] learning_rate=0.01, max_depth=5, n_estimators=50 ................\n",
      "[CV]  learning_rate=0.01, max_depth=5, n_estimators=50, score=0.5875542691751086, total=  23.8s\n",
      "[CV] learning_rate=0.01, max_depth=5, n_estimators=50 ................\n",
      "[CV]  learning_rate=0.01, max_depth=5, n_estimators=50, score=0.5882352941176471, total=  23.3s\n",
      "[CV] learning_rate=0.01, max_depth=5, n_estimators=50 ................\n",
      "[CV]  learning_rate=0.01, max_depth=5, n_estimators=50, score=0.5739680626694788, total=  23.4s\n",
      "[CV] learning_rate=0.01, max_depth=5, n_estimators=100 ...............\n",
      "[CV]  learning_rate=0.01, max_depth=5, n_estimators=50, score=0.6020350480497456, total=  22.8s\n",
      "[CV] learning_rate=0.01, max_depth=5, n_estimators=100 ...............\n",
      "[CV]  learning_rate=0.01, max_depth=5, n_estimators=50, score=0.5754323196183662, total=  23.1s\n",
      "[CV] learning_rate=0.01, max_depth=5, n_estimators=100 ...............\n",
      "[CV]  learning_rate=0.01, max_depth=5, n_estimators=50, score=0.584019518145776, total=  23.8s\n",
      "[CV] learning_rate=0.01, max_depth=5, n_estimators=100 ...............\n",
      "[CV]  learning_rate=0.01, max_depth=5, n_estimators=100, score=0.7241379310344829, total=  47.2s\n",
      "[CV] learning_rate=0.01, max_depth=5, n_estimators=100 ...............\n",
      "[CV]  learning_rate=0.01, max_depth=5, n_estimators=100, score=0.7410896530067513, total=  46.7s\n",
      "[CV] learning_rate=0.01, max_depth=5, n_estimators=100 ...............\n",
      "[CV]  learning_rate=0.01, max_depth=5, n_estimators=100, score=0.7437407952871871, total=  45.9s\n",
      "[CV] learning_rate=0.01, max_depth=5, n_estimators=100 ...............\n",
      "[CV]  learning_rate=0.01, max_depth=5, n_estimators=100, score=0.7256493506493505, total=  46.8s\n",
      "[CV] learning_rate=0.01, max_depth=5, n_estimators=100 ...............\n",
      "[CV]  learning_rate=0.01, max_depth=5, n_estimators=100, score=0.7373959478561332, total=  47.3s\n",
      "[CV] learning_rate=0.01, max_depth=5, n_estimators=100 ...............\n",
      "[CV]  learning_rate=0.01, max_depth=5, n_estimators=100, score=0.7317073170731707, total=  46.9s\n",
      "[CV] learning_rate=0.01, max_depth=5, n_estimators=100 ...............\n",
      "[CV]  learning_rate=0.01, max_depth=5, n_estimators=100, score=0.734143499250874, total=  48.0s\n",
      "[CV] learning_rate=0.01, max_depth=5, n_estimators=200 ...............\n",
      "[CV]  learning_rate=0.01, max_depth=5, n_estimators=100, score=0.7429718875502008, total=  48.0s\n",
      "[CV] learning_rate=0.01, max_depth=5, n_estimators=200 ...............\n",
      "[CV]  learning_rate=0.01, max_depth=5, n_estimators=100, score=0.7212396560116826, total=  45.9s\n",
      "[CV] learning_rate=0.01, max_depth=5, n_estimators=200 ...............\n",
      "[CV]  learning_rate=0.01, max_depth=5, n_estimators=100, score=0.7309357309357308, total=  47.9s\n",
      "[CV] learning_rate=0.01, max_depth=5, n_estimators=200 ...............\n"
     ]
    },
    {
     "name": "stderr",
     "output_type": "stream",
     "text": [
      "[Parallel(n_jobs=-1)]: Done 376 tasks      | elapsed: 194.0min\n"
     ]
    },
    {
     "name": "stdout",
     "output_type": "stream",
     "text": [
      "[CV]  learning_rate=0.01, max_depth=5, n_estimators=200, score=0.7261940522679483, total= 1.6min\n",
      "[CV] learning_rate=0.01, max_depth=5, n_estimators=200 ...............\n",
      "[CV]  learning_rate=0.01, max_depth=5, n_estimators=200, score=0.7519345889910937, total= 1.6min\n",
      "[CV] learning_rate=0.01, max_depth=5, n_estimators=200 ...............\n",
      "[CV]  learning_rate=0.01, max_depth=5, n_estimators=200, score=0.7540083778708652, total= 1.6min\n",
      "[CV] learning_rate=0.01, max_depth=5, n_estimators=200 ...............\n",
      "[CV]  learning_rate=0.01, max_depth=5, n_estimators=200, score=0.7275132275132274, total= 1.6min\n",
      "[CV] learning_rate=0.01, max_depth=5, n_estimators=200 ...............\n",
      "[CV]  learning_rate=0.01, max_depth=5, n_estimators=200, score=0.7467579775608336, total= 1.6min\n",
      "[CV] learning_rate=0.01, max_depth=5, n_estimators=200 ...............\n",
      "[CV]  learning_rate=0.01, max_depth=5, n_estimators=200, score=0.7392241379310345, total= 1.6min\n",
      "[CV] learning_rate=0.01, max_depth=5, n_estimators=200 ...............\n",
      "[CV]  learning_rate=0.01, max_depth=5, n_estimators=200, score=0.7455395072217501, total= 1.6min\n",
      "[CV] learning_rate=0.01, max_depth=5, n_estimators=400 ...............\n",
      "[CV]  learning_rate=0.01, max_depth=5, n_estimators=200, score=0.7382962394474292, total= 1.6min\n",
      "[CV] learning_rate=0.01, max_depth=5, n_estimators=400 ...............\n",
      "[CV]  learning_rate=0.01, max_depth=5, n_estimators=200, score=0.7421052631578948, total= 1.5min\n",
      "[CV] learning_rate=0.01, max_depth=5, n_estimators=400 ...............\n",
      "[CV]  learning_rate=0.01, max_depth=5, n_estimators=200, score=0.7309463675531125, total= 1.5min\n",
      "[CV] learning_rate=0.01, max_depth=5, n_estimators=400 ...............\n",
      "[CV]  learning_rate=0.01, max_depth=5, n_estimators=400, score=0.7593123209169054, total= 3.0min\n",
      "[CV] learning_rate=0.01, max_depth=5, n_estimators=400 ...............\n",
      "[CV]  learning_rate=0.01, max_depth=5, n_estimators=400, score=0.7318271119842829, total= 3.1min\n",
      "[CV] learning_rate=0.01, max_depth=5, n_estimators=400 ...............\n",
      "[CV]  learning_rate=0.01, max_depth=5, n_estimators=400, score=0.7323513062812674, total= 3.0min\n",
      "[CV] learning_rate=0.01, max_depth=5, n_estimators=400 ...............\n",
      "[CV]  learning_rate=0.01, max_depth=5, n_estimators=400, score=0.7593473827328348, total= 3.1min\n",
      "[CV] learning_rate=0.01, max_depth=5, n_estimators=400 ...............\n",
      "[CV]  learning_rate=0.01, max_depth=5, n_estimators=400, score=0.7546777546777546, total= 3.0min\n",
      "[CV] learning_rate=0.01, max_depth=5, n_estimators=400 ...............\n",
      "[CV]  learning_rate=0.01, max_depth=5, n_estimators=400, score=0.7466996699669967, total= 3.1min\n",
      "[CV] learning_rate=0.01, max_depth=5, n_estimators=400 ...............\n",
      "[CV]  learning_rate=0.01, max_depth=5, n_estimators=400, score=0.7524660090642497, total= 3.0min\n",
      "[CV] learning_rate=0.01, max_depth=10, n_estimators=25 ...............\n",
      "[CV]  learning_rate=0.02, max_depth=20, n_estimators=400, score=0.688659540484089, total=64.7min\n",
      "[CV] learning_rate=0.01, max_depth=10, n_estimators=25 ...............\n",
      "[CV]  learning_rate=0.01, max_depth=5, n_estimators=400, score=0.7528105877330297, total= 3.2min\n",
      "[CV] learning_rate=0.01, max_depth=10, n_estimators=25 ...............\n",
      "[CV]  learning_rate=0.02, max_depth=20, n_estimators=400, score=0.6918201387227935, total=64.5min\n",
      "[CV] learning_rate=0.01, max_depth=10, n_estimators=25 ...............\n"
     ]
    },
    {
     "name": "stderr",
     "output_type": "stream",
     "text": [
      "/home/thi/anaconda3/envs/fastai/lib/python3.6/site-packages/sklearn/metrics/classification.py:1135: UndefinedMetricWarning: F-score is ill-defined and being set to 0.0 due to no predicted samples.\n",
      "  'precision', 'predicted', average, warn_for)\n"
     ]
    },
    {
     "name": "stdout",
     "output_type": "stream",
     "text": [
      "[CV]  learning_rate=0.01, max_depth=10, n_estimators=25, score=0.0, total=  47.7s\n",
      "[CV] learning_rate=0.01, max_depth=10, n_estimators=25 ...............\n"
     ]
    },
    {
     "name": "stderr",
     "output_type": "stream",
     "text": [
      "/home/thi/anaconda3/envs/fastai/lib/python3.6/site-packages/sklearn/metrics/classification.py:1135: UndefinedMetricWarning: F-score is ill-defined and being set to 0.0 due to no predicted samples.\n",
      "  'precision', 'predicted', average, warn_for)\n"
     ]
    },
    {
     "name": "stdout",
     "output_type": "stream",
     "text": [
      "[CV]  learning_rate=0.01, max_depth=10, n_estimators=25, score=0.0, total=  48.1s\n",
      "[CV] learning_rate=0.01, max_depth=10, n_estimators=25 ...............\n"
     ]
    },
    {
     "name": "stderr",
     "output_type": "stream",
     "text": [
      "/home/thi/anaconda3/envs/fastai/lib/python3.6/site-packages/sklearn/metrics/classification.py:1135: UndefinedMetricWarning: F-score is ill-defined and being set to 0.0 due to no predicted samples.\n",
      "  'precision', 'predicted', average, warn_for)\n"
     ]
    },
    {
     "name": "stdout",
     "output_type": "stream",
     "text": [
      "[CV]  learning_rate=0.01, max_depth=10, n_estimators=25, score=0.0, total=  48.5s\n",
      "[CV] learning_rate=0.01, max_depth=10, n_estimators=25 ...............\n"
     ]
    },
    {
     "name": "stderr",
     "output_type": "stream",
     "text": [
      "/home/thi/anaconda3/envs/fastai/lib/python3.6/site-packages/sklearn/metrics/classification.py:1135: UndefinedMetricWarning: F-score is ill-defined and being set to 0.0 due to no predicted samples.\n",
      "  'precision', 'predicted', average, warn_for)\n"
     ]
    },
    {
     "name": "stdout",
     "output_type": "stream",
     "text": [
      "[CV]  learning_rate=0.01, max_depth=10, n_estimators=25, score=0.0, total=  47.0s\n",
      "[CV] learning_rate=0.01, max_depth=10, n_estimators=25 ...............\n"
     ]
    },
    {
     "name": "stderr",
     "output_type": "stream",
     "text": [
      "/home/thi/anaconda3/envs/fastai/lib/python3.6/site-packages/sklearn/metrics/classification.py:1135: UndefinedMetricWarning: F-score is ill-defined and being set to 0.0 due to no predicted samples.\n",
      "  'precision', 'predicted', average, warn_for)\n"
     ]
    },
    {
     "name": "stdout",
     "output_type": "stream",
     "text": [
      "[CV]  learning_rate=0.01, max_depth=10, n_estimators=25, score=0.0, total=  50.0s\n",
      "[CV] learning_rate=0.01, max_depth=10, n_estimators=25 ...............\n"
     ]
    },
    {
     "name": "stderr",
     "output_type": "stream",
     "text": [
      "/home/thi/anaconda3/envs/fastai/lib/python3.6/site-packages/sklearn/metrics/classification.py:1135: UndefinedMetricWarning: F-score is ill-defined and being set to 0.0 due to no predicted samples.\n",
      "  'precision', 'predicted', average, warn_for)\n"
     ]
    },
    {
     "name": "stdout",
     "output_type": "stream",
     "text": [
      "[CV]  learning_rate=0.01, max_depth=10, n_estimators=25, score=0.0, total=  45.7s\n",
      "[CV] learning_rate=0.01, max_depth=10, n_estimators=25 ...............\n"
     ]
    },
    {
     "name": "stderr",
     "output_type": "stream",
     "text": [
      "/home/thi/anaconda3/envs/fastai/lib/python3.6/site-packages/sklearn/metrics/classification.py:1135: UndefinedMetricWarning: F-score is ill-defined and being set to 0.0 due to no predicted samples.\n",
      "  'precision', 'predicted', average, warn_for)\n"
     ]
    },
    {
     "name": "stdout",
     "output_type": "stream",
     "text": [
      "[CV]  learning_rate=0.01, max_depth=10, n_estimators=25, score=0.0, total=  50.9s\n",
      "[CV] learning_rate=0.01, max_depth=10, n_estimators=50 ...............\n"
     ]
    },
    {
     "name": "stderr",
     "output_type": "stream",
     "text": [
      "/home/thi/anaconda3/envs/fastai/lib/python3.6/site-packages/sklearn/metrics/classification.py:1135: UndefinedMetricWarning: F-score is ill-defined and being set to 0.0 due to no predicted samples.\n",
      "  'precision', 'predicted', average, warn_for)\n"
     ]
    },
    {
     "name": "stdout",
     "output_type": "stream",
     "text": [
      "[CV]  learning_rate=0.01, max_depth=10, n_estimators=25, score=0.0, total=  45.6s\n",
      "[CV] learning_rate=0.01, max_depth=10, n_estimators=50 ...............\n",
      "[CV]  learning_rate=0.01, max_depth=5, n_estimators=400, score=0.7416367155100912, total= 3.1min\n",
      "[CV] learning_rate=0.01, max_depth=10, n_estimators=50 ...............\n"
     ]
    },
    {
     "name": "stderr",
     "output_type": "stream",
     "text": [
      "[Parallel(n_jobs=-1)]: Done 405 tasks      | elapsed: 206.3min\n"
     ]
    },
    {
     "name": "stdout",
     "output_type": "stream",
     "text": [
      "[CV]  learning_rate=0.01, max_depth=5, n_estimators=400, score=0.7413010590015129, total= 3.1min\n",
      "[CV] learning_rate=0.01, max_depth=10, n_estimators=50 ...............\n"
     ]
    },
    {
     "name": "stderr",
     "output_type": "stream",
     "text": [
      "/home/thi/anaconda3/envs/fastai/lib/python3.6/site-packages/sklearn/metrics/classification.py:1135: UndefinedMetricWarning: F-score is ill-defined and being set to 0.0 due to no predicted samples.\n",
      "  'precision', 'predicted', average, warn_for)\n"
     ]
    },
    {
     "name": "stdout",
     "output_type": "stream",
     "text": [
      "[CV]  learning_rate=0.01, max_depth=10, n_estimators=25, score=0.0, total=  46.5s\n",
      "[CV] learning_rate=0.01, max_depth=10, n_estimators=50 ...............\n"
     ]
    },
    {
     "name": "stderr",
     "output_type": "stream",
     "text": [
      "/home/thi/anaconda3/envs/fastai/lib/python3.6/site-packages/sklearn/metrics/classification.py:1135: UndefinedMetricWarning: F-score is ill-defined and being set to 0.0 due to no predicted samples.\n",
      "  'precision', 'predicted', average, warn_for)\n"
     ]
    },
    {
     "name": "stdout",
     "output_type": "stream",
     "text": [
      "[CV]  learning_rate=0.01, max_depth=10, n_estimators=25, score=0.0, total=  47.9s\n",
      "[CV] learning_rate=0.01, max_depth=10, n_estimators=50 ...............\n",
      "[CV]  learning_rate=0.01, max_depth=10, n_estimators=50, score=0.6267179769103903, total= 1.6min\n",
      "[CV] learning_rate=0.01, max_depth=10, n_estimators=50 ...............\n",
      "[CV]  learning_rate=0.01, max_depth=10, n_estimators=50, score=0.6541104606770173, total= 1.6min\n",
      "[CV] learning_rate=0.01, max_depth=10, n_estimators=50 ...............\n",
      "[CV]  learning_rate=0.01, max_depth=10, n_estimators=50, score=0.644576753818276, total= 1.6min\n",
      "[CV] learning_rate=0.01, max_depth=10, n_estimators=50 ...............\n",
      "[CV]  learning_rate=0.01, max_depth=10, n_estimators=50, score=0.6611461619348055, total= 1.6min\n",
      "[CV] learning_rate=0.01, max_depth=10, n_estimators=50 ...............\n",
      "[CV]  learning_rate=0.01, max_depth=10, n_estimators=50, score=0.6503749676752004, total= 1.6min\n",
      "[CV] learning_rate=0.01, max_depth=10, n_estimators=100 ..............\n",
      "[CV]  learning_rate=0.01, max_depth=10, n_estimators=50, score=0.6360103626943006, total= 1.6min\n",
      "[CV] learning_rate=0.01, max_depth=10, n_estimators=100 ..............\n",
      "[CV]  learning_rate=0.01, max_depth=10, n_estimators=50, score=0.6359471840474266, total= 1.6min\n",
      "[CV] learning_rate=0.01, max_depth=10, n_estimators=100 ..............\n",
      "[CV]  learning_rate=0.01, max_depth=10, n_estimators=50, score=0.6491002570694087, total= 1.6min\n",
      "[CV] learning_rate=0.01, max_depth=10, n_estimators=100 ..............\n",
      "[CV]  learning_rate=0.01, max_depth=10, n_estimators=50, score=0.6226158038147139, total= 1.6min\n",
      "[CV] learning_rate=0.01, max_depth=10, n_estimators=100 ..............\n",
      "[CV]  learning_rate=0.01, max_depth=10, n_estimators=50, score=0.6292563334241351, total= 1.6min\n",
      "[CV] learning_rate=0.01, max_depth=10, n_estimators=100 ..............\n",
      "[CV]  learning_rate=0.01, max_depth=10, n_estimators=100, score=0.7288676236044657, total= 3.1min\n",
      "[CV] learning_rate=0.01, max_depth=10, n_estimators=100 ..............\n",
      "[CV]  learning_rate=0.01, max_depth=10, n_estimators=100, score=0.7474763659669924, total= 3.2min\n",
      "[CV] learning_rate=0.01, max_depth=10, n_estimators=100 ..............\n",
      "[CV]  learning_rate=0.01, max_depth=10, n_estimators=100, score=0.7534246575342465, total= 3.3min\n",
      "[CV] learning_rate=0.01, max_depth=10, n_estimators=100 ..............\n",
      "[CV]  learning_rate=0.01, max_depth=10, n_estimators=100, score=0.7375573018991488, total= 3.3min\n",
      "[CV] learning_rate=0.01, max_depth=10, n_estimators=100 ..............\n",
      "[CV]  learning_rate=0.01, max_depth=10, n_estimators=100, score=0.7497969130787977, total= 3.2min\n",
      "[CV] learning_rate=0.01, max_depth=10, n_estimators=200 ..............\n",
      "[CV]  learning_rate=0.01, max_depth=10, n_estimators=100, score=0.7471715901948461, total= 3.3min\n",
      "[CV] learning_rate=0.01, max_depth=10, n_estimators=200 ..............\n",
      "[CV]  learning_rate=0.01, max_depth=10, n_estimators=100, score=0.741216795201371, total= 3.3min\n",
      "[CV] learning_rate=0.01, max_depth=10, n_estimators=200 ..............\n",
      "[CV]  learning_rate=0.01, max_depth=10, n_estimators=100, score=0.7474813129671757, total= 3.3min\n",
      "[CV] learning_rate=0.01, max_depth=10, n_estimators=200 ..............\n",
      "[CV]  learning_rate=0.01, max_depth=10, n_estimators=100, score=0.7405836443841195, total= 3.2min\n",
      "[CV] learning_rate=0.01, max_depth=10, n_estimators=200 ..............\n",
      "[CV]  learning_rate=0.01, max_depth=10, n_estimators=100, score=0.7344584122610641, total= 3.3min\n",
      "[CV] learning_rate=0.01, max_depth=10, n_estimators=200 ..............\n",
      "[CV]  learning_rate=0.01, max_depth=10, n_estimators=200, score=0.7228400342172797, total= 6.5min\n",
      "[CV] learning_rate=0.01, max_depth=10, n_estimators=200 ..............\n",
      "[CV]  learning_rate=0.01, max_depth=10, n_estimators=200, score=0.7586494372655272, total= 6.6min\n",
      "[CV] learning_rate=0.01, max_depth=10, n_estimators=200 ..............\n",
      "[CV]  learning_rate=0.01, max_depth=10, n_estimators=200, score=0.7604297474536068, total= 6.7min\n",
      "[CV] learning_rate=0.01, max_depth=10, n_estimators=200 ..............\n",
      "[CV]  learning_rate=0.01, max_depth=10, n_estimators=200, score=0.7381221719457013, total= 6.8min\n",
      "[CV] learning_rate=0.01, max_depth=10, n_estimators=200 ..............\n",
      "[CV]  learning_rate=0.01, max_depth=10, n_estimators=200, score=0.7534152062922589, total= 6.7min\n",
      "[CV] learning_rate=0.01, max_depth=10, n_estimators=400 ..............\n",
      "[CV]  learning_rate=0.01, max_depth=10, n_estimators=200, score=0.746458923512748, total= 6.7min\n",
      "[CV] learning_rate=0.01, max_depth=10, n_estimators=400 ..............\n"
     ]
    },
    {
     "name": "stderr",
     "output_type": "stream",
     "text": [
      "[Parallel(n_jobs=-1)]: Done 434 tasks      | elapsed: 222.6min\n"
     ]
    },
    {
     "name": "stdout",
     "output_type": "stream",
     "text": [
      "[CV]  learning_rate=0.01, max_depth=10, n_estimators=200, score=0.7448517598948444, total= 6.8min\n",
      "[CV] learning_rate=0.01, max_depth=10, n_estimators=400 ..............\n",
      "[CV]  learning_rate=0.01, max_depth=10, n_estimators=200, score=0.7573874620270644, total= 6.7min\n",
      "[CV] learning_rate=0.01, max_depth=10, n_estimators=400 ..............\n",
      "[CV]  learning_rate=0.01, max_depth=10, n_estimators=200, score=0.7489239598278334, total= 6.7min\n",
      "[CV] learning_rate=0.01, max_depth=10, n_estimators=400 ..............\n",
      "[CV]  learning_rate=0.01, max_depth=10, n_estimators=200, score=0.7463336721359083, total= 6.8min\n",
      "[CV] learning_rate=0.01, max_depth=10, n_estimators=400 ..............\n",
      "[CV]  learning_rate=0.01, max_depth=10, n_estimators=400, score=0.7566841499296406, total=13.7min\n",
      "[CV] learning_rate=0.01, max_depth=10, n_estimators=400 ..............\n",
      "[CV]  learning_rate=0.01, max_depth=10, n_estimators=400, score=0.7270708126469819, total=13.8min\n",
      "[CV] learning_rate=0.01, max_depth=10, n_estimators=400 ..............\n",
      "[CV]  learning_rate=0.02, max_depth=20, n_estimators=400, score=0.6833353562325526, total=63.9min\n",
      "[CV] learning_rate=0.01, max_depth=10, n_estimators=400 ..............\n",
      "[CV]  learning_rate=0.02, max_depth=20, n_estimators=400, score=0.6958634438076251, total=65.6min\n",
      "[CV] learning_rate=0.01, max_depth=10, n_estimators=400 ..............\n",
      "[CV]  learning_rate=0.01, max_depth=10, n_estimators=400, score=0.7612210580778683, total=13.7min\n",
      "[CV] learning_rate=0.01, max_depth=20, n_estimators=25 ...............\n",
      "[CV]  learning_rate=0.01, max_depth=10, n_estimators=400, score=0.7388157894736842, total=14.0min\n",
      "[CV] learning_rate=0.01, max_depth=20, n_estimators=25 ...............\n",
      "[CV]  learning_rate=0.01, max_depth=10, n_estimators=400, score=0.7567257427004972, total=13.6min\n",
      "[CV] learning_rate=0.01, max_depth=20, n_estimators=25 ...............\n",
      "[CV]  learning_rate=0.01, max_depth=10, n_estimators=400, score=0.7604759441282981, total=13.9min\n",
      "[CV] learning_rate=0.01, max_depth=20, n_estimators=25 ...............\n"
     ]
    },
    {
     "name": "stderr",
     "output_type": "stream",
     "text": [
      "/home/thi/anaconda3/envs/fastai/lib/python3.6/site-packages/sklearn/metrics/classification.py:1135: UndefinedMetricWarning: F-score is ill-defined and being set to 0.0 due to no predicted samples.\n",
      "  'precision', 'predicted', average, warn_for)\n"
     ]
    },
    {
     "name": "stdout",
     "output_type": "stream",
     "text": [
      "[CV]  learning_rate=0.01, max_depth=20, n_estimators=25, score=0.0, total= 3.2min\n",
      "[CV] learning_rate=0.01, max_depth=20, n_estimators=25 ...............\n"
     ]
    },
    {
     "name": "stderr",
     "output_type": "stream",
     "text": [
      "/home/thi/anaconda3/envs/fastai/lib/python3.6/site-packages/sklearn/metrics/classification.py:1135: UndefinedMetricWarning: F-score is ill-defined and being set to 0.0 due to no predicted samples.\n",
      "  'precision', 'predicted', average, warn_for)\n"
     ]
    },
    {
     "name": "stdout",
     "output_type": "stream",
     "text": [
      "[CV]  learning_rate=0.01, max_depth=20, n_estimators=25, score=0.0, total= 3.1min\n",
      "[CV] learning_rate=0.01, max_depth=20, n_estimators=25 ...............\n"
     ]
    },
    {
     "name": "stderr",
     "output_type": "stream",
     "text": [
      "/home/thi/anaconda3/envs/fastai/lib/python3.6/site-packages/sklearn/metrics/classification.py:1135: UndefinedMetricWarning: F-score is ill-defined and being set to 0.0 due to no predicted samples.\n",
      "  'precision', 'predicted', average, warn_for)\n"
     ]
    },
    {
     "name": "stdout",
     "output_type": "stream",
     "text": [
      "[CV]  learning_rate=0.01, max_depth=20, n_estimators=25, score=0.0, total= 3.2min\n",
      "[CV] learning_rate=0.01, max_depth=20, n_estimators=25 ...............\n"
     ]
    },
    {
     "name": "stderr",
     "output_type": "stream",
     "text": [
      "/home/thi/anaconda3/envs/fastai/lib/python3.6/site-packages/sklearn/metrics/classification.py:1135: UndefinedMetricWarning: F-score is ill-defined and being set to 0.0 due to no predicted samples.\n",
      "  'precision', 'predicted', average, warn_for)\n"
     ]
    },
    {
     "name": "stdout",
     "output_type": "stream",
     "text": [
      "[CV]  learning_rate=0.01, max_depth=20, n_estimators=25, score=0.0, total= 3.1min\n",
      "[CV] learning_rate=0.01, max_depth=20, n_estimators=25 ...............\n"
     ]
    },
    {
     "name": "stderr",
     "output_type": "stream",
     "text": [
      "/home/thi/anaconda3/envs/fastai/lib/python3.6/site-packages/sklearn/metrics/classification.py:1135: UndefinedMetricWarning: F-score is ill-defined and being set to 0.0 due to no predicted samples.\n",
      "  'precision', 'predicted', average, warn_for)\n"
     ]
    },
    {
     "name": "stdout",
     "output_type": "stream",
     "text": [
      "[CV]  learning_rate=0.01, max_depth=20, n_estimators=25, score=0.0, total= 3.1min\n",
      "[CV] learning_rate=0.01, max_depth=20, n_estimators=25 ...............\n"
     ]
    },
    {
     "name": "stderr",
     "output_type": "stream",
     "text": [
      "/home/thi/anaconda3/envs/fastai/lib/python3.6/site-packages/sklearn/metrics/classification.py:1135: UndefinedMetricWarning: F-score is ill-defined and being set to 0.0 due to no predicted samples.\n",
      "  'precision', 'predicted', average, warn_for)\n"
     ]
    },
    {
     "name": "stdout",
     "output_type": "stream",
     "text": [
      "[CV]  learning_rate=0.01, max_depth=20, n_estimators=25, score=0.0, total= 3.2min\n",
      "[CV] learning_rate=0.01, max_depth=20, n_estimators=25 ...............\n"
     ]
    },
    {
     "name": "stderr",
     "output_type": "stream",
     "text": [
      "/home/thi/anaconda3/envs/fastai/lib/python3.6/site-packages/sklearn/metrics/classification.py:1135: UndefinedMetricWarning: F-score is ill-defined and being set to 0.0 due to no predicted samples.\n",
      "  'precision', 'predicted', average, warn_for)\n"
     ]
    },
    {
     "name": "stdout",
     "output_type": "stream",
     "text": [
      "[CV]  learning_rate=0.01, max_depth=20, n_estimators=25, score=0.0, total= 3.0min\n",
      "[CV] learning_rate=0.01, max_depth=20, n_estimators=50 ...............\n"
     ]
    },
    {
     "name": "stderr",
     "output_type": "stream",
     "text": [
      "/home/thi/anaconda3/envs/fastai/lib/python3.6/site-packages/sklearn/metrics/classification.py:1135: UndefinedMetricWarning: F-score is ill-defined and being set to 0.0 due to no predicted samples.\n",
      "  'precision', 'predicted', average, warn_for)\n"
     ]
    },
    {
     "name": "stdout",
     "output_type": "stream",
     "text": [
      "[CV]  learning_rate=0.01, max_depth=20, n_estimators=25, score=0.0, total= 3.2min\n",
      "[CV] learning_rate=0.01, max_depth=20, n_estimators=50 ...............\n"
     ]
    },
    {
     "name": "stderr",
     "output_type": "stream",
     "text": [
      "/home/thi/anaconda3/envs/fastai/lib/python3.6/site-packages/sklearn/metrics/classification.py:1135: UndefinedMetricWarning: F-score is ill-defined and being set to 0.0 due to no predicted samples.\n",
      "  'precision', 'predicted', average, warn_for)\n"
     ]
    },
    {
     "name": "stdout",
     "output_type": "stream",
     "text": [
      "[CV]  learning_rate=0.01, max_depth=20, n_estimators=25, score=0.0, total= 3.1min\n",
      "[CV] learning_rate=0.01, max_depth=20, n_estimators=50 ...............\n"
     ]
    },
    {
     "name": "stderr",
     "output_type": "stream",
     "text": [
      "/home/thi/anaconda3/envs/fastai/lib/python3.6/site-packages/sklearn/metrics/classification.py:1135: UndefinedMetricWarning: F-score is ill-defined and being set to 0.0 due to no predicted samples.\n",
      "  'precision', 'predicted', average, warn_for)\n"
     ]
    },
    {
     "name": "stdout",
     "output_type": "stream",
     "text": [
      "[CV]  learning_rate=0.01, max_depth=20, n_estimators=25, score=0.0, total= 3.2min\n",
      "[CV] learning_rate=0.01, max_depth=20, n_estimators=50 ...............\n",
      "[CV]  learning_rate=0.01, max_depth=10, n_estimators=400, score=0.7481612985036774, total=14.0min\n",
      "[CV] learning_rate=0.01, max_depth=20, n_estimators=50 ...............\n",
      "[CV]  learning_rate=0.01, max_depth=10, n_estimators=400, score=0.7515727479587739, total=14.1min\n",
      "[CV] learning_rate=0.01, max_depth=20, n_estimators=50 ...............\n",
      "[CV]  learning_rate=0.01, max_depth=10, n_estimators=400, score=0.745740498034076, total=13.8min\n",
      "[CV] learning_rate=0.01, max_depth=20, n_estimators=50 ...............\n",
      "[CV]  learning_rate=0.01, max_depth=10, n_estimators=400, score=0.7494392400052777, total=13.9min\n",
      "[CV] learning_rate=0.01, max_depth=20, n_estimators=50 ...............\n",
      "[CV]  learning_rate=0.01, max_depth=20, n_estimators=50, score=0.6481828400149868, total= 6.6min\n",
      "[CV] learning_rate=0.01, max_depth=20, n_estimators=50 ...............\n",
      "[CV]  learning_rate=0.01, max_depth=20, n_estimators=50, score=0.667595171773445, total= 6.7min\n",
      "[CV] learning_rate=0.01, max_depth=20, n_estimators=50 ...............\n",
      "[CV]  learning_rate=0.01, max_depth=20, n_estimators=50, score=0.6760037348272642, total= 6.5min\n",
      "[CV] learning_rate=0.01, max_depth=20, n_estimators=100 ..............\n",
      "[CV]  learning_rate=0.01, max_depth=20, n_estimators=50, score=0.6265611990008326, total= 6.4min\n",
      "[CV] learning_rate=0.01, max_depth=20, n_estimators=100 ..............\n",
      "[CV]  learning_rate=0.01, max_depth=20, n_estimators=50, score=0.6561576354679804, total= 6.7min\n",
      "[CV] learning_rate=0.01, max_depth=20, n_estimators=100 ..............\n"
     ]
    },
    {
     "name": "stderr",
     "output_type": "stream",
     "text": [
      "[Parallel(n_jobs=-1)]: Done 465 tasks      | elapsed: 257.0min\n"
     ]
    },
    {
     "name": "stdout",
     "output_type": "stream",
     "text": [
      "[CV]  learning_rate=0.01, max_depth=20, n_estimators=50, score=0.6543255131964809, total= 6.8min\n",
      "[CV] learning_rate=0.01, max_depth=20, n_estimators=100 ..............\n",
      "[CV]  learning_rate=0.01, max_depth=20, n_estimators=50, score=0.6500881143528491, total= 6.4min\n",
      "[CV] learning_rate=0.01, max_depth=20, n_estimators=100 ..............\n",
      "[CV]  learning_rate=0.01, max_depth=20, n_estimators=50, score=0.6729006233956728, total= 6.6min\n",
      "[CV] learning_rate=0.01, max_depth=20, n_estimators=100 ..............\n",
      "[CV]  learning_rate=0.01, max_depth=20, n_estimators=50, score=0.6465350367789393, total= 6.6min\n",
      "[CV] learning_rate=0.01, max_depth=20, n_estimators=100 ..............\n",
      "[CV]  learning_rate=0.01, max_depth=20, n_estimators=50, score=0.651558073654391, total= 6.7min\n",
      "[CV] learning_rate=0.01, max_depth=20, n_estimators=100 ..............\n",
      "[CV]  learning_rate=0.01, max_depth=20, n_estimators=100, score=0.6622844218264066, total=14.4min\n",
      "[CV] learning_rate=0.01, max_depth=20, n_estimators=100 ..............\n",
      "[CV]  learning_rate=0.01, max_depth=20, n_estimators=100, score=0.692318494593456, total=14.4min\n",
      "[CV] learning_rate=0.01, max_depth=20, n_estimators=100 ..............\n",
      "[CV]  learning_rate=0.01, max_depth=20, n_estimators=100, score=0.6829164297896532, total=14.1min\n",
      "[CV] learning_rate=0.01, max_depth=20, n_estimators=200 ..............\n",
      "[CV]  learning_rate=0.01, max_depth=20, n_estimators=100, score=0.7037505267593763, total=14.3min\n",
      "[CV] learning_rate=0.01, max_depth=20, n_estimators=200 ..............\n",
      "[CV]  learning_rate=0.01, max_depth=20, n_estimators=100, score=0.7036573494646086, total=14.6min\n",
      "[CV] learning_rate=0.01, max_depth=20, n_estimators=200 ..............\n",
      "[CV]  learning_rate=0.01, max_depth=20, n_estimators=100, score=0.6898225180255131, total=14.4min\n",
      "[CV] learning_rate=0.01, max_depth=20, n_estimators=200 ..............\n",
      "[CV]  learning_rate=0.01, max_depth=20, n_estimators=100, score=0.6933294409575245, total=13.9min\n",
      "[CV] learning_rate=0.01, max_depth=20, n_estimators=200 ..............\n",
      "[CV]  learning_rate=0.01, max_depth=20, n_estimators=100, score=0.7110717207526588, total=14.3min\n",
      "[CV] learning_rate=0.01, max_depth=20, n_estimators=200 ..............\n",
      "[CV]  learning_rate=0.01, max_depth=20, n_estimators=100, score=0.6915517747139924, total=14.0min\n",
      "[CV] learning_rate=0.01, max_depth=20, n_estimators=200 ..............\n",
      "[CV]  learning_rate=0.01, max_depth=20, n_estimators=100, score=0.6840742339231765, total=14.0min\n",
      "[CV] learning_rate=0.01, max_depth=20, n_estimators=200 ..............\n",
      "[CV]  learning_rate=0.01, max_depth=20, n_estimators=200, score=0.6925312776443827, total=31.4min\n",
      "[CV] learning_rate=0.01, max_depth=20, n_estimators=200 ..............\n",
      "[CV]  learning_rate=0.01, max_depth=20, n_estimators=200, score=0.6630185797912955, total=32.2min\n",
      "[CV] learning_rate=0.01, max_depth=20, n_estimators=200 ..............\n",
      "[CV]  learning_rate=0.01, max_depth=20, n_estimators=200, score=0.7066649930965232, total=31.8min\n",
      "[CV] learning_rate=0.01, max_depth=20, n_estimators=400 ..............\n",
      "[CV]  learning_rate=0.01, max_depth=20, n_estimators=200, score=0.6846153846153846, total=31.7min\n",
      "[CV] learning_rate=0.01, max_depth=20, n_estimators=400 ..............\n",
      "[CV]  learning_rate=0.01, max_depth=20, n_estimators=200, score=0.6971301884468531, total=31.7min\n",
      "[CV] learning_rate=0.01, max_depth=20, n_estimators=400 ..............\n",
      "[CV]  learning_rate=0.01, max_depth=20, n_estimators=200, score=0.6920762286860581, total=31.6min\n",
      "[CV] learning_rate=0.01, max_depth=20, n_estimators=400 ..............\n",
      "[CV]  learning_rate=0.01, max_depth=20, n_estimators=200, score=0.6901860166773572, total=31.3min\n",
      "[CV] learning_rate=0.01, max_depth=20, n_estimators=400 ..............\n",
      "[CV]  learning_rate=0.01, max_depth=20, n_estimators=200, score=0.7052080737602792, total=31.5min\n",
      "[CV] learning_rate=0.01, max_depth=20, n_estimators=400 ..............\n",
      "[CV]  learning_rate=0.01, max_depth=20, n_estimators=200, score=0.6885768985322271, total=30.5min\n",
      "[CV] learning_rate=0.01, max_depth=20, n_estimators=400 ..............\n",
      "[CV]  learning_rate=0.01, max_depth=20, n_estimators=200, score=0.6928814446479981, total=32.6min\n",
      "[CV] learning_rate=0.01, max_depth=20, n_estimators=400 ..............\n",
      "[CV]  learning_rate=0.01, max_depth=20, n_estimators=400, score=0.6938850238008056, total=67.7min\n",
      "[CV] learning_rate=0.01, max_depth=20, n_estimators=400 ..............\n",
      "[CV]  learning_rate=0.01, max_depth=20, n_estimators=400, score=0.6631901840490798, total=69.4min\n",
      "[CV] learning_rate=0.01, max_depth=20, n_estimators=400 ..............\n",
      "[CV]  learning_rate=0.01, max_depth=20, n_estimators=400, score=0.7004009233385979, total=70.3min\n",
      "[CV] learning_rate=0.5, max_depth=2, n_estimators=25 .................\n",
      "[CV]  learning_rate=0.5, max_depth=2, n_estimators=25, score=0.7140864714086471, total=   2.8s\n",
      "[CV] learning_rate=0.5, max_depth=2, n_estimators=25 .................\n",
      "[CV]  learning_rate=0.5, max_depth=2, n_estimators=25, score=0.7455241219078856, total=   2.7s\n",
      "[CV] learning_rate=0.5, max_depth=2, n_estimators=25 .................\n",
      "[CV]  learning_rate=0.5, max_depth=2, n_estimators=25, score=0.7476444080294963, total=   2.6s\n",
      "[CV] learning_rate=0.5, max_depth=2, n_estimators=25 .................\n"
     ]
    },
    {
     "name": "stderr",
     "output_type": "stream",
     "text": [
      "[Parallel(n_jobs=-1)]: Done 496 tasks      | elapsed: 377.6min\n"
     ]
    },
    {
     "name": "stdout",
     "output_type": "stream",
     "text": [
      "[CV]  learning_rate=0.5, max_depth=2, n_estimators=25, score=0.7176308539944903, total=   2.9s\n",
      "[CV] learning_rate=0.5, max_depth=2, n_estimators=25 .................\n",
      "[CV]  learning_rate=0.5, max_depth=2, n_estimators=25, score=0.7397016559463528, total=   2.7s\n",
      "[CV] learning_rate=0.5, max_depth=2, n_estimators=25 .................\n",
      "[CV]  learning_rate=0.5, max_depth=2, n_estimators=25, score=0.7328539823008848, total=   2.6s\n",
      "[CV] learning_rate=0.5, max_depth=2, n_estimators=25 .................\n",
      "[CV]  learning_rate=0.5, max_depth=2, n_estimators=25, score=0.7314487632508834, total=   2.7s\n",
      "[CV] learning_rate=0.5, max_depth=2, n_estimators=25 .................\n",
      "[CV]  learning_rate=0.01, max_depth=20, n_estimators=400, score=0.6789970208540218, total=69.6min\n",
      "[CV] learning_rate=0.5, max_depth=2, n_estimators=25 .................\n",
      "[CV]  learning_rate=0.5, max_depth=2, n_estimators=25, score=0.7397350993377483, total=   2.8s\n",
      "[CV] learning_rate=0.5, max_depth=2, n_estimators=25 .................\n",
      "[CV]  learning_rate=0.5, max_depth=2, n_estimators=25, score=0.7300639066407335, total=   2.8s\n",
      "[CV] learning_rate=0.5, max_depth=2, n_estimators=50 .................\n",
      "[CV]  learning_rate=0.5, max_depth=2, n_estimators=25, score=0.7289746135299958, total=   2.7s\n",
      "[CV] learning_rate=0.5, max_depth=2, n_estimators=50 .................\n",
      "[CV]  learning_rate=0.5, max_depth=2, n_estimators=50, score=0.7263742215001353, total=   5.0s\n",
      "[CV] learning_rate=0.5, max_depth=2, n_estimators=50 .................\n",
      "[CV]  learning_rate=0.5, max_depth=2, n_estimators=50, score=0.7631265705594498, total=   5.1s\n",
      "[CV] learning_rate=0.5, max_depth=2, n_estimators=50 .................\n",
      "[CV]  learning_rate=0.5, max_depth=2, n_estimators=50, score=0.7650452340369739, total=   5.1s\n",
      "[CV] learning_rate=0.5, max_depth=2, n_estimators=50 .................\n",
      "[CV]  learning_rate=0.5, max_depth=2, n_estimators=50, score=0.7374392220421393, total=   5.0s\n",
      "[CV] learning_rate=0.5, max_depth=2, n_estimators=50 .................\n",
      "[CV]  learning_rate=0.5, max_depth=2, n_estimators=50, score=0.7516769696172563, total=   5.0s\n",
      "[CV] learning_rate=0.5, max_depth=2, n_estimators=50 .................\n",
      "[CV]  learning_rate=0.5, max_depth=2, n_estimators=50, score=0.7501320655044902, total=   5.2s\n",
      "[CV] learning_rate=0.5, max_depth=2, n_estimators=50 .................\n",
      "[CV]  learning_rate=0.5, max_depth=2, n_estimators=50, score=0.7480369196859071, total=   5.2s\n",
      "[CV] learning_rate=0.5, max_depth=2, n_estimators=50 .................\n",
      "[CV]  learning_rate=0.5, max_depth=2, n_estimators=50, score=0.7464607464607466, total=   5.3s\n",
      "[CV] learning_rate=0.5, max_depth=2, n_estimators=50 .................\n",
      "[CV]  learning_rate=0.5, max_depth=2, n_estimators=50, score=0.7456492637215529, total=   4.9s\n",
      "[CV] learning_rate=0.5, max_depth=2, n_estimators=100 ................\n",
      "[CV]  learning_rate=0.5, max_depth=2, n_estimators=50, score=0.7376271186440678, total=   5.3s\n",
      "[CV] learning_rate=0.5, max_depth=2, n_estimators=100 ................\n",
      "[CV]  learning_rate=0.5, max_depth=2, n_estimators=100, score=0.7327473104172133, total=   9.9s\n",
      "[CV] learning_rate=0.5, max_depth=2, n_estimators=100 ................\n",
      "[CV]  learning_rate=0.5, max_depth=2, n_estimators=100, score=0.7695267410542518, total=   9.7s\n",
      "[CV] learning_rate=0.5, max_depth=2, n_estimators=100 ................\n",
      "[CV]  learning_rate=0.5, max_depth=2, n_estimators=100, score=0.7685456164906477, total=   9.8s\n",
      "[CV] learning_rate=0.5, max_depth=2, n_estimators=100 ................\n",
      "[CV]  learning_rate=0.5, max_depth=2, n_estimators=100, score=0.7416489925768823, total=  10.0s\n",
      "[CV] learning_rate=0.5, max_depth=2, n_estimators=100 ................\n",
      "[CV]  learning_rate=0.5, max_depth=2, n_estimators=100, score=0.7556855100714749, total=   9.6s\n",
      "[CV] learning_rate=0.5, max_depth=2, n_estimators=100 ................\n",
      "[CV]  learning_rate=0.5, max_depth=2, n_estimators=100, score=0.7570332480818414, total=  10.0s\n",
      "[CV] learning_rate=0.5, max_depth=2, n_estimators=100 ................\n",
      "[CV]  learning_rate=0.5, max_depth=2, n_estimators=100, score=0.7492987845599038, total=   9.6s\n",
      "[CV] learning_rate=0.5, max_depth=2, n_estimators=100 ................\n",
      "[CV]  learning_rate=0.5, max_depth=2, n_estimators=100, score=0.7489264965900481, total=   9.8s\n",
      "[CV] learning_rate=0.5, max_depth=2, n_estimators=100 ................\n",
      "[CV]  learning_rate=0.5, max_depth=2, n_estimators=100, score=0.7518944342827281, total=   9.7s\n",
      "[CV] learning_rate=0.5, max_depth=2, n_estimators=200 ................\n",
      "[CV]  learning_rate=0.5, max_depth=2, n_estimators=100, score=0.7441460510649558, total=  10.0s\n",
      "[CV] learning_rate=0.5, max_depth=2, n_estimators=200 ................\n",
      "[CV]  learning_rate=0.5, max_depth=2, n_estimators=200, score=0.7368216047779798, total=  19.3s\n",
      "[CV] learning_rate=0.5, max_depth=2, n_estimators=200 ................\n",
      "[CV]  learning_rate=0.5, max_depth=2, n_estimators=200, score=0.7686971875394123, total=  19.4s\n",
      "[CV] learning_rate=0.5, max_depth=2, n_estimators=200 ................\n",
      "[CV]  learning_rate=0.5, max_depth=2, n_estimators=200, score=0.7715077465675777, total=  18.8s\n",
      "[CV] learning_rate=0.5, max_depth=2, n_estimators=200 ................\n",
      "[CV]  learning_rate=0.5, max_depth=2, n_estimators=200, score=0.7454308093994778, total=  19.3s\n",
      "[CV] learning_rate=0.5, max_depth=2, n_estimators=200 ................\n",
      "[CV]  learning_rate=0.5, max_depth=2, n_estimators=200, score=0.7635996465985107, total=  18.7s\n",
      "[CV] learning_rate=0.5, max_depth=2, n_estimators=200 ................\n"
     ]
    },
    {
     "name": "stderr",
     "output_type": "stream",
     "text": [
      "[Parallel(n_jobs=-1)]: Done 529 tasks      | elapsed: 380.1min\n"
     ]
    },
    {
     "name": "stdout",
     "output_type": "stream",
     "text": [
      "[CV]  learning_rate=0.5, max_depth=2, n_estimators=200, score=0.7615894039735099, total=  19.0s\n",
      "[CV] learning_rate=0.5, max_depth=2, n_estimators=200 ................\n",
      "[CV]  learning_rate=0.5, max_depth=2, n_estimators=200, score=0.7529922399053005, total=  18.1s\n",
      "[CV] learning_rate=0.5, max_depth=2, n_estimators=200 ................\n",
      "[CV]  learning_rate=0.5, max_depth=2, n_estimators=200, score=0.7518003476533399, total=  18.1s\n",
      "[CV] learning_rate=0.5, max_depth=2, n_estimators=200 ................\n",
      "[CV]  learning_rate=0.5, max_depth=2, n_estimators=200, score=0.7517482517482518, total=  18.7s\n",
      "[CV] learning_rate=0.5, max_depth=2, n_estimators=400 ................\n",
      "[CV]  learning_rate=0.5, max_depth=2, n_estimators=200, score=0.7491814014407335, total=  19.3s\n",
      "[CV] learning_rate=0.5, max_depth=2, n_estimators=400 ................\n",
      "[CV]  learning_rate=0.5, max_depth=2, n_estimators=400, score=0.734314980793854, total=  37.8s\n",
      "[CV] learning_rate=0.5, max_depth=2, n_estimators=400 ................\n",
      "[CV]  learning_rate=0.5, max_depth=2, n_estimators=400, score=0.7718879537746514, total=  37.5s\n",
      "[CV] learning_rate=0.5, max_depth=2, n_estimators=400 ................\n",
      "[CV]  learning_rate=0.5, max_depth=2, n_estimators=400, score=0.7665050354345393, total=  37.8s\n",
      "[CV] learning_rate=0.5, max_depth=2, n_estimators=400 ................\n",
      "[CV]  learning_rate=0.5, max_depth=2, n_estimators=400, score=0.7390463917525772, total=  37.5s\n",
      "[CV] learning_rate=0.5, max_depth=2, n_estimators=400 ................\n",
      "[CV]  learning_rate=0.5, max_depth=2, n_estimators=400, score=0.7542319749216301, total=  37.6s\n",
      "[CV] learning_rate=0.5, max_depth=2, n_estimators=400 ................\n",
      "[CV]  learning_rate=0.5, max_depth=2, n_estimators=400, score=0.762937595129376, total=  37.7s\n",
      "[CV] learning_rate=0.5, max_depth=2, n_estimators=400 ................\n",
      "[CV]  learning_rate=0.5, max_depth=2, n_estimators=400, score=0.7484055707405961, total=  37.5s\n",
      "[CV] learning_rate=0.5, max_depth=2, n_estimators=400 ................\n",
      "[CV]  learning_rate=0.5, max_depth=2, n_estimators=400, score=0.7487059403500124, total=  38.1s\n",
      "[CV] learning_rate=0.5, max_depth=2, n_estimators=400 ................\n",
      "[CV]  learning_rate=0.5, max_depth=2, n_estimators=400, score=0.7467366265676991, total=  37.3s\n",
      "[CV] learning_rate=0.5, max_depth=3, n_estimators=25 .................\n",
      "[CV]  learning_rate=0.5, max_depth=2, n_estimators=400, score=0.7524303305249513, total=  38.4s\n",
      "[CV] learning_rate=0.5, max_depth=3, n_estimators=25 .................\n",
      "[CV]  learning_rate=0.5, max_depth=3, n_estimators=25, score=0.7233811975074506, total=   4.8s\n",
      "[CV] learning_rate=0.5, max_depth=3, n_estimators=25 .................\n",
      "[CV]  learning_rate=0.5, max_depth=3, n_estimators=25, score=0.7587113740959895, total=   4.5s\n",
      "[CV] learning_rate=0.5, max_depth=3, n_estimators=25 .................\n",
      "[CV]  learning_rate=0.5, max_depth=3, n_estimators=25, score=0.7659987071751777, total=   4.8s\n",
      "[CV] learning_rate=0.5, max_depth=3, n_estimators=25 .................\n",
      "[CV]  learning_rate=0.5, max_depth=3, n_estimators=25, score=0.729223248234655, total=   4.7s\n",
      "[CV] learning_rate=0.5, max_depth=3, n_estimators=25 .................\n",
      "[CV]  learning_rate=0.5, max_depth=3, n_estimators=25, score=0.7588398887564561, total=   4.5s\n",
      "[CV] learning_rate=0.5, max_depth=3, n_estimators=25 .................\n",
      "[CV]  learning_rate=0.5, max_depth=3, n_estimators=25, score=0.7544224765868888, total=   4.7s\n",
      "[CV] learning_rate=0.5, max_depth=3, n_estimators=25 .................\n",
      "[CV]  learning_rate=0.5, max_depth=3, n_estimators=25, score=0.7427757427757428, total=   4.7s\n",
      "[CV] learning_rate=0.5, max_depth=3, n_estimators=25 .................\n",
      "[CV]  learning_rate=0.5, max_depth=3, n_estimators=25, score=0.7521378595491058, total=   4.6s\n",
      "[CV] learning_rate=0.5, max_depth=3, n_estimators=25 .................\n",
      "[CV]  learning_rate=0.5, max_depth=3, n_estimators=25, score=0.7458344353345676, total=   4.8s\n",
      "[CV] learning_rate=0.5, max_depth=3, n_estimators=50 .................\n",
      "[CV]  learning_rate=0.01, max_depth=20, n_estimators=400, score=0.6821184099915938, total=68.7min\n",
      "[CV] learning_rate=0.5, max_depth=3, n_estimators=50 .................\n",
      "[CV]  learning_rate=0.5, max_depth=3, n_estimators=25, score=0.7397444519166106, total=   4.8s\n",
      "[CV] learning_rate=0.5, max_depth=3, n_estimators=50 .................\n",
      "[CV]  learning_rate=0.5, max_depth=3, n_estimators=50, score=0.7341322096391888, total=   8.8s\n",
      "[CV] learning_rate=0.5, max_depth=3, n_estimators=50 .................\n",
      "[CV]  learning_rate=0.5, max_depth=3, n_estimators=50, score=0.7681365576102419, total=   8.7s\n",
      "[CV] learning_rate=0.5, max_depth=3, n_estimators=50 .................\n",
      "[CV]  learning_rate=0.5, max_depth=3, n_estimators=50, score=0.771932064870387, total=   8.6s\n",
      "[CV] learning_rate=0.5, max_depth=3, n_estimators=50 .................\n",
      "[CV]  learning_rate=0.01, max_depth=20, n_estimators=400, score=0.6902622632345798, total=68.3min\n",
      "[CV] learning_rate=0.5, max_depth=3, n_estimators=50 .................\n",
      "[CV]  learning_rate=0.5, max_depth=3, n_estimators=50, score=0.7429797191887675, total=   8.5s\n",
      "[CV] learning_rate=0.5, max_depth=3, n_estimators=50 .................\n",
      "[CV]  learning_rate=0.5, max_depth=3, n_estimators=50, score=0.7599641163655004, total=   8.9s\n",
      "[CV] learning_rate=0.5, max_depth=3, n_estimators=50 .................\n",
      "[CV]  learning_rate=0.5, max_depth=3, n_estimators=50, score=0.7614213197969543, total=   8.8s\n",
      "[CV] learning_rate=0.5, max_depth=3, n_estimators=50 .................\n"
     ]
    },
    {
     "name": "stderr",
     "output_type": "stream",
     "text": [
      "[Parallel(n_jobs=-1)]: Done 562 tasks      | elapsed: 384.7min\n"
     ]
    },
    {
     "name": "stdout",
     "output_type": "stream",
     "text": [
      "[CV]  learning_rate=0.5, max_depth=3, n_estimators=50, score=0.7537183438295592, total=   8.7s\n",
      "[CV] learning_rate=0.5, max_depth=3, n_estimators=100 ................\n",
      "[CV]  learning_rate=0.5, max_depth=3, n_estimators=50, score=0.7519506670022653, total=   8.8s\n",
      "[CV] learning_rate=0.5, max_depth=3, n_estimators=100 ................\n",
      "[CV]  learning_rate=0.5, max_depth=3, n_estimators=50, score=0.7498062516145699, total=   9.0s\n",
      "[CV] learning_rate=0.5, max_depth=3, n_estimators=100 ................\n",
      "[CV]  learning_rate=0.5, max_depth=3, n_estimators=50, score=0.7461508093170154, total=   8.6s\n",
      "[CV] learning_rate=0.5, max_depth=3, n_estimators=100 ................\n",
      "[CV]  learning_rate=0.5, max_depth=3, n_estimators=100, score=0.7329265125941313, total=  16.6s\n",
      "[CV] learning_rate=0.5, max_depth=3, n_estimators=100 ................\n",
      "[CV]  learning_rate=0.5, max_depth=3, n_estimators=100, score=0.7742219982361095, total=  16.5s\n",
      "[CV] learning_rate=0.5, max_depth=3, n_estimators=100 ................\n",
      "[CV]  learning_rate=0.5, max_depth=3, n_estimators=100, score=0.7736063708759955, total=  16.0s\n",
      "[CV] learning_rate=0.5, max_depth=3, n_estimators=100 ................\n",
      "[CV]  learning_rate=0.5, max_depth=3, n_estimators=100, score=0.7449297971918878, total=  17.2s\n",
      "[CV] learning_rate=0.5, max_depth=3, n_estimators=100 ................\n",
      "[CV]  learning_rate=0.5, max_depth=3, n_estimators=100, score=0.7566746805010756, total=  16.0s\n",
      "[CV] learning_rate=0.5, max_depth=3, n_estimators=100 ................\n",
      "[CV]  learning_rate=0.5, max_depth=3, n_estimators=100, score=0.7631909547738693, total=  17.1s\n",
      "[CV] learning_rate=0.5, max_depth=3, n_estimators=100 ................\n",
      "[CV]  learning_rate=0.5, max_depth=3, n_estimators=100, score=0.7526100171798599, total=  16.3s\n",
      "[CV] learning_rate=0.5, max_depth=3, n_estimators=200 ................\n",
      "[CV]  learning_rate=0.5, max_depth=3, n_estimators=100, score=0.749311983987991, total=  16.9s\n",
      "[CV] learning_rate=0.5, max_depth=3, n_estimators=200 ................\n",
      "[CV]  learning_rate=0.5, max_depth=3, n_estimators=100, score=0.7537752751471717, total=  16.6s\n",
      "[CV] learning_rate=0.5, max_depth=3, n_estimators=200 ................\n",
      "[CV]  learning_rate=0.5, max_depth=3, n_estimators=100, score=0.7468502402909469, total=  16.2s\n",
      "[CV] learning_rate=0.5, max_depth=3, n_estimators=200 ................\n",
      "[CV]  learning_rate=0.5, max_depth=3, n_estimators=200, score=0.7255400254129606, total=  31.9s\n",
      "[CV] learning_rate=0.5, max_depth=3, n_estimators=200 ................\n",
      "[CV]  learning_rate=0.5, max_depth=3, n_estimators=200, score=0.7717620762448776, total=  33.6s\n",
      "[CV] learning_rate=0.5, max_depth=3, n_estimators=200 ................\n",
      "[CV]  learning_rate=0.5, max_depth=3, n_estimators=200, score=0.7341269841269841, total=  31.3s\n",
      "[CV] learning_rate=0.5, max_depth=3, n_estimators=200 ................\n",
      "[CV]  learning_rate=0.5, max_depth=3, n_estimators=200, score=0.7660636306924516, total=  33.3s\n",
      "[CV] learning_rate=0.5, max_depth=3, n_estimators=200 ................\n",
      "[CV]  learning_rate=0.5, max_depth=3, n_estimators=200, score=0.7464647728694782, total=  32.9s\n",
      "[CV] learning_rate=0.5, max_depth=3, n_estimators=200 ................\n",
      "[CV]  learning_rate=0.5, max_depth=3, n_estimators=200, score=0.759391992090954, total=  33.7s\n",
      "[CV] learning_rate=0.5, max_depth=3, n_estimators=200 ................\n",
      "[CV]  learning_rate=0.5, max_depth=3, n_estimators=200, score=0.7486665799401587, total=  33.1s\n",
      "[CV] learning_rate=0.5, max_depth=3, n_estimators=400 ................\n",
      "[CV]  learning_rate=0.5, max_depth=3, n_estimators=200, score=0.7460024600246004, total=  32.5s\n",
      "[CV] learning_rate=0.5, max_depth=3, n_estimators=400 ................\n",
      "[CV]  learning_rate=0.5, max_depth=3, n_estimators=200, score=0.7462496821764557, total=  33.1s\n",
      "[CV] learning_rate=0.5, max_depth=3, n_estimators=400 ................\n",
      "[CV]  learning_rate=0.5, max_depth=3, n_estimators=200, score=0.749332655395958, total=  33.8s\n",
      "[CV] learning_rate=0.5, max_depth=3, n_estimators=400 ................\n",
      "[CV]  learning_rate=0.5, max_depth=3, n_estimators=400, score=0.7257861635220125, total= 1.0min\n",
      "[CV] learning_rate=0.5, max_depth=3, n_estimators=400 ................\n",
      "[CV]  learning_rate=0.5, max_depth=3, n_estimators=400, score=0.7544072948328268, total= 1.1min\n",
      "[CV] learning_rate=0.5, max_depth=3, n_estimators=400 ................\n",
      "[CV]  learning_rate=0.5, max_depth=3, n_estimators=400, score=0.7588227958598329, total= 1.1min\n",
      "[CV] learning_rate=0.5, max_depth=3, n_estimators=400 ................\n",
      "[CV]  learning_rate=0.5, max_depth=3, n_estimators=400, score=0.7325404858299596, total= 1.0min\n",
      "[CV] learning_rate=0.5, max_depth=3, n_estimators=400 ................\n",
      "[CV]  learning_rate=0.5, max_depth=3, n_estimators=400, score=0.7421826721048078, total= 1.0min\n",
      "[CV] learning_rate=0.5, max_depth=3, n_estimators=400 ................\n",
      "[CV]  learning_rate=0.5, max_depth=3, n_estimators=400, score=0.7503669275929549, total= 1.1min\n",
      "[CV] learning_rate=0.5, max_depth=3, n_estimators=400 ................\n",
      "[CV]  learning_rate=0.5, max_depth=3, n_estimators=400, score=0.7421221864951768, total= 1.1min\n",
      "[CV] learning_rate=0.5, max_depth=5, n_estimators=25 .................\n",
      "[CV]  learning_rate=0.5, max_depth=3, n_estimators=400, score=0.7399020807833537, total= 1.1min\n",
      "[CV] learning_rate=0.5, max_depth=5, n_estimators=25 .................\n",
      "[CV]  learning_rate=0.5, max_depth=5, n_estimators=25, score=0.7286044718581343, total=  10.5s\n",
      "[CV] learning_rate=0.5, max_depth=5, n_estimators=25 .................\n",
      "[CV]  learning_rate=0.5, max_depth=5, n_estimators=25, score=0.7643470683430849, total=  10.1s\n",
      "[CV] learning_rate=0.5, max_depth=5, n_estimators=25 .................\n",
      "[CV]  learning_rate=0.5, max_depth=5, n_estimators=25, score=0.7612935699005914, total=  10.0s\n",
      "[CV] learning_rate=0.5, max_depth=5, n_estimators=25 .................\n"
     ]
    },
    {
     "name": "stderr",
     "output_type": "stream",
     "text": [
      "[Parallel(n_jobs=-1)]: Done 597 tasks      | elapsed: 389.6min\n"
     ]
    },
    {
     "name": "stdout",
     "output_type": "stream",
     "text": [
      "[CV]  learning_rate=0.5, max_depth=5, n_estimators=25, score=0.7456253216675244, total=  10.5s\n",
      "[CV] learning_rate=0.5, max_depth=5, n_estimators=25 .................\n",
      "[CV]  learning_rate=0.5, max_depth=5, n_estimators=25, score=0.7610454262601121, total=  10.2s\n",
      "[CV] learning_rate=0.5, max_depth=5, n_estimators=25 .................\n",
      "[CV]  learning_rate=0.5, max_depth=5, n_estimators=25, score=0.7506218905472636, total=  10.1s\n",
      "[CV] learning_rate=0.5, max_depth=5, n_estimators=25 .................\n",
      "[CV]  learning_rate=0.5, max_depth=3, n_estimators=400, score=0.7341518416436983, total= 1.1min\n",
      "[CV] learning_rate=0.5, max_depth=5, n_estimators=25 .................\n",
      "[CV]  learning_rate=0.5, max_depth=5, n_estimators=25, score=0.7552117477382982, total=  10.4s\n",
      "[CV] learning_rate=0.5, max_depth=5, n_estimators=25 .................\n",
      "[CV]  learning_rate=0.5, max_depth=5, n_estimators=25, score=0.7499374530898173, total=  10.0s\n",
      "[CV] learning_rate=0.5, max_depth=5, n_estimators=50 .................\n",
      "[CV]  learning_rate=0.5, max_depth=5, n_estimators=25, score=0.742137560726157, total=   9.9s\n",
      "[CV] learning_rate=0.5, max_depth=5, n_estimators=50 .................\n",
      "[CV]  learning_rate=0.5, max_depth=3, n_estimators=400, score=0.7438542860782068, total= 1.1min\n",
      "[CV] learning_rate=0.5, max_depth=5, n_estimators=50 .................\n",
      "[CV]  learning_rate=0.5, max_depth=5, n_estimators=25, score=0.74059812604287, total=  10.6s\n",
      "[CV] learning_rate=0.5, max_depth=5, n_estimators=50 .................\n",
      "[CV]  learning_rate=0.5, max_depth=5, n_estimators=50, score=0.721996443992888, total=  18.8s\n",
      "[CV] learning_rate=0.5, max_depth=5, n_estimators=50 .................\n",
      "[CV]  learning_rate=0.5, max_depth=5, n_estimators=50, score=0.7650239646061202, total=  19.2s\n",
      "[CV] learning_rate=0.5, max_depth=5, n_estimators=50 .................\n",
      "[CV]  learning_rate=0.5, max_depth=5, n_estimators=50, score=0.7342569269521411, total=  18.2s\n",
      "[CV] learning_rate=0.5, max_depth=5, n_estimators=50 .................\n",
      "[CV]  learning_rate=0.5, max_depth=5, n_estimators=50, score=0.7540417129458226, total=  19.3s\n",
      "[CV] learning_rate=0.5, max_depth=5, n_estimators=50 .................\n",
      "[CV]  learning_rate=0.5, max_depth=5, n_estimators=50, score=0.7508342602892102, total=  19.7s\n",
      "[CV] learning_rate=0.5, max_depth=5, n_estimators=50 .................\n",
      "[CV]  learning_rate=0.5, max_depth=5, n_estimators=50, score=0.7441348973607038, total=  18.4s\n",
      "[CV] learning_rate=0.5, max_depth=5, n_estimators=50 .................\n",
      "[CV]  learning_rate=0.5, max_depth=5, n_estimators=50, score=0.7476515249002702, total=  18.7s\n",
      "[CV] learning_rate=0.5, max_depth=5, n_estimators=100 ................\n",
      "[CV]  learning_rate=0.5, max_depth=5, n_estimators=50, score=0.7484548825710755, total=  19.1s\n",
      "[CV] learning_rate=0.5, max_depth=5, n_estimators=100 ................\n",
      "[CV]  learning_rate=0.5, max_depth=5, n_estimators=50, score=0.7429693438054218, total=  18.4s\n",
      "[CV] learning_rate=0.5, max_depth=5, n_estimators=100 ................\n",
      "[CV]  learning_rate=0.5, max_depth=5, n_estimators=50, score=0.7386724203579134, total=  18.7s\n",
      "[CV] learning_rate=0.5, max_depth=5, n_estimators=100 ................\n",
      "[CV]  learning_rate=0.5, max_depth=5, n_estimators=100, score=0.7161555721765145, total=  36.7s\n",
      "[CV] learning_rate=0.5, max_depth=5, n_estimators=100 ................\n",
      "[CV]  learning_rate=0.5, max_depth=5, n_estimators=100, score=0.760241112067905, total=  37.1s\n",
      "[CV] learning_rate=0.5, max_depth=5, n_estimators=100 ................\n",
      "[CV]  learning_rate=0.5, max_depth=5, n_estimators=100, score=0.7472473091673884, total=  36.2s\n",
      "[CV] learning_rate=0.5, max_depth=5, n_estimators=100 ................\n",
      "[CV]  learning_rate=0.5, max_depth=5, n_estimators=100, score=0.7288557213930348, total=  36.6s\n",
      "[CV] learning_rate=0.5, max_depth=5, n_estimators=100 ................\n",
      "[CV]  learning_rate=0.5, max_depth=5, n_estimators=100, score=0.7365233192004845, total=  35.5s\n",
      "[CV] learning_rate=0.5, max_depth=5, n_estimators=100 ................\n",
      "[CV]  learning_rate=0.5, max_depth=5, n_estimators=100, score=0.7456896551724138, total=  37.0s\n",
      "[CV] learning_rate=0.5, max_depth=5, n_estimators=100 ................\n",
      "[CV]  learning_rate=0.5, max_depth=5, n_estimators=100, score=0.7410246582343172, total=  35.6s\n",
      "[CV] learning_rate=0.5, max_depth=5, n_estimators=200 ................\n",
      "[CV]  learning_rate=0.5, max_depth=5, n_estimators=100, score=0.7453874538745388, total=  37.3s\n",
      "[CV] learning_rate=0.5, max_depth=5, n_estimators=200 ................\n",
      "[CV]  learning_rate=0.5, max_depth=5, n_estimators=100, score=0.7285642444053307, total=  35.3s\n",
      "[CV] learning_rate=0.5, max_depth=5, n_estimators=200 ................\n",
      "[CV]  learning_rate=0.5, max_depth=5, n_estimators=100, score=0.7330276397911094, total=  37.8s\n",
      "[CV] learning_rate=0.5, max_depth=5, n_estimators=200 ................\n",
      "[CV]  learning_rate=0.5, max_depth=5, n_estimators=200, score=0.7028337061894109, total= 1.3min\n",
      "[CV] learning_rate=0.5, max_depth=5, n_estimators=200 ................\n",
      "[CV]  learning_rate=0.5, max_depth=5, n_estimators=200, score=0.7479792496079142, total= 1.2min\n",
      "[CV] learning_rate=0.5, max_depth=5, n_estimators=200 ................\n",
      "[CV]  learning_rate=0.5, max_depth=5, n_estimators=200, score=0.7238457760314342, total= 1.2min\n",
      "[CV] learning_rate=0.5, max_depth=5, n_estimators=200 ................\n",
      "[CV]  learning_rate=0.5, max_depth=5, n_estimators=200, score=0.7308301840789955, total= 1.3min\n",
      "[CV] learning_rate=0.5, max_depth=5, n_estimators=200 ................\n",
      "[CV]  learning_rate=0.5, max_depth=5, n_estimators=200, score=0.7216251328687847, total= 1.3min\n",
      "[CV] learning_rate=0.5, max_depth=5, n_estimators=200 ................\n",
      "[CV]  learning_rate=0.5, max_depth=5, n_estimators=200, score=0.7363013698630136, total= 1.3min\n",
      "[CV] learning_rate=0.5, max_depth=5, n_estimators=200 ................\n"
     ]
    },
    {
     "name": "stderr",
     "output_type": "stream",
     "text": [
      "[Parallel(n_jobs=-1)]: Done 632 tasks      | elapsed: 394.7min\n"
     ]
    },
    {
     "name": "stdout",
     "output_type": "stream",
     "text": [
      "[CV]  learning_rate=0.5, max_depth=5, n_estimators=200, score=0.7260221627818111, total= 1.2min\n",
      "[CV] learning_rate=0.5, max_depth=5, n_estimators=400 ................\n",
      "[CV]  learning_rate=0.5, max_depth=5, n_estimators=200, score=0.7355063747895118, total= 1.2min\n",
      "[CV] learning_rate=0.5, max_depth=5, n_estimators=400 ................\n",
      "[CV]  learning_rate=0.5, max_depth=5, n_estimators=200, score=0.7253048021895993, total= 1.2min\n",
      "[CV] learning_rate=0.5, max_depth=5, n_estimators=400 ................\n",
      "[CV]  learning_rate=0.5, max_depth=5, n_estimators=200, score=0.721965245655707, total= 1.3min\n",
      "[CV] learning_rate=0.5, max_depth=5, n_estimators=400 ................\n",
      "[CV]  learning_rate=0.5, max_depth=5, n_estimators=400, score=0.7365182772348895, total= 2.6min\n",
      "[CV] learning_rate=0.5, max_depth=5, n_estimators=400 ................\n",
      "[CV]  learning_rate=0.5, max_depth=5, n_estimators=400, score=0.687576126674787, total= 2.7min\n",
      "[CV] learning_rate=0.5, max_depth=5, n_estimators=400 ................\n",
      "[CV]  learning_rate=0.5, max_depth=5, n_estimators=400, score=0.7170207509881423, total= 2.1min\n",
      "[CV] learning_rate=0.5, max_depth=5, n_estimators=400 ................\n",
      "[CV]  learning_rate=0.5, max_depth=5, n_estimators=400, score=0.7122456265619421, total= 2.6min\n",
      "[CV] learning_rate=0.5, max_depth=5, n_estimators=400 ................\n",
      "[CV]  learning_rate=0.5, max_depth=5, n_estimators=400, score=0.7264748902974159, total= 2.2min\n",
      "[CV] learning_rate=0.5, max_depth=5, n_estimators=400 ................\n",
      "[CV]  learning_rate=0.5, max_depth=5, n_estimators=400, score=0.7046939988116458, total= 2.6min\n",
      "[CV] learning_rate=0.5, max_depth=5, n_estimators=400 ................\n",
      "[CV]  learning_rate=0.5, max_depth=5, n_estimators=400, score=0.7152839537542879, total= 2.2min\n",
      "[CV] learning_rate=0.5, max_depth=10, n_estimators=25 ................\n",
      "[CV]  learning_rate=0.5, max_depth=5, n_estimators=400, score=0.7243544183842691, total= 2.5min\n",
      "[CV] learning_rate=0.5, max_depth=10, n_estimators=25 ................\n",
      "[CV]  learning_rate=0.5, max_depth=10, n_estimators=25, score=0.6904818988252218, total=  45.3s\n",
      "[CV] learning_rate=0.5, max_depth=10, n_estimators=25 ................\n",
      "[CV]  learning_rate=0.5, max_depth=10, n_estimators=25, score=0.7360282478996711, total=  43.5s\n",
      "[CV] learning_rate=0.5, max_depth=10, n_estimators=25 ................\n",
      "[CV]  learning_rate=0.5, max_depth=10, n_estimators=25, score=0.7235203415964891, total=  46.4s\n",
      "[CV] learning_rate=0.5, max_depth=10, n_estimators=25 ................\n",
      "[CV]  learning_rate=0.5, max_depth=5, n_estimators=400, score=0.7220708446866484, total= 2.1min\n",
      "[CV] learning_rate=0.5, max_depth=10, n_estimators=25 ................\n",
      "[CV]  learning_rate=0.5, max_depth=10, n_estimators=25, score=0.7053967471660917, total=  43.6s\n",
      "[CV] learning_rate=0.5, max_depth=10, n_estimators=25 ................\n",
      "[CV]  learning_rate=0.5, max_depth=5, n_estimators=400, score=0.7079865855173268, total= 2.4min\n",
      "[CV] learning_rate=0.5, max_depth=10, n_estimators=25 ................\n",
      "[CV]  learning_rate=0.5, max_depth=10, n_estimators=25, score=0.713020894817613, total=  47.5s\n",
      "[CV] learning_rate=0.5, max_depth=10, n_estimators=25 ................\n",
      "[CV]  learning_rate=0.5, max_depth=10, n_estimators=25, score=0.7305194805194806, total=  44.5s\n",
      "[CV] learning_rate=0.5, max_depth=10, n_estimators=25 ................\n",
      "[CV]  learning_rate=0.5, max_depth=10, n_estimators=25, score=0.7155161806324597, total=  45.0s\n",
      "[CV] learning_rate=0.5, max_depth=10, n_estimators=50 ................\n",
      "[CV]  learning_rate=0.5, max_depth=10, n_estimators=25, score=0.7235434007134364, total=  44.7s\n",
      "[CV] learning_rate=0.5, max_depth=10, n_estimators=50 ................\n",
      "[CV]  learning_rate=0.5, max_depth=10, n_estimators=25, score=0.7120608023922254, total=  46.4s\n",
      "[CV] learning_rate=0.5, max_depth=10, n_estimators=50 ................\n",
      "[CV]  learning_rate=0.5, max_depth=10, n_estimators=25, score=0.7191653210781268, total=  46.1s\n",
      "[CV] learning_rate=0.5, max_depth=10, n_estimators=50 ................\n",
      "[CV]  learning_rate=0.01, max_depth=20, n_estimators=400, score=0.6958202464363373, total=68.4min\n",
      "[CV] learning_rate=0.5, max_depth=10, n_estimators=50 ................\n",
      "[CV]  learning_rate=0.5, max_depth=10, n_estimators=50, score=0.6743772241992881, total= 1.6min\n",
      "[CV] learning_rate=0.5, max_depth=10, n_estimators=50 ................\n",
      "[CV]  learning_rate=0.01, max_depth=20, n_estimators=400, score=0.6807716241443683, total=70.7min\n",
      "[CV] learning_rate=0.5, max_depth=10, n_estimators=50 ................\n",
      "[CV]  learning_rate=0.5, max_depth=10, n_estimators=50, score=0.7128430557205655, total= 1.6min\n",
      "[CV] learning_rate=0.5, max_depth=10, n_estimators=50 ................\n",
      "[CV]  learning_rate=0.5, max_depth=10, n_estimators=50, score=0.7090651892019333, total= 1.6min\n",
      "[CV] learning_rate=0.5, max_depth=10, n_estimators=50 ................\n",
      "[CV]  learning_rate=0.5, max_depth=10, n_estimators=50, score=0.6937652811735942, total= 1.6min\n",
      "[CV] learning_rate=0.5, max_depth=10, n_estimators=50 ................\n",
      "[CV]  learning_rate=0.5, max_depth=10, n_estimators=50, score=0.6964596633778293, total= 1.6min\n",
      "[CV] learning_rate=0.5, max_depth=10, n_estimators=100 ...............\n",
      "[CV]  learning_rate=0.5, max_depth=10, n_estimators=50, score=0.7134292565947243, total= 1.6min\n",
      "[CV] learning_rate=0.5, max_depth=10, n_estimators=100 ...............\n",
      "[CV]  learning_rate=0.5, max_depth=10, n_estimators=50, score=0.7012458369310473, total= 1.5min\n",
      "[CV] learning_rate=0.5, max_depth=10, n_estimators=100 ...............\n",
      "[CV]  learning_rate=0.5, max_depth=10, n_estimators=50, score=0.7162290040217647, total= 1.5min\n",
      "[CV] learning_rate=0.5, max_depth=10, n_estimators=100 ...............\n",
      "[CV]  learning_rate=0.5, max_depth=10, n_estimators=50, score=0.6962490806570237, total= 1.6min\n",
      "[CV] learning_rate=0.5, max_depth=10, n_estimators=100 ...............\n",
      "[CV]  learning_rate=0.5, max_depth=10, n_estimators=50, score=0.701321150759353, total= 1.6min\n",
      "[CV] learning_rate=0.5, max_depth=10, n_estimators=100 ...............\n",
      "[CV]  learning_rate=0.5, max_depth=10, n_estimators=100, score=0.6654592194437953, total= 3.4min\n",
      "[CV] learning_rate=0.5, max_depth=10, n_estimators=100 ...............\n"
     ]
    },
    {
     "name": "stderr",
     "output_type": "stream",
     "text": [
      "[Parallel(n_jobs=-1)]: Done 669 tasks      | elapsed: 409.0min\n"
     ]
    },
    {
     "name": "stdout",
     "output_type": "stream",
     "text": [
      "[CV]  learning_rate=0.5, max_depth=10, n_estimators=100, score=0.7068282731309252, total= 3.1min\n",
      "[CV] learning_rate=0.5, max_depth=10, n_estimators=100 ...............\n",
      "[CV]  learning_rate=0.5, max_depth=10, n_estimators=100, score=0.6812137330754352, total= 3.0min\n",
      "[CV] learning_rate=0.5, max_depth=10, n_estimators=100 ...............\n",
      "[CV]  learning_rate=0.5, max_depth=10, n_estimators=100, score=0.6943965021286388, total= 3.3min\n",
      "[CV] learning_rate=0.5, max_depth=10, n_estimators=100 ...............\n",
      "[CV]  learning_rate=0.5, max_depth=10, n_estimators=100, score=0.6917832373339603, total= 3.1min\n",
      "[CV] learning_rate=0.5, max_depth=10, n_estimators=200 ...............\n",
      "[CV]  learning_rate=0.5, max_depth=10, n_estimators=100, score=0.7032357109116675, total= 3.1min\n",
      "[CV] learning_rate=0.5, max_depth=10, n_estimators=200 ...............\n",
      "[CV]  learning_rate=0.5, max_depth=10, n_estimators=100, score=0.6891084278570556, total= 3.4min\n",
      "[CV] learning_rate=0.5, max_depth=10, n_estimators=200 ...............\n",
      "[CV]  learning_rate=0.5, max_depth=10, n_estimators=100, score=0.701795290277454, total= 3.2min\n",
      "[CV] learning_rate=0.5, max_depth=10, n_estimators=200 ...............\n",
      "[CV]  learning_rate=0.5, max_depth=10, n_estimators=100, score=0.6853004548719176, total= 3.2min\n",
      "[CV] learning_rate=0.5, max_depth=10, n_estimators=200 ...............\n",
      "[CV]  learning_rate=0.5, max_depth=10, n_estimators=100, score=0.6873708520724443, total= 3.0min\n",
      "[CV] learning_rate=0.5, max_depth=10, n_estimators=200 ...............\n",
      "[CV]  learning_rate=0.5, max_depth=10, n_estimators=200, score=0.7022238078249495, total= 5.9min\n",
      "[CV] learning_rate=0.5, max_depth=10, n_estimators=200 ...............\n",
      "[CV]  learning_rate=0.5, max_depth=10, n_estimators=200, score=0.6649251959154595, total= 7.3min\n",
      "[CV] learning_rate=0.5, max_depth=10, n_estimators=200 ...............\n",
      "[CV]  learning_rate=0.5, max_depth=10, n_estimators=200, score=0.6768585131894485, total= 5.2min\n",
      "[CV] learning_rate=0.5, max_depth=10, n_estimators=200 ...............\n",
      "[CV]  learning_rate=0.5, max_depth=10, n_estimators=200, score=0.6855264702429863, total= 5.9min\n",
      "[CV] learning_rate=0.5, max_depth=10, n_estimators=200 ...............\n",
      "[CV]  learning_rate=0.5, max_depth=10, n_estimators=200, score=0.684796474544822, total= 6.3min\n",
      "[CV] learning_rate=0.5, max_depth=10, n_estimators=400 ...............\n",
      "[CV]  learning_rate=0.5, max_depth=10, n_estimators=200, score=0.6959008579599619, total= 6.4min\n",
      "[CV] learning_rate=0.5, max_depth=10, n_estimators=400 ...............\n",
      "[CV]  learning_rate=0.5, max_depth=10, n_estimators=200, score=0.68645413460364, total= 7.1min\n",
      "[CV] learning_rate=0.5, max_depth=10, n_estimators=400 ...............\n",
      "[CV]  learning_rate=0.5, max_depth=10, n_estimators=200, score=0.6934475573049317, total= 6.3min\n",
      "[CV] learning_rate=0.5, max_depth=10, n_estimators=400 ...............\n",
      "[CV]  learning_rate=0.5, max_depth=10, n_estimators=200, score=0.6772403811361717, total= 5.6min\n",
      "[CV] learning_rate=0.5, max_depth=10, n_estimators=400 ...............\n",
      "[CV]  learning_rate=0.5, max_depth=10, n_estimators=200, score=0.6819821987009862, total= 6.4min\n",
      "[CV] learning_rate=0.5, max_depth=10, n_estimators=400 ...............\n",
      "[CV]  learning_rate=0.5, max_depth=10, n_estimators=400, score=0.6948835031026812, total=11.0min\n",
      "[CV] learning_rate=0.5, max_depth=10, n_estimators=400 ...............\n",
      "[CV]  learning_rate=0.5, max_depth=10, n_estimators=400, score=0.666784786203638, total=12.9min\n",
      "[CV] learning_rate=0.5, max_depth=10, n_estimators=400 ...............\n",
      "[CV]  learning_rate=0.5, max_depth=10, n_estimators=400, score=0.6737588652482269, total= 9.2min\n",
      "[CV] learning_rate=0.5, max_depth=10, n_estimators=400 ...............\n",
      "[CV]  learning_rate=0.5, max_depth=10, n_estimators=400, score=0.6781036281441984, total=11.7min\n",
      "[CV] learning_rate=0.5, max_depth=10, n_estimators=400 ...............\n",
      "[CV]  learning_rate=0.5, max_depth=10, n_estimators=400, score=0.6789184127355729, total=10.7min\n",
      "[CV] learning_rate=0.5, max_depth=20, n_estimators=25 ................\n",
      "[CV]  learning_rate=0.5, max_depth=10, n_estimators=400, score=0.6947058823529413, total=12.2min\n",
      "[CV] learning_rate=0.5, max_depth=20, n_estimators=25 ................\n",
      "[CV]  learning_rate=0.5, max_depth=20, n_estimators=25, score=0.6620250177012037, total= 4.3min\n",
      "[CV] learning_rate=0.5, max_depth=20, n_estimators=25 ................\n",
      "[CV]  learning_rate=0.5, max_depth=20, n_estimators=25, score=0.6948929553881114, total= 4.4min\n",
      "[CV] learning_rate=0.5, max_depth=20, n_estimators=25 ................\n",
      "[CV]  learning_rate=0.01, max_depth=20, n_estimators=400, score=0.688321257521798, total=67.9min\n",
      "[CV] learning_rate=0.5, max_depth=20, n_estimators=25 ................\n",
      "[CV]  learning_rate=0.5, max_depth=10, n_estimators=400, score=0.682232761765779, total=12.8min\n",
      "[CV] learning_rate=0.5, max_depth=20, n_estimators=25 ................\n",
      "[CV]  learning_rate=0.5, max_depth=20, n_estimators=25, score=0.6845481049562683, total= 4.2min\n",
      "[CV] learning_rate=0.5, max_depth=20, n_estimators=25 ................\n",
      "[CV]  learning_rate=0.5, max_depth=10, n_estimators=400, score=0.6887340301974448, total=12.3min\n",
      "[CV] learning_rate=0.5, max_depth=20, n_estimators=25 ................\n",
      "[CV]  learning_rate=0.5, max_depth=10, n_estimators=400, score=0.6781691828420799, total=12.4min\n",
      "[CV] learning_rate=0.5, max_depth=20, n_estimators=25 ................\n",
      "[CV]  learning_rate=0.01, max_depth=20, n_estimators=400, score=0.687293938625412, total=71.5min\n",
      "[CV] learning_rate=0.5, max_depth=20, n_estimators=25 ................\n",
      "[CV]  learning_rate=0.5, max_depth=20, n_estimators=25, score=0.6873493975903614, total= 4.3min\n",
      "[CV] learning_rate=0.5, max_depth=20, n_estimators=50 ................\n",
      "[CV]  learning_rate=0.5, max_depth=20, n_estimators=25, score=0.6777196044211751, total= 4.3min\n",
      "[CV] learning_rate=0.5, max_depth=20, n_estimators=50 ................\n",
      "[CV]  learning_rate=0.5, max_depth=10, n_estimators=400, score=0.6687402799377916, total=11.7min\n",
      "[CV] learning_rate=0.5, max_depth=20, n_estimators=50 ................\n",
      "[CV]  learning_rate=0.5, max_depth=20, n_estimators=25, score=0.691975012013455, total= 4.2min\n",
      "[CV] learning_rate=0.5, max_depth=20, n_estimators=50 ................\n"
     ]
    },
    {
     "name": "stderr",
     "output_type": "stream",
     "text": [
      "[Parallel(n_jobs=-1)]: Done 706 tasks      | elapsed: 447.3min\n"
     ]
    },
    {
     "name": "stdout",
     "output_type": "stream",
     "text": [
      "[CV]  learning_rate=0.5, max_depth=20, n_estimators=25, score=0.6807773239262285, total= 4.3min\n",
      "[CV] learning_rate=0.5, max_depth=20, n_estimators=50 ................\n",
      "[CV]  learning_rate=0.5, max_depth=20, n_estimators=25, score=0.6935635424007517, total= 4.3min\n",
      "[CV] learning_rate=0.5, max_depth=20, n_estimators=50 ................\n",
      "[CV]  learning_rate=0.5, max_depth=20, n_estimators=25, score=0.6836477231767393, total= 4.1min\n",
      "[CV] learning_rate=0.5, max_depth=20, n_estimators=50 ................\n",
      "[CV]  learning_rate=0.5, max_depth=20, n_estimators=25, score=0.6761158021712907, total= 4.3min\n",
      "[CV] learning_rate=0.5, max_depth=20, n_estimators=50 ................\n",
      "[CV]  learning_rate=0.5, max_depth=20, n_estimators=50, score=0.6655188791260983, total= 6.4min\n",
      "[CV] learning_rate=0.5, max_depth=20, n_estimators=50 ................\n",
      "[CV]  learning_rate=0.5, max_depth=20, n_estimators=50, score=0.6954820348630382, total= 6.4min\n",
      "[CV] learning_rate=0.5, max_depth=20, n_estimators=50 ................\n",
      "[CV]  learning_rate=0.5, max_depth=20, n_estimators=50, score=0.6905949205612896, total= 6.5min\n",
      "[CV] learning_rate=0.5, max_depth=20, n_estimators=100 ...............\n",
      "[CV]  learning_rate=0.5, max_depth=20, n_estimators=50, score=0.6857930043124102, total= 6.2min\n",
      "[CV] learning_rate=0.5, max_depth=20, n_estimators=100 ...............\n",
      "[CV]  learning_rate=0.5, max_depth=20, n_estimators=50, score=0.6838551972994995, total= 6.3min\n",
      "[CV] learning_rate=0.5, max_depth=20, n_estimators=100 ...............\n",
      "[CV]  learning_rate=0.5, max_depth=20, n_estimators=50, score=0.6933174224343676, total= 6.4min\n",
      "[CV] learning_rate=0.5, max_depth=20, n_estimators=100 ...............\n",
      "[CV]  learning_rate=0.5, max_depth=20, n_estimators=50, score=0.6819015031162166, total= 6.2min\n",
      "[CV] learning_rate=0.5, max_depth=20, n_estimators=100 ...............\n",
      "[CV]  learning_rate=0.5, max_depth=20, n_estimators=50, score=0.6963067513526229, total= 6.3min\n",
      "[CV] learning_rate=0.5, max_depth=20, n_estimators=100 ...............\n",
      "[CV]  learning_rate=0.5, max_depth=20, n_estimators=50, score=0.6752701080432173, total= 6.4min\n",
      "[CV] learning_rate=0.5, max_depth=20, n_estimators=100 ...............\n",
      "[CV]  learning_rate=0.5, max_depth=20, n_estimators=50, score=0.6828193832599119, total= 6.3min\n",
      "[CV] learning_rate=0.5, max_depth=20, n_estimators=100 ...............\n",
      "[CV]  learning_rate=0.5, max_depth=20, n_estimators=100, score=0.6641086186540733, total= 9.2min\n",
      "[CV] learning_rate=0.5, max_depth=20, n_estimators=100 ...............\n",
      "[CV]  learning_rate=0.5, max_depth=20, n_estimators=100, score=0.6943623685143601, total= 9.4min\n",
      "[CV] learning_rate=0.5, max_depth=20, n_estimators=100 ...............\n",
      "[CV]  learning_rate=0.5, max_depth=20, n_estimators=100, score=0.689396561670705, total= 9.4min\n",
      "[CV] learning_rate=0.5, max_depth=20, n_estimators=200 ...............\n",
      "[CV]  learning_rate=0.5, max_depth=20, n_estimators=100, score=0.688604873387482, total= 9.1min\n",
      "[CV] learning_rate=0.5, max_depth=20, n_estimators=200 ...............\n",
      "[CV]  learning_rate=0.5, max_depth=20, n_estimators=100, score=0.683491062039958, total= 9.2min\n",
      "[CV] learning_rate=0.5, max_depth=20, n_estimators=200 ...............\n",
      "[CV]  learning_rate=0.5, max_depth=20, n_estimators=100, score=0.6915274463007159, total= 9.3min\n",
      "[CV] learning_rate=0.5, max_depth=20, n_estimators=200 ...............\n",
      "[CV]  learning_rate=0.5, max_depth=20, n_estimators=100, score=0.6869049091133919, total= 9.0min\n",
      "[CV] learning_rate=0.5, max_depth=20, n_estimators=200 ...............\n",
      "[CV]  learning_rate=0.5, max_depth=20, n_estimators=100, score=0.6903642773207991, total= 9.2min\n",
      "[CV] learning_rate=0.5, max_depth=20, n_estimators=200 ...............\n",
      "[CV]  learning_rate=0.5, max_depth=20, n_estimators=100, score=0.6810035842293907, total= 9.3min\n",
      "[CV] learning_rate=0.5, max_depth=20, n_estimators=200 ...............\n",
      "[CV]  learning_rate=0.5, max_depth=20, n_estimators=100, score=0.6746547042852085, total= 9.3min\n",
      "[CV] learning_rate=0.5, max_depth=20, n_estimators=200 ...............\n",
      "[CV]  learning_rate=0.5, max_depth=20, n_estimators=200, score=0.6688726069487118, total=15.1min\n",
      "[CV] learning_rate=0.5, max_depth=20, n_estimators=200 ...............\n",
      "[CV]  learning_rate=0.5, max_depth=20, n_estimators=200, score=0.691838929382244, total=15.1min\n",
      "[CV] learning_rate=0.5, max_depth=20, n_estimators=200 ...............\n",
      "[CV]  learning_rate=0.5, max_depth=20, n_estimators=200, score=0.6869434485948884, total=15.5min\n",
      "[CV] learning_rate=0.5, max_depth=20, n_estimators=400 ...............\n",
      "[CV]  learning_rate=0.5, max_depth=20, n_estimators=200, score=0.6823613766730402, total=15.4min\n",
      "[CV] learning_rate=0.5, max_depth=20, n_estimators=400 ...............\n",
      "[CV]  learning_rate=0.5, max_depth=20, n_estimators=200, score=0.6788679686586365, total=15.0min\n",
      "[CV] learning_rate=0.5, max_depth=20, n_estimators=400 ...............\n",
      "[CV]  learning_rate=0.5, max_depth=20, n_estimators=200, score=0.693127962085308, total=15.1min\n",
      "[CV] learning_rate=0.5, max_depth=20, n_estimators=400 ...............\n",
      "[CV]  learning_rate=0.5, max_depth=20, n_estimators=200, score=0.6841267898666015, total=14.8min\n",
      "[CV] learning_rate=0.5, max_depth=20, n_estimators=400 ...............\n",
      "[CV]  learning_rate=0.5, max_depth=20, n_estimators=200, score=0.6944769482798971, total=15.1min\n",
      "[CV] learning_rate=0.5, max_depth=20, n_estimators=400 ...............\n",
      "[CV]  learning_rate=0.5, max_depth=20, n_estimators=200, score=0.6862862622872213, total=14.8min\n",
      "[CV] learning_rate=0.5, max_depth=20, n_estimators=400 ...............\n",
      "[CV]  learning_rate=0.5, max_depth=20, n_estimators=200, score=0.6832958978602673, total=15.0min\n",
      "[CV] learning_rate=0.5, max_depth=20, n_estimators=400 ...............\n",
      "[CV]  learning_rate=0.5, max_depth=20, n_estimators=400, score=0.665611072015013, total=26.8min\n",
      "[CV] learning_rate=0.5, max_depth=20, n_estimators=400 ...............\n",
      "[CV]  learning_rate=0.5, max_depth=20, n_estimators=400, score=0.6888517146612498, total=27.1min\n",
      "[CV] learning_rate=0.5, max_depth=20, n_estimators=400 ...............\n",
      "[CV]  learning_rate=0.5, max_depth=20, n_estimators=400, score=0.6878980891719745, total=27.5min\n",
      "[CV] learning_rate=0.1, max_depth=2, n_estimators=25 .................\n",
      "[CV]  learning_rate=0.1, max_depth=2, n_estimators=25, score=0.6934959349593496, total=   2.9s\n",
      "[CV] learning_rate=0.1, max_depth=2, n_estimators=25 .................\n",
      "[CV]  learning_rate=0.1, max_depth=2, n_estimators=25, score=0.7214841960604673, total=   2.9s\n",
      "[CV] learning_rate=0.1, max_depth=2, n_estimators=25 .................\n"
     ]
    },
    {
     "name": "stderr",
     "output_type": "stream",
     "text": [
      "[Parallel(n_jobs=-1)]: Done 745 tasks      | elapsed: 509.8min\n"
     ]
    },
    {
     "name": "stdout",
     "output_type": "stream",
     "text": [
      "[CV]  learning_rate=0.1, max_depth=2, n_estimators=25, score=0.7232320146632044, total=   2.9s\n",
      "[CV] learning_rate=0.1, max_depth=2, n_estimators=25 .................\n",
      "[CV]  learning_rate=0.1, max_depth=2, n_estimators=25, score=0.704169318905156, total=   2.9s\n",
      "[CV] learning_rate=0.1, max_depth=2, n_estimators=25 .................\n",
      "[CV]  learning_rate=0.1, max_depth=2, n_estimators=25, score=0.7097961060861566, total=   2.9s\n",
      "[CV] learning_rate=0.1, max_depth=2, n_estimators=25 .................\n",
      "[CV]  learning_rate=0.1, max_depth=2, n_estimators=25, score=0.7110307982401005, total=   2.8s\n",
      "[CV] learning_rate=0.1, max_depth=2, n_estimators=25 .................\n",
      "[CV]  learning_rate=0.1, max_depth=2, n_estimators=25, score=0.7040065412919051, total=   2.9s\n",
      "[CV] learning_rate=0.1, max_depth=2, n_estimators=25 .................\n",
      "[CV]  learning_rate=0.1, max_depth=2, n_estimators=25, score=0.717964253256589, total=   2.9s\n",
      "[CV] learning_rate=0.1, max_depth=2, n_estimators=25 .................\n",
      "[CV]  learning_rate=0.1, max_depth=2, n_estimators=25, score=0.7165354330708662, total=   2.9s\n",
      "[CV] learning_rate=0.1, max_depth=2, n_estimators=25 .................\n",
      "[CV]  learning_rate=0.1, max_depth=2, n_estimators=25, score=0.7055902610924235, total=   2.9s\n",
      "[CV] learning_rate=0.1, max_depth=2, n_estimators=50 .................\n",
      "[CV]  learning_rate=0.1, max_depth=2, n_estimators=50, score=0.7145056975669849, total=   5.5s\n",
      "[CV] learning_rate=0.1, max_depth=2, n_estimators=50 .................\n",
      "[CV]  learning_rate=0.1, max_depth=2, n_estimators=50, score=0.737184222189393, total=   5.5s\n",
      "[CV] learning_rate=0.1, max_depth=2, n_estimators=50 .................\n",
      "[CV]  learning_rate=0.1, max_depth=2, n_estimators=50, score=0.740577797330987, total=   5.7s\n",
      "[CV] learning_rate=0.1, max_depth=2, n_estimators=50 .................\n",
      "[CV]  learning_rate=0.1, max_depth=2, n_estimators=50, score=0.715352449223417, total=   5.4s\n",
      "[CV] learning_rate=0.1, max_depth=2, n_estimators=50 .................\n",
      "[CV]  learning_rate=0.5, max_depth=20, n_estimators=400, score=0.6810057197330792, total=27.3min\n",
      "[CV] learning_rate=0.1, max_depth=2, n_estimators=50 .................\n",
      "[CV]  learning_rate=0.1, max_depth=2, n_estimators=50, score=0.7347118345798505, total=   5.3s\n",
      "[CV] learning_rate=0.1, max_depth=2, n_estimators=50 .................\n",
      "[CV]  learning_rate=0.1, max_depth=2, n_estimators=50, score=0.729905437352246, total=   5.4s\n",
      "[CV] learning_rate=0.1, max_depth=2, n_estimators=50 .................\n",
      "[CV]  learning_rate=0.1, max_depth=2, n_estimators=50, score=0.7214080676839402, total=   5.4s\n",
      "[CV] learning_rate=0.1, max_depth=2, n_estimators=50 .................\n",
      "[CV]  learning_rate=0.1, max_depth=2, n_estimators=50, score=0.731341149556763, total=   5.5s\n",
      "[CV] learning_rate=0.1, max_depth=2, n_estimators=50 .................\n",
      "[CV]  learning_rate=0.1, max_depth=2, n_estimators=50, score=0.7298277425203988, total=   5.3s\n",
      "[CV] learning_rate=0.1, max_depth=2, n_estimators=100 ................\n",
      "[CV]  learning_rate=0.1, max_depth=2, n_estimators=50, score=0.7254278358321974, total=   5.5s\n",
      "[CV] learning_rate=0.1, max_depth=2, n_estimators=100 ................\n",
      "[CV]  learning_rate=0.1, max_depth=2, n_estimators=100, score=0.7160369195269687, total=  10.1s\n",
      "[CV] learning_rate=0.1, max_depth=2, n_estimators=100 ................\n",
      "[CV]  learning_rate=0.1, max_depth=2, n_estimators=100, score=0.7511637748624629, total=  10.1s\n",
      "[CV] learning_rate=0.1, max_depth=2, n_estimators=100 ................\n",
      "[CV]  learning_rate=0.1, max_depth=2, n_estimators=100, score=0.7469024084644299, total=  10.1s\n",
      "[CV] learning_rate=0.1, max_depth=2, n_estimators=100 ................\n",
      "[CV]  learning_rate=0.1, max_depth=2, n_estimators=100, score=0.7211263579188107, total=  10.2s\n",
      "[CV] learning_rate=0.1, max_depth=2, n_estimators=100 ................\n",
      "[CV]  learning_rate=0.1, max_depth=2, n_estimators=100, score=0.7413914265635979, total=  10.1s\n",
      "[CV] learning_rate=0.1, max_depth=2, n_estimators=100 ................\n",
      "[CV]  learning_rate=0.1, max_depth=2, n_estimators=100, score=0.7346737907761529, total=  10.1s\n",
      "[CV] learning_rate=0.1, max_depth=2, n_estimators=100 ................\n",
      "[CV]  learning_rate=0.1, max_depth=2, n_estimators=100, score=0.7371186688074735, total=  10.0s\n",
      "[CV] learning_rate=0.1, max_depth=2, n_estimators=100 ................\n",
      "[CV]  learning_rate=0.1, max_depth=2, n_estimators=100, score=0.7406138668128255, total=  10.3s\n",
      "[CV] learning_rate=0.1, max_depth=2, n_estimators=100 ................\n",
      "[CV]  learning_rate=0.1, max_depth=2, n_estimators=100, score=0.7303211139528276, total=  10.0s\n",
      "[CV] learning_rate=0.1, max_depth=2, n_estimators=200 ................\n",
      "[CV]  learning_rate=0.1, max_depth=2, n_estimators=100, score=0.732961851693099, total=  10.2s\n",
      "[CV] learning_rate=0.1, max_depth=2, n_estimators=200 ................\n",
      "[CV]  learning_rate=0.1, max_depth=2, n_estimators=200, score=0.719707424786089, total=  19.4s\n",
      "[CV] learning_rate=0.1, max_depth=2, n_estimators=200 ................\n",
      "[CV]  learning_rate=0.1, max_depth=2, n_estimators=200, score=0.7610020311442112, total=  19.7s\n",
      "[CV] learning_rate=0.1, max_depth=2, n_estimators=200 ................\n",
      "[CV]  learning_rate=0.1, max_depth=2, n_estimators=200, score=0.7585513078470825, total=  19.1s\n",
      "[CV] learning_rate=0.1, max_depth=2, n_estimators=200 ................\n",
      "[CV]  learning_rate=0.1, max_depth=2, n_estimators=200, score=0.7284858387799564, total=  19.8s\n",
      "[CV] learning_rate=0.1, max_depth=2, n_estimators=200 ................\n",
      "[CV]  learning_rate=0.1, max_depth=2, n_estimators=200, score=0.748739610301131, total=  19.4s\n",
      "[CV] learning_rate=0.1, max_depth=2, n_estimators=200 ................\n",
      "[CV]  learning_rate=0.1, max_depth=2, n_estimators=200, score=0.7434596903363587, total=  19.8s\n",
      "[CV] learning_rate=0.1, max_depth=2, n_estimators=200 ................\n",
      "[CV]  learning_rate=0.1, max_depth=2, n_estimators=200, score=0.74475573701253, total=  19.5s\n",
      "[CV] learning_rate=0.1, max_depth=2, n_estimators=200 ................\n",
      "[CV]  learning_rate=0.1, max_depth=2, n_estimators=200, score=0.7435090479937058, total=  19.9s\n",
      "[CV] learning_rate=0.1, max_depth=2, n_estimators=200 ................\n",
      "[CV]  learning_rate=0.5, max_depth=20, n_estimators=400, score=0.6765081948157619, total=26.9min\n",
      "[CV] learning_rate=0.1, max_depth=2, n_estimators=400 ................\n",
      "[CV]  learning_rate=0.1, max_depth=2, n_estimators=200, score=0.7360544217687074, total=  19.6s\n",
      "[CV] learning_rate=0.1, max_depth=2, n_estimators=400 ................\n"
     ]
    },
    {
     "name": "stderr",
     "output_type": "stream",
     "text": [
      "[Parallel(n_jobs=-1)]: Done 784 tasks      | elapsed: 513.4min\n"
     ]
    },
    {
     "name": "stdout",
     "output_type": "stream",
     "text": [
      "[CV]  learning_rate=0.1, max_depth=2, n_estimators=200, score=0.7400796375120143, total=  20.0s\n",
      "[CV] learning_rate=0.1, max_depth=2, n_estimators=400 ................\n",
      "[CV]  learning_rate=0.1, max_depth=2, n_estimators=400, score=0.7306455933565497, total=  38.4s\n",
      "[CV] learning_rate=0.1, max_depth=2, n_estimators=400 ................\n",
      "[CV]  learning_rate=0.1, max_depth=2, n_estimators=400, score=0.7690802348336595, total=  37.9s\n",
      "[CV] learning_rate=0.1, max_depth=2, n_estimators=400 ................\n",
      "[CV]  learning_rate=0.1, max_depth=2, n_estimators=400, score=0.7676321600207819, total=  39.0s\n",
      "[CV] learning_rate=0.1, max_depth=2, n_estimators=400 ................\n",
      "[CV]  learning_rate=0.5, max_depth=20, n_estimators=400, score=0.6978271251193887, total=27.2min\n",
      "[CV] learning_rate=0.1, max_depth=2, n_estimators=400 ................\n",
      "[CV]  learning_rate=0.1, max_depth=2, n_estimators=400, score=0.7386062533121356, total=  38.7s\n",
      "[CV] learning_rate=0.1, max_depth=2, n_estimators=400 ................\n",
      "[CV]  learning_rate=0.1, max_depth=2, n_estimators=400, score=0.7569198478289387, total=  38.6s\n",
      "[CV] learning_rate=0.1, max_depth=2, n_estimators=400 ................\n",
      "[CV]  learning_rate=0.1, max_depth=2, n_estimators=400, score=0.7580477673935618, total=  39.1s\n",
      "[CV] learning_rate=0.1, max_depth=2, n_estimators=400 ................\n",
      "[CV]  learning_rate=0.1, max_depth=2, n_estimators=400, score=0.7517316311286161, total=  39.1s\n",
      "[CV] learning_rate=0.1, max_depth=3, n_estimators=25 .................\n",
      "[CV]  learning_rate=0.1, max_depth=2, n_estimators=400, score=0.7527500639549758, total=  39.1s\n",
      "[CV] learning_rate=0.1, max_depth=3, n_estimators=25 .................\n",
      "[CV]  learning_rate=0.1, max_depth=2, n_estimators=400, score=0.7484872401999474, total=  38.7s\n",
      "[CV] learning_rate=0.1, max_depth=3, n_estimators=25 .................\n",
      "[CV]  learning_rate=0.1, max_depth=3, n_estimators=25, score=0.7086011631466176, total=   5.6s\n",
      "[CV] learning_rate=0.1, max_depth=3, n_estimators=25 .................\n",
      "[CV]  learning_rate=0.1, max_depth=3, n_estimators=25, score=0.7355880092236741, total=   5.6s\n",
      "[CV] learning_rate=0.1, max_depth=3, n_estimators=25 .................\n",
      "[CV]  learning_rate=0.1, max_depth=3, n_estimators=25, score=0.7428529106798993, total=   5.3s\n",
      "[CV] learning_rate=0.1, max_depth=3, n_estimators=25 .................\n",
      "[CV]  learning_rate=0.1, max_depth=3, n_estimators=25, score=0.7196275946275946, total=   5.4s\n",
      "[CV] learning_rate=0.1, max_depth=3, n_estimators=25 .................\n",
      "[CV]  learning_rate=0.1, max_depth=3, n_estimators=25, score=0.736392742796158, total=   5.2s\n",
      "[CV] learning_rate=0.1, max_depth=3, n_estimators=25 .................\n",
      "[CV]  learning_rate=0.1, max_depth=2, n_estimators=400, score=0.7472880674969867, total=  38.6s\n",
      "[CV] learning_rate=0.1, max_depth=3, n_estimators=25 .................\n",
      "[CV]  learning_rate=0.1, max_depth=3, n_estimators=25, score=0.7282282282282283, total=   5.3s\n",
      "[CV] learning_rate=0.1, max_depth=3, n_estimators=25 .................\n",
      "[CV]  learning_rate=0.1, max_depth=3, n_estimators=25, score=0.7203194593764398, total=   5.4s\n",
      "[CV] learning_rate=0.1, max_depth=3, n_estimators=50 .................\n",
      "[CV]  learning_rate=0.1, max_depth=3, n_estimators=25, score=0.731991834354039, total=   5.4s\n",
      "[CV] learning_rate=0.1, max_depth=3, n_estimators=50 .................\n",
      "[CV]  learning_rate=0.1, max_depth=3, n_estimators=25, score=0.7294531011304612, total=   5.3s\n",
      "[CV] learning_rate=0.1, max_depth=3, n_estimators=50 .................\n",
      "[CV]  learning_rate=0.1, max_depth=3, n_estimators=25, score=0.7188989697062894, total=   5.3s\n",
      "[CV] learning_rate=0.1, max_depth=3, n_estimators=50 .................\n",
      "[CV]  learning_rate=0.1, max_depth=3, n_estimators=50, score=0.7171952283968577, total=   9.9s\n",
      "[CV] learning_rate=0.1, max_depth=3, n_estimators=50 .................\n",
      "[CV]  learning_rate=0.1, max_depth=3, n_estimators=50, score=0.746470839868815, total=  10.1s\n",
      "[CV] learning_rate=0.1, max_depth=3, n_estimators=50 .................\n",
      "[CV]  learning_rate=0.1, max_depth=3, n_estimators=50, score=0.7426439532591862, total=   9.8s\n",
      "[CV] learning_rate=0.1, max_depth=3, n_estimators=50 .................\n",
      "[CV]  learning_rate=0.1, max_depth=3, n_estimators=50, score=0.7200929152148664, total=   9.9s\n",
      "[CV] learning_rate=0.1, max_depth=3, n_estimators=50 .................\n",
      "[CV]  learning_rate=0.1, max_depth=3, n_estimators=50, score=0.7418249321719264, total=  10.0s\n",
      "[CV] learning_rate=0.1, max_depth=3, n_estimators=50 .................\n",
      "[CV]  learning_rate=0.1, max_depth=3, n_estimators=50, score=0.7332955832389582, total=  10.0s\n",
      "[CV] learning_rate=0.1, max_depth=3, n_estimators=50 .................\n",
      "[CV]  learning_rate=0.1, max_depth=3, n_estimators=50, score=0.7328154770628755, total=   9.9s\n",
      "[CV] learning_rate=0.1, max_depth=3, n_estimators=100 ................\n",
      "[CV]  learning_rate=0.1, max_depth=3, n_estimators=50, score=0.7368348497380754, total=   9.8s\n",
      "[CV] learning_rate=0.1, max_depth=3, n_estimators=100 ................\n",
      "[CV]  learning_rate=0.1, max_depth=3, n_estimators=50, score=0.7309899569583931, total=   9.8s\n",
      "[CV] learning_rate=0.1, max_depth=3, n_estimators=100 ................\n",
      "[CV]  learning_rate=0.1, max_depth=3, n_estimators=50, score=0.7336917041987505, total=  10.0s\n",
      "[CV] learning_rate=0.1, max_depth=3, n_estimators=100 ................\n",
      "[CV]  learning_rate=0.1, max_depth=3, n_estimators=100, score=0.7226187208344771, total=  18.4s\n",
      "[CV] learning_rate=0.1, max_depth=3, n_estimators=100 ................\n",
      "[CV]  learning_rate=0.1, max_depth=3, n_estimators=100, score=0.7577187542132937, total=  18.3s\n",
      "[CV] learning_rate=0.1, max_depth=3, n_estimators=100 ................\n",
      "[CV]  learning_rate=0.1, max_depth=3, n_estimators=100, score=0.7637690776376909, total=  18.5s\n",
      "[CV] learning_rate=0.1, max_depth=3, n_estimators=100 ................\n",
      "[CV]  learning_rate=0.1, max_depth=3, n_estimators=100, score=0.7368995633187774, total=  18.5s\n",
      "[CV] learning_rate=0.1, max_depth=3, n_estimators=100 ................\n",
      "[CV]  learning_rate=0.1, max_depth=3, n_estimators=100, score=0.7551269862827651, total=  18.7s\n",
      "[CV] learning_rate=0.1, max_depth=3, n_estimators=100 ................\n",
      "[CV]  learning_rate=0.1, max_depth=3, n_estimators=100, score=0.7476012793176972, total=  18.2s\n",
      "[CV] learning_rate=0.1, max_depth=3, n_estimators=100 ................\n",
      "[CV]  learning_rate=0.1, max_depth=3, n_estimators=100, score=0.7446947864815301, total=  18.0s\n",
      "[CV] learning_rate=0.1, max_depth=3, n_estimators=200 ................\n",
      "[CV]  learning_rate=0.1, max_depth=3, n_estimators=100, score=0.7450678606408283, total=  18.8s\n",
      "[CV] learning_rate=0.1, max_depth=3, n_estimators=200 ................\n",
      "[CV]  learning_rate=0.1, max_depth=3, n_estimators=100, score=0.7387131657204649, total=  18.1s\n",
      "[CV] learning_rate=0.1, max_depth=3, n_estimators=200 ................\n"
     ]
    },
    {
     "name": "stderr",
     "output_type": "stream",
     "text": [
      "[Parallel(n_jobs=-1)]: Done 825 tasks      | elapsed: 516.9min\n"
     ]
    },
    {
     "name": "stdout",
     "output_type": "stream",
     "text": [
      "[CV]  learning_rate=0.1, max_depth=3, n_estimators=100, score=0.7409925220938137, total=  18.6s\n",
      "[CV] learning_rate=0.1, max_depth=3, n_estimators=200 ................\n",
      "[CV]  learning_rate=0.1, max_depth=3, n_estimators=200, score=0.7670343932511355, total=  33.8s\n",
      "[CV] learning_rate=0.1, max_depth=3, n_estimators=200 ................\n",
      "[CV]  learning_rate=0.1, max_depth=3, n_estimators=200, score=0.7259984131182228, total=  35.1s\n",
      "[CV] learning_rate=0.1, max_depth=3, n_estimators=200 ................\n",
      "[CV]  learning_rate=0.1, max_depth=3, n_estimators=200, score=0.7694776023616995, total=  33.7s\n",
      "[CV] learning_rate=0.1, max_depth=3, n_estimators=200 ................\n",
      "[CV]  learning_rate=0.1, max_depth=3, n_estimators=200, score=0.7392331932773109, total=  34.7s\n",
      "[CV] learning_rate=0.1, max_depth=3, n_estimators=200 ................\n",
      "[CV]  learning_rate=0.1, max_depth=3, n_estimators=200, score=0.7620721072497723, total=  33.8s\n",
      "[CV] learning_rate=0.1, max_depth=3, n_estimators=200 ................\n",
      "[CV]  learning_rate=0.1, max_depth=3, n_estimators=200, score=0.7596899224806201, total=  34.6s\n",
      "[CV] learning_rate=0.1, max_depth=3, n_estimators=200 ................\n",
      "[CV]  learning_rate=0.1, max_depth=3, n_estimators=200, score=0.7518443997317237, total=  34.4s\n",
      "[CV] learning_rate=0.1, max_depth=3, n_estimators=400 ................\n",
      "[CV]  learning_rate=0.1, max_depth=3, n_estimators=200, score=0.7500638895987732, total=  35.2s\n",
      "[CV] learning_rate=0.1, max_depth=3, n_estimators=400 ................\n",
      "[CV]  learning_rate=0.1, max_depth=3, n_estimators=200, score=0.749804228660924, total=  34.8s\n",
      "[CV] learning_rate=0.1, max_depth=3, n_estimators=400 ................\n",
      "[CV]  learning_rate=0.1, max_depth=3, n_estimators=200, score=0.7429292258664189, total=  33.8s\n",
      "[CV] learning_rate=0.1, max_depth=3, n_estimators=400 ................\n",
      "[CV]  learning_rate=0.1, max_depth=3, n_estimators=400, score=0.7303883242116237, total= 1.1min\n",
      "[CV] learning_rate=0.1, max_depth=3, n_estimators=400 ................\n",
      "[CV]  learning_rate=0.1, max_depth=3, n_estimators=400, score=0.7709251101321586, total= 1.1min\n",
      "[CV] learning_rate=0.1, max_depth=3, n_estimators=400 ................\n",
      "[CV]  learning_rate=0.1, max_depth=3, n_estimators=400, score=0.7717653022430617, total= 1.1min\n",
      "[CV] learning_rate=0.1, max_depth=3, n_estimators=400 ................\n",
      "[CV]  learning_rate=0.1, max_depth=3, n_estimators=400, score=0.7440010432968179, total= 1.1min\n",
      "[CV] learning_rate=0.1, max_depth=3, n_estimators=400 ................\n",
      "[CV]  learning_rate=0.5, max_depth=20, n_estimators=400, score=0.6851329819830861, total=26.5min\n",
      "[CV] learning_rate=0.1, max_depth=3, n_estimators=400 ................\n",
      "[CV]  learning_rate=0.1, max_depth=3, n_estimators=400, score=0.7651177593889242, total= 1.1min\n",
      "[CV] learning_rate=0.1, max_depth=3, n_estimators=400 ................\n",
      "[CV]  learning_rate=0.1, max_depth=3, n_estimators=400, score=0.7621642169285353, total= 1.1min\n",
      "[CV] learning_rate=0.1, max_depth=5, n_estimators=25 .................\n",
      "[CV]  learning_rate=0.1, max_depth=5, n_estimators=25, score=0.7288908502500735, total=  12.6s\n",
      "[CV] learning_rate=0.1, max_depth=5, n_estimators=25 .................\n",
      "[CV]  learning_rate=0.1, max_depth=3, n_estimators=400, score=0.7521949941030011, total= 1.1min\n",
      "[CV] learning_rate=0.1, max_depth=5, n_estimators=25 .................\n",
      "[CV]  learning_rate=0.1, max_depth=3, n_estimators=400, score=0.7533299824076402, total= 1.1min\n",
      "[CV] learning_rate=0.1, max_depth=5, n_estimators=25 .................\n",
      "[CV]  learning_rate=0.1, max_depth=5, n_estimators=25, score=0.752741774675972, total=  12.6s\n",
      "[CV] learning_rate=0.1, max_depth=5, n_estimators=25 .................\n",
      "[CV]  learning_rate=0.1, max_depth=5, n_estimators=25, score=0.7575110351701553, total=  12.6s\n",
      "[CV] learning_rate=0.1, max_depth=5, n_estimators=25 .................\n",
      "[CV]  learning_rate=0.1, max_depth=5, n_estimators=25, score=0.7303695150115473, total=  12.2s\n",
      "[CV] learning_rate=0.1, max_depth=5, n_estimators=25 .................\n",
      "[CV]  learning_rate=0.1, max_depth=5, n_estimators=25, score=0.7492420961455175, total=  12.0s\n",
      "[CV] learning_rate=0.1, max_depth=5, n_estimators=25 .................\n",
      "[CV]  learning_rate=0.1, max_depth=5, n_estimators=25, score=0.7388635065676757, total=  12.3s\n",
      "[CV] learning_rate=0.1, max_depth=5, n_estimators=25 .................\n",
      "[CV]  learning_rate=0.1, max_depth=5, n_estimators=25, score=0.7425742574257426, total=  12.3s\n",
      "[CV] learning_rate=0.1, max_depth=5, n_estimators=25 .................\n",
      "[CV]  learning_rate=0.1, max_depth=5, n_estimators=25, score=0.7490924322814857, total=  11.9s\n",
      "[CV] learning_rate=0.1, max_depth=5, n_estimators=50 .................\n",
      "[CV]  learning_rate=0.1, max_depth=5, n_estimators=25, score=0.7349255491670352, total=  12.4s\n",
      "[CV] learning_rate=0.1, max_depth=5, n_estimators=50 .................\n",
      "[CV]  learning_rate=0.1, max_depth=5, n_estimators=25, score=0.7421083116130901, total=  12.6s\n",
      "[CV] learning_rate=0.1, max_depth=5, n_estimators=50 .................\n",
      "[CV]  learning_rate=0.1, max_depth=3, n_estimators=400, score=0.7503217503217503, total= 1.1min\n",
      "[CV] learning_rate=0.1, max_depth=5, n_estimators=50 .................\n",
      "[CV]  learning_rate=0.1, max_depth=3, n_estimators=400, score=0.7511490479317138, total= 1.1min\n",
      "[CV] learning_rate=0.1, max_depth=5, n_estimators=50 .................\n",
      "[CV]  learning_rate=0.1, max_depth=5, n_estimators=50, score=0.7281224600379301, total=  22.8s\n",
      "[CV] learning_rate=0.1, max_depth=5, n_estimators=50 .................\n",
      "[CV]  learning_rate=0.5, max_depth=20, n_estimators=400, score=0.6935031549427436, total=27.6min\n",
      "[CV] learning_rate=0.1, max_depth=5, n_estimators=50 .................\n",
      "[CV]  learning_rate=0.1, max_depth=5, n_estimators=50, score=0.7699431141685407, total=  23.3s\n",
      "[CV] learning_rate=0.1, max_depth=5, n_estimators=50 .................\n",
      "[CV]  learning_rate=0.1, max_depth=5, n_estimators=50, score=0.7571940060999868, total=  23.6s\n",
      "[CV] learning_rate=0.1, max_depth=5, n_estimators=50 .................\n",
      "[CV]  learning_rate=0.1, max_depth=5, n_estimators=50, score=0.7360064585575888, total=  23.0s\n",
      "[CV] learning_rate=0.1, max_depth=5, n_estimators=50 .................\n",
      "[CV]  learning_rate=0.1, max_depth=5, n_estimators=50, score=0.76091363697797, total=  22.5s\n",
      "[CV] learning_rate=0.1, max_depth=5, n_estimators=100 ................\n",
      "[CV]  learning_rate=0.1, max_depth=5, n_estimators=50, score=0.7525239107332625, total=  22.7s\n",
      "[CV] learning_rate=0.1, max_depth=5, n_estimators=100 ................\n",
      "[CV]  learning_rate=0.1, max_depth=5, n_estimators=50, score=0.756794425087108, total=  23.2s\n",
      "[CV] learning_rate=0.1, max_depth=5, n_estimators=100 ................\n",
      "[CV]  learning_rate=0.1, max_depth=5, n_estimators=50, score=0.7538642913282684, total=  22.8s\n",
      "[CV] learning_rate=0.1, max_depth=5, n_estimators=100 ................\n",
      "[CV]  learning_rate=0.1, max_depth=5, n_estimators=50, score=0.7430424209673061, total=  22.7s\n",
      "[CV] learning_rate=0.1, max_depth=5, n_estimators=100 ................\n"
     ]
    },
    {
     "name": "stderr",
     "output_type": "stream",
     "text": [
      "[Parallel(n_jobs=-1)]: Done 866 tasks      | elapsed: 522.1min\n"
     ]
    },
    {
     "name": "stdout",
     "output_type": "stream",
     "text": [
      "[CV]  learning_rate=0.1, max_depth=5, n_estimators=50, score=0.7438909140002701, total=  23.3s\n",
      "[CV] learning_rate=0.1, max_depth=5, n_estimators=100 ................\n",
      "[CV]  learning_rate=0.1, max_depth=5, n_estimators=100, score=0.7301690507152145, total=  41.9s\n",
      "[CV] learning_rate=0.1, max_depth=5, n_estimators=100 ................\n",
      "[CV]  learning_rate=0.1, max_depth=5, n_estimators=100, score=0.7728706624605677, total=  42.2s\n",
      "[CV] learning_rate=0.1, max_depth=5, n_estimators=100 ................\n",
      "[CV]  learning_rate=0.1, max_depth=5, n_estimators=100, score=0.7683587353570978, total=  41.6s\n",
      "[CV] learning_rate=0.1, max_depth=5, n_estimators=100 ................\n",
      "[CV]  learning_rate=0.1, max_depth=5, n_estimators=100, score=0.7661856723279274, total=  41.1s\n",
      "[CV] learning_rate=0.1, max_depth=5, n_estimators=100 ................\n",
      "[CV]  learning_rate=0.1, max_depth=5, n_estimators=100, score=0.7636063072227873, total=  40.9s\n",
      "[CV] learning_rate=0.1, max_depth=5, n_estimators=200 ................\n",
      "[CV]  learning_rate=0.1, max_depth=5, n_estimators=100, score=0.7429979253112033, total=  43.2s\n",
      "[CV] learning_rate=0.1, max_depth=5, n_estimators=200 ................\n",
      "[CV]  learning_rate=0.1, max_depth=5, n_estimators=100, score=0.7553909247254927, total=  42.0s\n",
      "[CV] learning_rate=0.1, max_depth=5, n_estimators=200 ................\n",
      "[CV]  learning_rate=0.1, max_depth=5, n_estimators=100, score=0.7574993698008571, total=  41.0s\n",
      "[CV] learning_rate=0.1, max_depth=5, n_estimators=200 ................\n",
      "[CV]  learning_rate=0.1, max_depth=5, n_estimators=100, score=0.7510950785879927, total=  40.9s\n",
      "[CV] learning_rate=0.1, max_depth=5, n_estimators=200 ................\n",
      "[CV]  learning_rate=0.1, max_depth=5, n_estimators=100, score=0.7493061979648473, total=  42.4s\n",
      "[CV] learning_rate=0.1, max_depth=5, n_estimators=200 ................\n",
      "[CV]  learning_rate=0.1, max_depth=5, n_estimators=200, score=0.7309184993531695, total= 1.3min\n",
      "[CV] learning_rate=0.1, max_depth=5, n_estimators=200 ................\n",
      "[CV]  learning_rate=0.1, max_depth=5, n_estimators=200, score=0.7686114207853338, total= 1.3min\n",
      "[CV] learning_rate=0.1, max_depth=5, n_estimators=200 ................\n",
      "[CV]  learning_rate=0.1, max_depth=5, n_estimators=200, score=0.7709086376667081, total= 1.3min\n",
      "[CV] learning_rate=0.1, max_depth=5, n_estimators=200 ................\n",
      "[CV]  learning_rate=0.1, max_depth=5, n_estimators=200, score=0.7458847736625515, total= 1.3min\n",
      "[CV] learning_rate=0.1, max_depth=5, n_estimators=200 ................\n",
      "[CV]  learning_rate=0.1, max_depth=5, n_estimators=200, score=0.765209724146618, total= 1.2min\n",
      "[CV] learning_rate=0.1, max_depth=5, n_estimators=400 ................\n",
      "[CV]  learning_rate=0.1, max_depth=5, n_estimators=200, score=0.7600846613545816, total= 1.3min\n",
      "[CV] learning_rate=0.1, max_depth=5, n_estimators=400 ................\n",
      "[CV]  learning_rate=0.1, max_depth=5, n_estimators=200, score=0.7574173310678343, total= 1.3min\n",
      "[CV] learning_rate=0.1, max_depth=5, n_estimators=400 ................\n",
      "[CV]  learning_rate=0.1, max_depth=5, n_estimators=200, score=0.7598464206093634, total= 1.3min\n",
      "[CV] learning_rate=0.1, max_depth=5, n_estimators=400 ................\n",
      "[CV]  learning_rate=0.1, max_depth=5, n_estimators=200, score=0.7487953335024093, total= 1.3min\n",
      "[CV] learning_rate=0.1, max_depth=5, n_estimators=400 ................\n",
      "[CV]  learning_rate=0.1, max_depth=5, n_estimators=200, score=0.7507410748807836, total= 1.3min\n",
      "[CV] learning_rate=0.1, max_depth=5, n_estimators=400 ................\n",
      "[CV]  learning_rate=0.1, max_depth=5, n_estimators=400, score=0.7291402485417194, total= 2.4min\n",
      "[CV] learning_rate=0.1, max_depth=5, n_estimators=400 ................\n",
      "[CV]  learning_rate=0.1, max_depth=5, n_estimators=400, score=0.7625660562861005, total= 2.4min\n",
      "[CV] learning_rate=0.1, max_depth=5, n_estimators=400 ................\n",
      "[CV]  learning_rate=0.1, max_depth=5, n_estimators=400, score=0.7449109414758271, total= 2.4min\n",
      "[CV] learning_rate=0.1, max_depth=5, n_estimators=400 ................\n",
      "[CV]  learning_rate=0.1, max_depth=5, n_estimators=400, score=0.7646037455041548, total= 2.4min\n",
      "[CV] learning_rate=0.1, max_depth=5, n_estimators=400 ................\n",
      "[CV]  learning_rate=0.1, max_depth=5, n_estimators=400, score=0.7561671005330358, total= 2.4min\n",
      "[CV] learning_rate=0.1, max_depth=10, n_estimators=25 ................\n",
      "[CV]  learning_rate=0.1, max_depth=5, n_estimators=400, score=0.760251976284585, total= 2.3min\n",
      "[CV] learning_rate=0.1, max_depth=10, n_estimators=25 ................\n",
      "[CV]  learning_rate=0.1, max_depth=10, n_estimators=25, score=0.7206477732793523, total=  51.9s\n",
      "[CV] learning_rate=0.1, max_depth=10, n_estimators=25 ................\n",
      "[CV]  learning_rate=0.1, max_depth=10, n_estimators=25, score=0.7572131365509905, total=  52.5s\n",
      "[CV] learning_rate=0.1, max_depth=10, n_estimators=25 ................\n",
      "[CV]  learning_rate=0.1, max_depth=5, n_estimators=400, score=0.7534511675912786, total= 2.4min\n",
      "[CV] learning_rate=0.1, max_depth=10, n_estimators=25 ................\n",
      "[CV]  learning_rate=0.1, max_depth=5, n_estimators=400, score=0.7561993616498895, total= 2.4min\n",
      "[CV] learning_rate=0.1, max_depth=10, n_estimators=25 ................\n",
      "[CV]  learning_rate=0.1, max_depth=10, n_estimators=25, score=0.761144377910845, total=  52.3s\n",
      "[CV] learning_rate=0.1, max_depth=10, n_estimators=25 ................\n",
      "[CV]  learning_rate=0.1, max_depth=10, n_estimators=25, score=0.7371621621621622, total=  52.7s\n",
      "[CV] learning_rate=0.1, max_depth=10, n_estimators=25 ................\n",
      "[CV]  learning_rate=0.1, max_depth=5, n_estimators=400, score=0.7492002559181062, total= 2.4min\n",
      "[CV] learning_rate=0.1, max_depth=10, n_estimators=25 ................\n",
      "[CV]  learning_rate=0.1, max_depth=5, n_estimators=400, score=0.7452711223203027, total= 2.4min\n",
      "[CV] learning_rate=0.1, max_depth=10, n_estimators=25 ................\n",
      "[CV]  learning_rate=0.1, max_depth=10, n_estimators=25, score=0.7543075101933446, total=  52.3s\n",
      "[CV] learning_rate=0.1, max_depth=10, n_estimators=50 ................\n",
      "[CV]  learning_rate=0.1, max_depth=10, n_estimators=25, score=0.754, total=  51.1s\n",
      "[CV] learning_rate=0.1, max_depth=10, n_estimators=50 ................\n",
      "[CV]  learning_rate=0.1, max_depth=10, n_estimators=25, score=0.7492715415568197, total=  52.3s\n",
      "[CV] learning_rate=0.1, max_depth=10, n_estimators=50 ................\n",
      "[CV]  learning_rate=0.1, max_depth=10, n_estimators=25, score=0.7501984652024346, total=  52.2s\n",
      "[CV] learning_rate=0.1, max_depth=10, n_estimators=50 ................\n",
      "[CV]  learning_rate=0.1, max_depth=10, n_estimators=25, score=0.7444915834131655, total=  51.6s\n",
      "[CV] learning_rate=0.1, max_depth=10, n_estimators=50 ................\n",
      "[CV]  learning_rate=0.1, max_depth=10, n_estimators=25, score=0.7470312068489369, total=  51.9s\n",
      "[CV] learning_rate=0.1, max_depth=10, n_estimators=50 ................\n",
      "[CV]  learning_rate=0.1, max_depth=10, n_estimators=50, score=0.7198042750450683, total= 1.7min\n",
      "[CV] learning_rate=0.1, max_depth=10, n_estimators=50 ................\n"
     ]
    },
    {
     "name": "stderr",
     "output_type": "stream",
     "text": [
      "[Parallel(n_jobs=-1)]: Done 909 tasks      | elapsed: 532.0min\n"
     ]
    },
    {
     "name": "stdout",
     "output_type": "stream",
     "text": [
      "[CV]  learning_rate=0.1, max_depth=10, n_estimators=50, score=0.7588777960318464, total= 1.7min\n",
      "[CV] learning_rate=0.1, max_depth=10, n_estimators=50 ................\n",
      "[CV]  learning_rate=0.1, max_depth=10, n_estimators=50, score=0.7582610880763915, total= 1.7min\n",
      "[CV] learning_rate=0.1, max_depth=10, n_estimators=50 ................\n",
      "[CV]  learning_rate=0.1, max_depth=10, n_estimators=50, score=0.7417440660474717, total= 1.7min\n",
      "[CV] learning_rate=0.1, max_depth=10, n_estimators=50 ................\n",
      "[CV]  learning_rate=0.1, max_depth=10, n_estimators=50, score=0.7475752613679305, total= 1.7min\n",
      "[CV] learning_rate=0.1, max_depth=10, n_estimators=100 ...............\n",
      "[CV]  learning_rate=0.1, max_depth=10, n_estimators=50, score=0.7555499495459131, total= 1.7min\n",
      "[CV] learning_rate=0.1, max_depth=10, n_estimators=100 ...............\n",
      "[CV]  learning_rate=0.5, max_depth=20, n_estimators=400, score=0.6868856389355071, total=26.4min\n",
      "[CV] learning_rate=0.1, max_depth=10, n_estimators=100 ...............\n",
      "[CV]  learning_rate=0.1, max_depth=10, n_estimators=50, score=0.7500989576461276, total= 1.7min\n",
      "[CV] learning_rate=0.1, max_depth=10, n_estimators=100 ...............\n",
      "[CV]  learning_rate=0.1, max_depth=10, n_estimators=50, score=0.745570252058897, total= 1.7min\n",
      "[CV] learning_rate=0.1, max_depth=10, n_estimators=100 ...............\n",
      "[CV]  learning_rate=0.1, max_depth=10, n_estimators=50, score=0.7439938000516662, total= 1.7min\n",
      "[CV] learning_rate=0.1, max_depth=10, n_estimators=100 ...............\n",
      "[CV]  learning_rate=0.1, max_depth=10, n_estimators=50, score=0.7484014093696986, total= 1.7min\n",
      "[CV] learning_rate=0.1, max_depth=10, n_estimators=100 ...............\n",
      "[CV]  learning_rate=0.5, max_depth=20, n_estimators=400, score=0.678227818030645, total=26.6min\n",
      "[CV] learning_rate=0.1, max_depth=10, n_estimators=100 ...............\n",
      "[CV]  learning_rate=0.1, max_depth=10, n_estimators=100, score=0.7140156289387447, total= 2.9min\n",
      "[CV] learning_rate=0.1, max_depth=10, n_estimators=100 ...............\n",
      "[CV]  learning_rate=0.1, max_depth=10, n_estimators=100, score=0.7585483273669918, total= 3.0min\n",
      "[CV] learning_rate=0.1, max_depth=10, n_estimators=100 ...............\n",
      "[CV]  learning_rate=0.1, max_depth=10, n_estimators=100, score=0.7517070142768467, total= 3.0min\n",
      "[CV] learning_rate=0.1, max_depth=10, n_estimators=200 ...............\n",
      "[CV]  learning_rate=0.1, max_depth=10, n_estimators=100, score=0.7404468318886583, total= 2.9min\n",
      "[CV] learning_rate=0.1, max_depth=10, n_estimators=200 ...............\n",
      "[CV]  learning_rate=0.1, max_depth=10, n_estimators=100, score=0.7392131979695431, total= 3.0min\n",
      "[CV] learning_rate=0.1, max_depth=10, n_estimators=200 ...............\n",
      "[CV]  learning_rate=0.1, max_depth=10, n_estimators=100, score=0.7522178413011336, total= 3.0min\n",
      "[CV] learning_rate=0.1, max_depth=10, n_estimators=200 ...............\n",
      "[CV]  learning_rate=0.1, max_depth=10, n_estimators=100, score=0.74096829687884, total= 2.9min\n",
      "[CV] learning_rate=0.1, max_depth=10, n_estimators=200 ...............\n",
      "[CV]  learning_rate=0.1, max_depth=10, n_estimators=100, score=0.7466237942122187, total= 3.0min\n",
      "[CV] learning_rate=0.1, max_depth=10, n_estimators=200 ...............\n",
      "[CV]  learning_rate=0.1, max_depth=10, n_estimators=100, score=0.7383912712509515, total= 3.1min\n",
      "[CV] learning_rate=0.1, max_depth=10, n_estimators=200 ...............\n",
      "[CV]  learning_rate=0.1, max_depth=10, n_estimators=100, score=0.7467822097616924, total= 3.1min\n",
      "[CV] learning_rate=0.1, max_depth=10, n_estimators=200 ...............\n",
      "[CV]  learning_rate=0.1, max_depth=10, n_estimators=200, score=0.7081357624157724, total= 5.4min\n",
      "[CV] learning_rate=0.1, max_depth=10, n_estimators=200 ...............\n",
      "[CV]  learning_rate=0.1, max_depth=10, n_estimators=200, score=0.740214841338437, total= 5.4min\n",
      "[CV] learning_rate=0.1, max_depth=10, n_estimators=200 ...............\n",
      "[CV]  learning_rate=0.1, max_depth=10, n_estimators=200, score=0.7465728047424972, total= 5.5min\n",
      "[CV] learning_rate=0.1, max_depth=10, n_estimators=400 ...............\n",
      "[CV]  learning_rate=0.1, max_depth=10, n_estimators=200, score=0.7312153303076148, total= 5.4min\n",
      "[CV] learning_rate=0.1, max_depth=10, n_estimators=400 ...............\n",
      "[CV]  learning_rate=0.1, max_depth=10, n_estimators=200, score=0.7351331630791682, total= 5.4min\n",
      "[CV] learning_rate=0.1, max_depth=10, n_estimators=400 ...............\n",
      "[CV]  learning_rate=0.1, max_depth=10, n_estimators=200, score=0.7423208191126279, total= 5.5min\n",
      "[CV] learning_rate=0.1, max_depth=10, n_estimators=400 ...............\n",
      "[CV]  learning_rate=0.1, max_depth=10, n_estimators=200, score=0.7361480764577789, total= 5.4min\n",
      "[CV] learning_rate=0.1, max_depth=10, n_estimators=400 ...............\n",
      "[CV]  learning_rate=0.1, max_depth=10, n_estimators=200, score=0.7387593937078079, total= 5.6min\n",
      "[CV] learning_rate=0.1, max_depth=10, n_estimators=400 ...............\n",
      "[CV]  learning_rate=0.1, max_depth=10, n_estimators=200, score=0.7361340271608072, total= 5.5min\n",
      "[CV] learning_rate=0.1, max_depth=10, n_estimators=400 ...............\n",
      "[CV]  learning_rate=0.1, max_depth=10, n_estimators=200, score=0.7163377466899825, total= 5.6min\n",
      "[CV] learning_rate=0.1, max_depth=10, n_estimators=400 ...............\n",
      "[CV]  learning_rate=0.1, max_depth=10, n_estimators=400, score=0.693201064601984, total=11.5min\n",
      "[CV] learning_rate=0.1, max_depth=10, n_estimators=400 ...............\n",
      "[CV]  learning_rate=0.1, max_depth=10, n_estimators=400, score=0.7284117430291119, total=11.6min\n",
      "[CV] learning_rate=0.1, max_depth=10, n_estimators=400 ...............\n",
      "[CV]  learning_rate=0.1, max_depth=10, n_estimators=400, score=0.7081362919849643, total=11.6min\n",
      "[CV] learning_rate=0.1, max_depth=20, n_estimators=25 ................\n",
      "[CV]  learning_rate=0.1, max_depth=10, n_estimators=400, score=0.7142857142857143, total=11.7min\n",
      "[CV] learning_rate=0.1, max_depth=20, n_estimators=25 ................\n",
      "[CV]  learning_rate=0.1, max_depth=10, n_estimators=400, score=0.7140289924523782, total=11.7min\n",
      "[CV] learning_rate=0.1, max_depth=20, n_estimators=25 ................\n",
      "[CV]  learning_rate=0.1, max_depth=10, n_estimators=400, score=0.721908734052993, total=11.6min\n",
      "[CV] learning_rate=0.1, max_depth=20, n_estimators=25 ................\n",
      "[CV]  learning_rate=0.1, max_depth=20, n_estimators=25, score=0.658982711099975, total= 4.1min\n",
      "[CV] learning_rate=0.1, max_depth=20, n_estimators=25 ................\n",
      "[CV]  learning_rate=0.1, max_depth=20, n_estimators=25, score=0.6890176260322938, total= 4.0min\n",
      "[CV] learning_rate=0.1, max_depth=20, n_estimators=25 ................\n",
      "[CV]  learning_rate=0.1, max_depth=10, n_estimators=400, score=0.7205134415112618, total=11.7min\n",
      "[CV] learning_rate=0.1, max_depth=20, n_estimators=25 ................\n",
      "[CV]  learning_rate=0.1, max_depth=10, n_estimators=400, score=0.7172622805909837, total=11.8min\n",
      "[CV] learning_rate=0.1, max_depth=20, n_estimators=25 ................\n",
      "[CV]  learning_rate=0.1, max_depth=20, n_estimators=25, score=0.6828528072837633, total= 4.0min\n",
      "[CV] learning_rate=0.1, max_depth=20, n_estimators=25 ................\n",
      "[CV]  learning_rate=0.1, max_depth=20, n_estimators=25, score=0.7029800915048844, total= 4.1min\n",
      "[CV] learning_rate=0.1, max_depth=20, n_estimators=25 ................\n"
     ]
    },
    {
     "name": "stderr",
     "output_type": "stream",
     "text": [
      "[Parallel(n_jobs=-1)]: Done 952 tasks      | elapsed: 560.0min\n"
     ]
    },
    {
     "name": "stdout",
     "output_type": "stream",
     "text": [
      "[CV]  learning_rate=0.1, max_depth=20, n_estimators=25, score=0.6875225171130058, total= 4.1min\n",
      "[CV] learning_rate=0.1, max_depth=20, n_estimators=50 ................\n",
      "[CV]  learning_rate=0.1, max_depth=20, n_estimators=25, score=0.6934350775193797, total= 4.0min\n",
      "[CV] learning_rate=0.1, max_depth=20, n_estimators=50 ................\n",
      "[CV]  learning_rate=0.1, max_depth=20, n_estimators=25, score=0.6747801707658977, total= 4.1min\n",
      "[CV] learning_rate=0.1, max_depth=20, n_estimators=50 ................\n",
      "[CV]  learning_rate=0.1, max_depth=20, n_estimators=25, score=0.6998293099244087, total= 4.1min\n",
      "[CV] learning_rate=0.1, max_depth=20, n_estimators=50 ................\n",
      "[CV]  learning_rate=0.1, max_depth=20, n_estimators=25, score=0.6857072510156347, total= 4.0min\n",
      "[CV] learning_rate=0.1, max_depth=20, n_estimators=50 ................\n",
      "[CV]  learning_rate=0.1, max_depth=20, n_estimators=25, score=0.6884057971014492, total= 4.2min\n",
      "[CV] learning_rate=0.1, max_depth=20, n_estimators=50 ................\n",
      "[CV]  learning_rate=0.1, max_depth=10, n_estimators=400, score=0.7109948947827169, total=11.8min\n",
      "[CV] learning_rate=0.1, max_depth=20, n_estimators=50 ................\n",
      "[CV]  learning_rate=0.1, max_depth=10, n_estimators=400, score=0.7045735475896169, total=12.1min\n",
      "[CV] learning_rate=0.1, max_depth=20, n_estimators=50 ................\n",
      "[CV]  learning_rate=0.1, max_depth=20, n_estimators=50, score=0.6922798115259151, total= 8.4min\n",
      "[CV] learning_rate=0.1, max_depth=20, n_estimators=50 ................\n",
      "[CV]  learning_rate=0.1, max_depth=20, n_estimators=50, score=0.6618177446501564, total= 8.6min\n",
      "[CV] learning_rate=0.1, max_depth=20, n_estimators=50 ................\n",
      "[CV]  learning_rate=0.1, max_depth=20, n_estimators=50, score=0.6899147014550928, total= 8.7min\n",
      "[CV] learning_rate=0.1, max_depth=20, n_estimators=100 ...............\n",
      "[CV]  learning_rate=0.1, max_depth=20, n_estimators=50, score=0.680377854836781, total= 8.4min\n",
      "[CV] learning_rate=0.1, max_depth=20, n_estimators=100 ...............\n",
      "[CV]  learning_rate=0.1, max_depth=20, n_estimators=50, score=0.7036158861885004, total= 8.8min\n",
      "[CV] learning_rate=0.1, max_depth=20, n_estimators=100 ...............\n",
      "[CV]  learning_rate=0.1, max_depth=20, n_estimators=50, score=0.6856971153846153, total= 8.5min\n",
      "[CV] learning_rate=0.1, max_depth=20, n_estimators=100 ...............\n",
      "[CV]  learning_rate=0.1, max_depth=20, n_estimators=50, score=0.6947444204463643, total= 8.6min\n",
      "[CV] learning_rate=0.1, max_depth=20, n_estimators=100 ...............\n",
      "[CV]  learning_rate=0.1, max_depth=20, n_estimators=50, score=0.6863971968464522, total= 8.9min\n",
      "[CV] learning_rate=0.1, max_depth=20, n_estimators=100 ...............\n",
      "[CV]  learning_rate=0.1, max_depth=20, n_estimators=50, score=0.6864891158944424, total= 8.5min\n",
      "[CV] learning_rate=0.1, max_depth=20, n_estimators=100 ...............\n",
      "[CV]  learning_rate=0.1, max_depth=20, n_estimators=50, score=0.6845162919929275, total= 8.9min\n",
      "[CV] learning_rate=0.1, max_depth=20, n_estimators=100 ...............\n",
      "[CV]  learning_rate=0.1, max_depth=20, n_estimators=100, score=0.6924924924924926, total=15.8min\n",
      "[CV] learning_rate=0.1, max_depth=20, n_estimators=100 ...............\n",
      "[CV]  learning_rate=0.1, max_depth=20, n_estimators=100, score=0.6623422994525113, total=16.0min\n",
      "[CV] learning_rate=0.1, max_depth=20, n_estimators=100 ...............\n",
      "[CV]  learning_rate=0.1, max_depth=20, n_estimators=100, score=0.7051660952831305, total=16.5min\n",
      "[CV] learning_rate=0.1, max_depth=20, n_estimators=200 ...............\n",
      "[CV]  learning_rate=0.1, max_depth=20, n_estimators=100, score=0.6946489936180658, total=16.9min\n",
      "[CV] learning_rate=0.1, max_depth=20, n_estimators=200 ...............\n",
      "[CV]  learning_rate=0.1, max_depth=20, n_estimators=100, score=0.6760763847704898, total=15.8min\n",
      "[CV] learning_rate=0.1, max_depth=20, n_estimators=200 ...............\n",
      "[CV]  learning_rate=0.1, max_depth=20, n_estimators=100, score=0.6957773512476009, total=16.2min\n",
      "[CV] learning_rate=0.1, max_depth=20, n_estimators=200 ...............\n",
      "[CV]  learning_rate=0.1, max_depth=20, n_estimators=100, score=0.6908752327746742, total=16.5min\n",
      "[CV] learning_rate=0.1, max_depth=20, n_estimators=200 ...............\n",
      "[CV]  learning_rate=0.1, max_depth=20, n_estimators=100, score=0.6914258418915692, total=16.3min\n",
      "[CV] learning_rate=0.1, max_depth=20, n_estimators=200 ...............\n",
      "[CV]  learning_rate=0.1, max_depth=20, n_estimators=100, score=0.6879458348446379, total=16.2min\n",
      "[CV] learning_rate=0.1, max_depth=20, n_estimators=200 ...............\n",
      "[CV]  learning_rate=0.1, max_depth=20, n_estimators=100, score=0.6890985845542587, total=16.6min\n",
      "[CV] learning_rate=0.1, max_depth=20, n_estimators=200 ...............\n",
      "[CV]  learning_rate=0.1, max_depth=20, n_estimators=200, score=0.6632531555132173, total=28.2min\n",
      "[CV] learning_rate=0.1, max_depth=20, n_estimators=200 ...............\n",
      "[CV]  learning_rate=0.1, max_depth=20, n_estimators=200, score=0.6940289577599617, total=28.4min\n",
      "[CV] learning_rate=0.1, max_depth=20, n_estimators=200 ...............\n",
      "[CV]  learning_rate=0.1, max_depth=20, n_estimators=200, score=0.700058582308143, total=28.6min\n",
      "[CV] learning_rate=0.1, max_depth=20, n_estimators=400 ...............\n",
      "[CV]  learning_rate=0.1, max_depth=20, n_estimators=200, score=0.6912050534499514, total=28.2min\n",
      "[CV] learning_rate=0.1, max_depth=20, n_estimators=400 ...............\n",
      "[CV]  learning_rate=0.1, max_depth=20, n_estimators=200, score=0.6957040572792363, total=27.6min\n",
      "[CV] learning_rate=0.1, max_depth=20, n_estimators=400 ...............\n",
      "[CV]  learning_rate=0.1, max_depth=20, n_estimators=200, score=0.6822715006453126, total=27.8min\n",
      "[CV] learning_rate=0.1, max_depth=20, n_estimators=400 ...............\n",
      "[CV]  learning_rate=0.1, max_depth=20, n_estimators=200, score=0.690519877675841, total=28.4min\n",
      "[CV] learning_rate=0.1, max_depth=20, n_estimators=400 ...............\n",
      "[CV]  learning_rate=0.1, max_depth=20, n_estimators=200, score=0.6951393852751966, total=28.4min\n",
      "[CV] learning_rate=0.1, max_depth=20, n_estimators=400 ...............\n",
      "[CV]  learning_rate=0.1, max_depth=20, n_estimators=200, score=0.6903030303030304, total=28.8min\n",
      "[CV] learning_rate=0.1, max_depth=20, n_estimators=400 ...............\n",
      "[CV]  learning_rate=0.1, max_depth=20, n_estimators=200, score=0.6879694765708836, total=28.3min\n",
      "[CV] learning_rate=0.1, max_depth=20, n_estimators=400 ...............\n",
      "[CV]  learning_rate=0.1, max_depth=20, n_estimators=400, score=0.6663897460242107, total=39.0min\n",
      "[CV] learning_rate=0.1, max_depth=20, n_estimators=400 ...............\n",
      "[CV]  learning_rate=0.1, max_depth=20, n_estimators=400, score=0.6960142772159428, total=39.6min\n",
      "[CV] learning_rate=0.1, max_depth=20, n_estimators=400 ...............\n",
      "[CV]  learning_rate=0.1, max_depth=20, n_estimators=400, score=0.693033381712627, total=39.4min\n",
      "[CV] learning_rate=0.2, max_depth=2, n_estimators=25 .................\n",
      "[CV]  learning_rate=0.2, max_depth=2, n_estimators=25, score=0.7098200670936261, total=   2.9s\n",
      "[CV] learning_rate=0.2, max_depth=2, n_estimators=25 .................\n",
      "[CV]  learning_rate=0.2, max_depth=2, n_estimators=25, score=0.7411520805567895, total=   3.0s\n",
      "[CV] learning_rate=0.2, max_depth=2, n_estimators=25 .................\n",
      "[CV]  learning_rate=0.1, max_depth=20, n_estimators=400, score=0.6955563290404919, total=39.7min\n",
      "[CV] learning_rate=0.2, max_depth=2, n_estimators=25 .................\n",
      "[CV]  learning_rate=0.2, max_depth=2, n_estimators=25, score=0.7365070177977139, total=   3.1s\n",
      "[CV] learning_rate=0.2, max_depth=2, n_estimators=25 .................\n"
     ]
    },
    {
     "name": "stderr",
     "output_type": "stream",
     "text": [
      "[Parallel(n_jobs=-1)]: Done 997 tasks      | elapsed: 663.6min\n"
     ]
    },
    {
     "name": "stdout",
     "output_type": "stream",
     "text": [
      "[CV]  learning_rate=0.2, max_depth=2, n_estimators=25, score=0.7164179104477613, total=   2.8s\n",
      "[CV] learning_rate=0.2, max_depth=2, n_estimators=25 .................\n",
      "[CV]  learning_rate=0.2, max_depth=2, n_estimators=25, score=0.7365190705830776, total=   2.8s\n",
      "[CV] learning_rate=0.2, max_depth=2, n_estimators=25 .................\n",
      "[CV]  learning_rate=0.2, max_depth=2, n_estimators=25, score=0.7291666666666666, total=   2.9s\n",
      "[CV] learning_rate=0.2, max_depth=2, n_estimators=25 .................\n",
      "[CV]  learning_rate=0.2, max_depth=2, n_estimators=25, score=0.7186521544654838, total=   3.1s\n",
      "[CV] learning_rate=0.2, max_depth=2, n_estimators=25 .................\n",
      "[CV]  learning_rate=0.2, max_depth=2, n_estimators=25, score=0.7343614874603632, total=   2.9s\n",
      "[CV] learning_rate=0.2, max_depth=2, n_estimators=25 .................\n",
      "[CV]  learning_rate=0.2, max_depth=2, n_estimators=25, score=0.7285115303983228, total=   3.0s\n",
      "[CV] learning_rate=0.2, max_depth=2, n_estimators=50 .................\n",
      "[CV]  learning_rate=0.2, max_depth=2, n_estimators=25, score=0.7213483146067415, total=   2.8s\n",
      "[CV] learning_rate=0.2, max_depth=2, n_estimators=50 .................\n",
      "[CV]  learning_rate=0.2, max_depth=2, n_estimators=50, score=0.7126469744766275, total=   5.2s\n",
      "[CV] learning_rate=0.2, max_depth=2, n_estimators=50 .................\n",
      "[CV]  learning_rate=0.2, max_depth=2, n_estimators=50, score=0.7519899455383326, total=   5.3s\n",
      "[CV] learning_rate=0.2, max_depth=2, n_estimators=50 .................\n",
      "[CV]  learning_rate=0.2, max_depth=2, n_estimators=50, score=0.747469144362779, total=   5.4s\n",
      "[CV] learning_rate=0.2, max_depth=2, n_estimators=50 .................\n",
      "[CV]  learning_rate=0.2, max_depth=2, n_estimators=50, score=0.7177236693091732, total=   5.3s\n",
      "[CV] learning_rate=0.2, max_depth=2, n_estimators=50 .................\n",
      "[CV]  learning_rate=0.2, max_depth=2, n_estimators=50, score=0.7393819669817977, total=   5.2s\n",
      "[CV] learning_rate=0.2, max_depth=2, n_estimators=50 .................\n",
      "[CV]  learning_rate=0.2, max_depth=2, n_estimators=50, score=0.7402234636871509, total=   5.0s\n",
      "[CV] learning_rate=0.2, max_depth=2, n_estimators=50 .................\n",
      "[CV]  learning_rate=0.2, max_depth=2, n_estimators=50, score=0.738448251043616, total=   5.3s\n",
      "[CV] learning_rate=0.2, max_depth=2, n_estimators=50 .................\n",
      "[CV]  learning_rate=0.2, max_depth=2, n_estimators=50, score=0.7334795722511653, total=   5.4s\n",
      "[CV] learning_rate=0.2, max_depth=2, n_estimators=50 .................\n",
      "[CV]  learning_rate=0.2, max_depth=2, n_estimators=50, score=0.7313943541488452, total=   5.4s\n",
      "[CV] learning_rate=0.2, max_depth=2, n_estimators=100 ................\n",
      "[CV]  learning_rate=0.2, max_depth=2, n_estimators=50, score=0.728739210414603, total=   5.3s\n",
      "[CV] learning_rate=0.2, max_depth=2, n_estimators=100 ................\n",
      "[CV]  learning_rate=0.2, max_depth=2, n_estimators=100, score=0.7206896551724138, total=  10.2s\n",
      "[CV] learning_rate=0.2, max_depth=2, n_estimators=100 ................\n",
      "[CV]  learning_rate=0.2, max_depth=2, n_estimators=100, score=0.7583478610701355, total=  10.0s\n",
      "[CV] learning_rate=0.2, max_depth=2, n_estimators=100 ................\n",
      "[CV]  learning_rate=0.2, max_depth=2, n_estimators=100, score=0.7600477516912056, total=  10.3s\n",
      "[CV] learning_rate=0.2, max_depth=2, n_estimators=100 ................\n",
      "[CV]  learning_rate=0.2, max_depth=2, n_estimators=100, score=0.7235054347826088, total=   9.5s\n",
      "[CV] learning_rate=0.2, max_depth=2, n_estimators=100 ................\n",
      "[CV]  learning_rate=0.2, max_depth=2, n_estimators=100, score=0.7491432488005484, total=  10.4s\n",
      "[CV] learning_rate=0.2, max_depth=2, n_estimators=100 ................\n",
      "[CV]  learning_rate=0.2, max_depth=2, n_estimators=100, score=0.745345744680851, total=   9.8s\n",
      "[CV] learning_rate=0.2, max_depth=2, n_estimators=100 ................\n",
      "[CV]  learning_rate=0.2, max_depth=2, n_estimators=100, score=0.749965117901493, total=  10.1s\n",
      "[CV] learning_rate=0.2, max_depth=2, n_estimators=100 ................\n",
      "[CV]  learning_rate=0.2, max_depth=2, n_estimators=100, score=0.7388001047943411, total=   9.7s\n",
      "[CV] learning_rate=0.2, max_depth=2, n_estimators=100 ................\n",
      "[CV]  learning_rate=0.2, max_depth=2, n_estimators=100, score=0.7364288615134696, total=   9.6s\n",
      "[CV] learning_rate=0.2, max_depth=2, n_estimators=200 ................\n",
      "[CV]  learning_rate=0.2, max_depth=2, n_estimators=100, score=0.7406409911123081, total=  10.3s\n",
      "[CV] learning_rate=0.2, max_depth=2, n_estimators=200 ................\n",
      "[CV]  learning_rate=0.2, max_depth=2, n_estimators=200, score=0.7315284075753534, total=  18.6s\n",
      "[CV] learning_rate=0.2, max_depth=2, n_estimators=200 ................\n",
      "[CV]  learning_rate=0.2, max_depth=2, n_estimators=200, score=0.7696781698332689, total=  19.5s\n",
      "[CV] learning_rate=0.2, max_depth=2, n_estimators=200 ................\n",
      "[CV]  learning_rate=0.2, max_depth=2, n_estimators=200, score=0.7677902621722846, total=  18.7s\n",
      "[CV] learning_rate=0.2, max_depth=2, n_estimators=200 ................\n",
      "[CV]  learning_rate=0.2, max_depth=2, n_estimators=200, score=0.7401055408970977, total=  19.6s\n",
      "[CV] learning_rate=0.2, max_depth=2, n_estimators=200 ................\n",
      "[CV]  learning_rate=0.2, max_depth=2, n_estimators=200, score=0.7605671127600371, total=  18.3s\n",
      "[CV] learning_rate=0.2, max_depth=2, n_estimators=200 ................\n",
      "[CV]  learning_rate=0.2, max_depth=2, n_estimators=200, score=0.7586518595041323, total=  19.6s\n",
      "[CV] learning_rate=0.2, max_depth=2, n_estimators=200 ................\n",
      "[CV]  learning_rate=0.2, max_depth=2, n_estimators=200, score=0.7526736158115609, total=  19.1s\n",
      "[CV] learning_rate=0.2, max_depth=2, n_estimators=200 ................\n",
      "[CV]  learning_rate=0.2, max_depth=2, n_estimators=200, score=0.7477707006369428, total=  19.6s\n",
      "[CV] learning_rate=0.2, max_depth=2, n_estimators=200 ................\n",
      "[CV]  learning_rate=0.2, max_depth=2, n_estimators=200, score=0.7490144546649146, total=  19.5s\n",
      "[CV] learning_rate=0.2, max_depth=2, n_estimators=400 ................\n",
      "[CV]  learning_rate=0.2, max_depth=2, n_estimators=200, score=0.7465162574651626, total=  19.9s\n",
      "[CV] learning_rate=0.2, max_depth=2, n_estimators=400 ................\n",
      "[CV]  learning_rate=0.2, max_depth=2, n_estimators=400, score=0.7332201619221729, total=  37.8s\n",
      "[CV] learning_rate=0.2, max_depth=2, n_estimators=400 ................\n",
      "[CV]  learning_rate=0.2, max_depth=2, n_estimators=400, score=0.7746478873239436, total=  37.9s\n",
      "[CV] learning_rate=0.2, max_depth=2, n_estimators=400 ................\n",
      "[CV]  learning_rate=0.2, max_depth=2, n_estimators=400, score=0.7691821514347112, total=  36.4s\n",
      "[CV] learning_rate=0.2, max_depth=2, n_estimators=400 ................\n",
      "[CV]  learning_rate=0.2, max_depth=2, n_estimators=400, score=0.7433489827856026, total=  36.5s\n",
      "[CV] learning_rate=0.2, max_depth=2, n_estimators=400 ................\n",
      "[CV]  learning_rate=0.2, max_depth=2, n_estimators=400, score=0.7669105378000257, total=  36.0s\n",
      "[CV] learning_rate=0.2, max_depth=2, n_estimators=400 ................\n",
      "[CV]  learning_rate=0.2, max_depth=2, n_estimators=400, score=0.7601522842639594, total=  37.1s\n",
      "[CV] learning_rate=0.2, max_depth=2, n_estimators=400 ................\n",
      "[CV]  learning_rate=0.2, max_depth=2, n_estimators=400, score=0.7570957095709571, total=  36.3s\n",
      "[CV] learning_rate=0.2, max_depth=2, n_estimators=400 ................\n",
      "[CV]  learning_rate=0.2, max_depth=2, n_estimators=400, score=0.7493085240130752, total=  36.9s\n",
      "[CV] learning_rate=0.2, max_depth=2, n_estimators=400 ................\n"
     ]
    },
    {
     "name": "stderr",
     "output_type": "stream",
     "text": [
      "[Parallel(n_jobs=-1)]: Done 1042 tasks      | elapsed: 669.3min\n"
     ]
    },
    {
     "name": "stdout",
     "output_type": "stream",
     "text": [
      "[CV]  learning_rate=0.2, max_depth=2, n_estimators=400, score=0.7541935483870967, total=  38.1s\n",
      "[CV] learning_rate=0.2, max_depth=3, n_estimators=25 .................\n",
      "[CV]  learning_rate=0.2, max_depth=3, n_estimators=25, score=0.717065436725281, total=   5.1s\n",
      "[CV] learning_rate=0.2, max_depth=3, n_estimators=25 .................\n",
      "[CV]  learning_rate=0.2, max_depth=2, n_estimators=400, score=0.7522065604004743, total=  38.2s\n",
      "[CV] learning_rate=0.2, max_depth=3, n_estimators=25 .................\n",
      "[CV]  learning_rate=0.2, max_depth=3, n_estimators=25, score=0.7477820025348542, total=   5.2s\n",
      "[CV] learning_rate=0.2, max_depth=3, n_estimators=25 .................\n",
      "[CV]  learning_rate=0.2, max_depth=3, n_estimators=25, score=0.7499650202882326, total=   5.1s\n",
      "[CV] learning_rate=0.2, max_depth=3, n_estimators=25 .................\n",
      "[CV]  learning_rate=0.2, max_depth=3, n_estimators=25, score=0.7225433526011561, total=   5.2s\n",
      "[CV] learning_rate=0.2, max_depth=3, n_estimators=25 .................\n",
      "[CV]  learning_rate=0.2, max_depth=3, n_estimators=25, score=0.7393519173623885, total=   5.1s\n",
      "[CV] learning_rate=0.2, max_depth=3, n_estimators=25 .................\n",
      "[CV]  learning_rate=0.2, max_depth=3, n_estimators=25, score=0.7343397291196389, total=   5.0s\n",
      "[CV] learning_rate=0.2, max_depth=3, n_estimators=25 .................\n",
      "[CV]  learning_rate=0.2, max_depth=3, n_estimators=25, score=0.735101267667201, total=   5.0s\n",
      "[CV] learning_rate=0.2, max_depth=3, n_estimators=25 .................\n",
      "[CV]  learning_rate=0.2, max_depth=3, n_estimators=25, score=0.7366749516708093, total=   5.2s\n",
      "[CV] learning_rate=0.2, max_depth=3, n_estimators=25 .................\n",
      "[CV]  learning_rate=0.2, max_depth=3, n_estimators=25, score=0.7378950420411713, total=   4.9s\n",
      "[CV] learning_rate=0.2, max_depth=3, n_estimators=50 .................\n",
      "[CV]  learning_rate=0.2, max_depth=3, n_estimators=25, score=0.7264651096145579, total=   5.1s\n",
      "[CV] learning_rate=0.2, max_depth=3, n_estimators=50 .................\n",
      "[CV]  learning_rate=0.2, max_depth=3, n_estimators=50, score=0.7213520197856554, total=   9.4s\n",
      "[CV] learning_rate=0.2, max_depth=3, n_estimators=50 .................\n",
      "[CV]  learning_rate=0.2, max_depth=3, n_estimators=50, score=0.7582049564634964, total=   9.2s\n",
      "[CV] learning_rate=0.2, max_depth=3, n_estimators=50 .................\n",
      "[CV]  learning_rate=0.2, max_depth=3, n_estimators=50, score=0.7609414253603067, total=   9.6s\n",
      "[CV] learning_rate=0.2, max_depth=3, n_estimators=50 .................\n",
      "[CV]  learning_rate=0.2, max_depth=3, n_estimators=50, score=0.7366071428571428, total=   9.1s\n",
      "[CV] learning_rate=0.2, max_depth=3, n_estimators=50 .................\n",
      "[CV]  learning_rate=0.2, max_depth=3, n_estimators=50, score=0.757087196023109, total=   9.2s\n",
      "[CV] learning_rate=0.2, max_depth=3, n_estimators=50 .................\n",
      "[CV]  learning_rate=0.2, max_depth=3, n_estimators=50, score=0.7430444087747459, total=   9.0s\n",
      "[CV] learning_rate=0.2, max_depth=3, n_estimators=50 .................\n",
      "[CV]  learning_rate=0.2, max_depth=3, n_estimators=50, score=0.751620466142601, total=   9.3s\n",
      "[CV] learning_rate=0.2, max_depth=3, n_estimators=50 .................\n",
      "[CV]  learning_rate=0.2, max_depth=3, n_estimators=50, score=0.7483702737940027, total=   9.4s\n",
      "[CV] learning_rate=0.2, max_depth=3, n_estimators=50 .................\n",
      "[CV]  learning_rate=0.2, max_depth=3, n_estimators=50, score=0.7415196743554952, total=   9.0s\n",
      "[CV] learning_rate=0.2, max_depth=3, n_estimators=100 ................\n",
      "[CV]  learning_rate=0.2, max_depth=3, n_estimators=50, score=0.7356709372892783, total=   9.3s\n",
      "[CV] learning_rate=0.2, max_depth=3, n_estimators=100 ................\n",
      "[CV]  learning_rate=0.2, max_depth=3, n_estimators=100, score=0.7221631676853574, total=  17.2s\n",
      "[CV] learning_rate=0.2, max_depth=3, n_estimators=100 ................\n",
      "[CV]  learning_rate=0.2, max_depth=3, n_estimators=100, score=0.768089771701277, total=  17.2s\n",
      "[CV] learning_rate=0.2, max_depth=3, n_estimators=100 ................\n",
      "[CV]  learning_rate=0.2, max_depth=3, n_estimators=100, score=0.763383160853456, total=  16.3s\n",
      "[CV] learning_rate=0.2, max_depth=3, n_estimators=100 ................\n",
      "[CV]  learning_rate=0.2, max_depth=3, n_estimators=100, score=0.7426199261992621, total=  16.5s\n",
      "[CV] learning_rate=0.2, max_depth=3, n_estimators=100 ................\n",
      "[CV]  learning_rate=0.1, max_depth=20, n_estimators=400, score=0.682798833819242, total=38.8min\n",
      "[CV] learning_rate=0.2, max_depth=3, n_estimators=100 ................\n",
      "[CV]  learning_rate=0.2, max_depth=3, n_estimators=100, score=0.7599275643513128, total=  16.8s\n",
      "[CV] learning_rate=0.2, max_depth=3, n_estimators=100 ................\n",
      "[CV]  learning_rate=0.2, max_depth=3, n_estimators=100, score=0.756291730868002, total=  17.4s\n",
      "[CV] learning_rate=0.2, max_depth=3, n_estimators=100 ................\n",
      "[CV]  learning_rate=0.1, max_depth=20, n_estimators=400, score=0.7001431297709924, total=38.9min\n",
      "[CV] learning_rate=0.2, max_depth=3, n_estimators=100 ................\n",
      "[CV]  learning_rate=0.2, max_depth=3, n_estimators=100, score=0.7557436517533254, total=  18.0s\n",
      "[CV] learning_rate=0.2, max_depth=3, n_estimators=200 ................\n",
      "[CV]  learning_rate=0.2, max_depth=3, n_estimators=100, score=0.7503176620076238, total=  17.0s\n",
      "[CV] learning_rate=0.2, max_depth=3, n_estimators=200 ................\n",
      "[CV]  learning_rate=0.2, max_depth=3, n_estimators=100, score=0.7500653936698928, total=  17.4s\n",
      "[CV] learning_rate=0.2, max_depth=3, n_estimators=200 ................\n",
      "[CV]  learning_rate=0.2, max_depth=3, n_estimators=100, score=0.7514259185568378, total=  16.8s\n",
      "[CV] learning_rate=0.2, max_depth=3, n_estimators=200 ................\n",
      "[CV]  learning_rate=0.2, max_depth=3, n_estimators=200, score=0.7297332297332296, total=  32.5s\n",
      "[CV] learning_rate=0.2, max_depth=3, n_estimators=200 ................\n",
      "[CV]  learning_rate=0.2, max_depth=3, n_estimators=200, score=0.7687476447682452, total=  33.8s\n",
      "[CV] learning_rate=0.2, max_depth=3, n_estimators=200 ................\n",
      "[CV]  learning_rate=0.2, max_depth=3, n_estimators=200, score=0.7700623171817371, total=  32.5s\n",
      "[CV] learning_rate=0.2, max_depth=3, n_estimators=200 ................\n",
      "[CV]  learning_rate=0.2, max_depth=3, n_estimators=200, score=0.7446946169772256, total=  32.6s\n",
      "[CV] learning_rate=0.2, max_depth=3, n_estimators=200 ................\n",
      "[CV]  learning_rate=0.2, max_depth=3, n_estimators=200, score=0.7652996039350964, total=  32.6s\n",
      "[CV] learning_rate=0.2, max_depth=3, n_estimators=200 ................\n",
      "[CV]  learning_rate=0.2, max_depth=3, n_estimators=200, score=0.7652284263959391, total=  33.3s\n",
      "[CV] learning_rate=0.2, max_depth=3, n_estimators=200 ................\n",
      "[CV]  learning_rate=0.2, max_depth=3, n_estimators=200, score=0.7579734873342959, total=  32.0s\n",
      "[CV] learning_rate=0.2, max_depth=3, n_estimators=400 ................\n",
      "[CV]  learning_rate=0.2, max_depth=3, n_estimators=200, score=0.7545522574208032, total=  32.2s\n",
      "[CV] learning_rate=0.2, max_depth=3, n_estimators=400 ................\n",
      "[CV]  learning_rate=0.2, max_depth=3, n_estimators=200, score=0.7476275968196974, total=  34.3s\n",
      "[CV] learning_rate=0.2, max_depth=3, n_estimators=400 ................\n",
      "[CV]  learning_rate=0.2, max_depth=3, n_estimators=200, score=0.7513999218648261, total=  32.6s\n",
      "[CV] learning_rate=0.2, max_depth=3, n_estimators=400 ................\n",
      "[CV]  learning_rate=0.2, max_depth=3, n_estimators=400, score=0.7322390356501667, total= 1.1min\n",
      "[CV] learning_rate=0.2, max_depth=3, n_estimators=400 ................\n",
      "[CV]  learning_rate=0.2, max_depth=3, n_estimators=400, score=0.7698084866691702, total= 1.1min\n",
      "[CV] learning_rate=0.2, max_depth=3, n_estimators=400 ................\n",
      "[CV]  learning_rate=0.2, max_depth=3, n_estimators=400, score=0.7711069418386491, total= 1.1min\n",
      "[CV] learning_rate=0.2, max_depth=3, n_estimators=400 ................\n"
     ]
    },
    {
     "name": "stderr",
     "output_type": "stream",
     "text": [
      "[Parallel(n_jobs=-1)]: Done 1089 tasks      | elapsed: 675.1min\n"
     ]
    },
    {
     "name": "stdout",
     "output_type": "stream",
     "text": [
      "[CV]  learning_rate=0.2, max_depth=3, n_estimators=400, score=0.7417864476386037, total= 1.1min\n",
      "[CV] learning_rate=0.2, max_depth=3, n_estimators=400 ................\n",
      "[CV]  learning_rate=0.2, max_depth=3, n_estimators=400, score=0.7558650106636557, total= 1.1min\n",
      "[CV] learning_rate=0.2, max_depth=3, n_estimators=400 ................\n",
      "[CV]  learning_rate=0.2, max_depth=3, n_estimators=400, score=0.7591067864271457, total= 1.1min\n",
      "[CV] learning_rate=0.2, max_depth=3, n_estimators=400 ................\n",
      "[CV]  learning_rate=0.2, max_depth=3, n_estimators=400, score=0.7543903042295326, total= 1.0min\n",
      "[CV] learning_rate=0.2, max_depth=5, n_estimators=25 .................\n",
      "[CV]  learning_rate=0.2, max_depth=3, n_estimators=400, score=0.7521949941030011, total= 1.1min\n",
      "[CV] learning_rate=0.2, max_depth=5, n_estimators=25 .................\n",
      "[CV]  learning_rate=0.2, max_depth=5, n_estimators=25, score=0.7271394294854706, total=  11.7s\n",
      "[CV] learning_rate=0.2, max_depth=5, n_estimators=25 .................\n",
      "[CV]  learning_rate=0.2, max_depth=5, n_estimators=25, score=0.7574159525379038, total=  11.9s\n",
      "[CV] learning_rate=0.2, max_depth=5, n_estimators=25 .................\n",
      "[CV]  learning_rate=0.2, max_depth=5, n_estimators=25, score=0.7672062113435979, total=  12.0s\n",
      "[CV] learning_rate=0.2, max_depth=5, n_estimators=25 .................\n",
      "[CV]  learning_rate=0.2, max_depth=5, n_estimators=25, score=0.7366310160427807, total=  11.6s\n",
      "[CV] learning_rate=0.2, max_depth=5, n_estimators=25 .................\n",
      "[CV]  learning_rate=0.2, max_depth=3, n_estimators=400, score=0.7475083056478405, total= 1.1min\n",
      "[CV] learning_rate=0.2, max_depth=5, n_estimators=25 .................\n",
      "[CV]  learning_rate=0.2, max_depth=5, n_estimators=25, score=0.7581994423051388, total=  11.4s\n",
      "[CV] learning_rate=0.2, max_depth=5, n_estimators=25 .................\n",
      "[CV]  learning_rate=0.2, max_depth=3, n_estimators=400, score=0.7449151444487628, total= 1.1min\n",
      "[CV] learning_rate=0.2, max_depth=5, n_estimators=25 .................\n",
      "[CV]  learning_rate=0.2, max_depth=5, n_estimators=25, score=0.7488050982474774, total=  11.5s\n",
      "[CV] learning_rate=0.2, max_depth=5, n_estimators=25 .................\n",
      "[CV]  learning_rate=0.2, max_depth=5, n_estimators=25, score=0.7594501718213058, total=  11.5s\n",
      "[CV] learning_rate=0.2, max_depth=5, n_estimators=50 .................\n",
      "[CV]  learning_rate=0.2, max_depth=5, n_estimators=25, score=0.7504509147127029, total=  11.3s\n",
      "[CV] learning_rate=0.2, max_depth=5, n_estimators=50 .................\n",
      "[CV]  learning_rate=0.2, max_depth=5, n_estimators=25, score=0.7450821880894636, total=  11.3s\n",
      "[CV] learning_rate=0.2, max_depth=5, n_estimators=50 .................\n",
      "[CV]  learning_rate=0.2, max_depth=5, n_estimators=25, score=0.744035584310554, total=  11.2s\n",
      "[CV] learning_rate=0.2, max_depth=5, n_estimators=50 .................\n",
      "[CV]  learning_rate=0.2, max_depth=5, n_estimators=50, score=0.7324143262045865, total=  20.1s\n",
      "[CV] learning_rate=0.2, max_depth=5, n_estimators=50 .................\n",
      "[CV]  learning_rate=0.2, max_depth=5, n_estimators=50, score=0.7668212003508333, total=  20.3s\n",
      "[CV] learning_rate=0.2, max_depth=5, n_estimators=50 .................\n",
      "[CV]  learning_rate=0.2, max_depth=5, n_estimators=50, score=0.7689408217112702, total=  20.5s\n",
      "[CV] learning_rate=0.2, max_depth=5, n_estimators=50 .................\n",
      "[CV]  learning_rate=0.2, max_depth=5, n_estimators=50, score=0.7477967858994297, total=  20.4s\n",
      "[CV] learning_rate=0.2, max_depth=5, n_estimators=50 .................\n",
      "[CV]  learning_rate=0.2, max_depth=5, n_estimators=50, score=0.7633151137663658, total=  20.3s\n",
      "[CV] learning_rate=0.2, max_depth=5, n_estimators=50 .................\n",
      "[CV]  learning_rate=0.2, max_depth=5, n_estimators=50, score=0.7590863200403838, total=  20.6s\n",
      "[CV] learning_rate=0.2, max_depth=5, n_estimators=50 .................\n",
      "[CV]  learning_rate=0.2, max_depth=5, n_estimators=50, score=0.7606544398997229, total=  20.3s\n",
      "[CV] learning_rate=0.2, max_depth=5, n_estimators=100 ................\n",
      "[CV]  learning_rate=0.2, max_depth=5, n_estimators=50, score=0.7524393294971229, total=  20.5s\n",
      "[CV] learning_rate=0.2, max_depth=5, n_estimators=100 ................\n",
      "[CV]  learning_rate=0.2, max_depth=5, n_estimators=50, score=0.7481328869430852, total=  20.8s\n",
      "[CV] learning_rate=0.2, max_depth=5, n_estimators=100 ................\n",
      "[CV]  learning_rate=0.2, max_depth=5, n_estimators=50, score=0.7473656823208014, total=  20.3s\n",
      "[CV] learning_rate=0.2, max_depth=5, n_estimators=100 ................\n",
      "[CV]  learning_rate=0.2, max_depth=5, n_estimators=100, score=0.7295102765795484, total=  38.1s\n",
      "[CV] learning_rate=0.2, max_depth=5, n_estimators=100 ................\n",
      "[CV]  learning_rate=0.2, max_depth=5, n_estimators=100, score=0.766950722489811, total=  37.3s\n",
      "[CV] learning_rate=0.2, max_depth=5, n_estimators=100 ................\n",
      "[CV]  learning_rate=0.2, max_depth=5, n_estimators=100, score=0.771899392888118, total=  37.9s\n",
      "[CV] learning_rate=0.2, max_depth=5, n_estimators=100 ................\n",
      "[CV]  learning_rate=0.2, max_depth=5, n_estimators=100, score=0.7451678535096643, total=  36.5s\n",
      "[CV] learning_rate=0.2, max_depth=5, n_estimators=100 ................\n",
      "[CV]  learning_rate=0.2, max_depth=5, n_estimators=100, score=0.7619403915700212, total=  37.2s\n",
      "[CV] learning_rate=0.2, max_depth=5, n_estimators=100 ................\n",
      "[CV]  learning_rate=0.2, max_depth=5, n_estimators=100, score=0.7630597014925373, total=  37.2s\n",
      "[CV] learning_rate=0.2, max_depth=5, n_estimators=100 ................\n",
      "[CV]  learning_rate=0.2, max_depth=5, n_estimators=100, score=0.7572412001558644, total=  36.5s\n",
      "[CV] learning_rate=0.2, max_depth=5, n_estimators=200 ................\n",
      "[CV]  learning_rate=0.2, max_depth=5, n_estimators=100, score=0.7496924969249693, total=  37.1s\n",
      "[CV] learning_rate=0.2, max_depth=5, n_estimators=200 ................\n",
      "[CV]  learning_rate=0.2, max_depth=5, n_estimators=100, score=0.7458808618504436, total=  38.6s\n",
      "[CV] learning_rate=0.2, max_depth=5, n_estimators=200 ................\n",
      "[CV]  learning_rate=0.2, max_depth=5, n_estimators=100, score=0.7507372740094883, total=  38.6s\n",
      "[CV] learning_rate=0.2, max_depth=5, n_estimators=200 ................\n",
      "[CV]  learning_rate=0.2, max_depth=5, n_estimators=200, score=0.7223884318125157, total= 1.2min\n",
      "[CV] learning_rate=0.2, max_depth=5, n_estimators=200 ................\n",
      "[CV]  learning_rate=0.2, max_depth=5, n_estimators=200, score=0.7622659977976263, total= 1.2min\n",
      "[CV] learning_rate=0.2, max_depth=5, n_estimators=200 ................\n",
      "[CV]  learning_rate=0.2, max_depth=5, n_estimators=200, score=0.7385793172690763, total= 1.2min\n",
      "[CV] learning_rate=0.2, max_depth=5, n_estimators=200 ................\n",
      "[CV]  learning_rate=0.2, max_depth=5, n_estimators=200, score=0.762826007101751, total= 1.2min\n",
      "[CV] learning_rate=0.2, max_depth=5, n_estimators=200 ................\n",
      "[CV]  learning_rate=0.2, max_depth=5, n_estimators=200, score=0.7513273243610322, total= 1.3min\n",
      "[CV] learning_rate=0.2, max_depth=5, n_estimators=200 ................\n",
      "[CV]  learning_rate=0.2, max_depth=5, n_estimators=200, score=0.7551571709233792, total= 1.3min\n",
      "[CV] learning_rate=0.2, max_depth=5, n_estimators=200 ................\n",
      "[CV]  learning_rate=0.2, max_depth=5, n_estimators=200, score=0.7536977491961415, total= 1.2min\n",
      "[CV] learning_rate=0.2, max_depth=5, n_estimators=400 ................\n",
      "[CV]  learning_rate=0.2, max_depth=5, n_estimators=200, score=0.7456990550036346, total= 1.3min\n",
      "[CV] learning_rate=0.2, max_depth=5, n_estimators=400 ................\n",
      "[CV]  learning_rate=0.2, max_depth=5, n_estimators=200, score=0.7442361287053458, total= 1.2min\n",
      "[CV] learning_rate=0.2, max_depth=5, n_estimators=400 ................\n",
      "[CV]  learning_rate=0.2, max_depth=5, n_estimators=200, score=0.7430125205514101, total= 1.2min\n",
      "[CV] learning_rate=0.2, max_depth=5, n_estimators=400 ................\n"
     ]
    },
    {
     "name": "stderr",
     "output_type": "stream",
     "text": [
      "[Parallel(n_jobs=-1)]: Done 1136 tasks      | elapsed: 682.9min\n"
     ]
    },
    {
     "name": "stdout",
     "output_type": "stream",
     "text": [
      "[CV]  learning_rate=0.2, max_depth=5, n_estimators=400, score=0.7168795391935887, total= 2.4min\n",
      "[CV] learning_rate=0.2, max_depth=5, n_estimators=400 ................\n",
      "[CV]  learning_rate=0.2, max_depth=5, n_estimators=400, score=0.7586416009702851, total= 2.4min\n",
      "[CV] learning_rate=0.2, max_depth=5, n_estimators=400 ................\n",
      "[CV]  learning_rate=0.2, max_depth=5, n_estimators=400, score=0.7273976023976024, total= 2.4min\n",
      "[CV] learning_rate=0.2, max_depth=5, n_estimators=400 ................\n",
      "[CV]  learning_rate=0.2, max_depth=5, n_estimators=400, score=0.7520650967821477, total= 2.4min\n",
      "[CV] learning_rate=0.2, max_depth=5, n_estimators=400 ................\n",
      "[CV]  learning_rate=0.1, max_depth=20, n_estimators=400, score=0.6932387822472184, total=39.6min\n",
      "[CV] learning_rate=0.2, max_depth=5, n_estimators=400 ................\n",
      "[CV]  learning_rate=0.1, max_depth=20, n_estimators=400, score=0.6919801277501775, total=39.9min\n",
      "[CV] learning_rate=0.2, max_depth=5, n_estimators=400 ................\n",
      "[CV]  learning_rate=0.2, max_depth=5, n_estimators=400, score=0.7348165965123271, total= 2.4min\n",
      "[CV] learning_rate=0.2, max_depth=10, n_estimators=25 ................\n",
      "[CV]  learning_rate=0.2, max_depth=5, n_estimators=400, score=0.7530712530712532, total= 2.4min\n",
      "[CV] learning_rate=0.2, max_depth=10, n_estimators=25 ................\n",
      "[CV]  learning_rate=0.2, max_depth=5, n_estimators=400, score=0.744228432563791, total= 2.3min\n",
      "[CV] learning_rate=0.2, max_depth=10, n_estimators=25 ................\n",
      "[CV]  learning_rate=0.2, max_depth=5, n_estimators=400, score=0.7381527124888833, total= 2.4min\n",
      "[CV] learning_rate=0.2, max_depth=10, n_estimators=25 ................\n",
      "[CV]  learning_rate=0.2, max_depth=10, n_estimators=25, score=0.7223505260456762, total=  51.0s\n",
      "[CV] learning_rate=0.2, max_depth=10, n_estimators=25 ................\n",
      "[CV]  learning_rate=0.2, max_depth=10, n_estimators=25, score=0.7544211714536561, total=  51.4s\n",
      "[CV] learning_rate=0.2, max_depth=10, n_estimators=25 ................\n",
      "[CV]  learning_rate=0.2, max_depth=5, n_estimators=400, score=0.7330072736393278, total= 2.4min\n",
      "[CV] learning_rate=0.2, max_depth=10, n_estimators=25 ................\n",
      "[CV]  learning_rate=0.2, max_depth=10, n_estimators=25, score=0.754752612363087, total=  50.6s\n",
      "[CV] learning_rate=0.2, max_depth=10, n_estimators=25 ................\n",
      "[CV]  learning_rate=0.2, max_depth=10, n_estimators=25, score=0.7382593159775396, total=  51.3s\n",
      "[CV] learning_rate=0.2, max_depth=10, n_estimators=25 ................\n",
      "[CV]  learning_rate=0.2, max_depth=10, n_estimators=25, score=0.7455976020981641, total=  50.3s\n",
      "[CV] learning_rate=0.2, max_depth=10, n_estimators=25 ................\n",
      "[CV]  learning_rate=0.2, max_depth=10, n_estimators=25, score=0.7484992496248125, total=  50.5s\n",
      "[CV] learning_rate=0.2, max_depth=10, n_estimators=50 ................\n",
      "[CV]  learning_rate=0.2, max_depth=5, n_estimators=400, score=0.7394500063363325, total= 2.4min\n",
      "[CV] learning_rate=0.2, max_depth=10, n_estimators=50 ................\n",
      "[CV]  learning_rate=0.2, max_depth=10, n_estimators=25, score=0.7489160425699646, total=  50.7s\n",
      "[CV] learning_rate=0.2, max_depth=10, n_estimators=50 ................\n",
      "[CV]  learning_rate=0.2, max_depth=10, n_estimators=25, score=0.7463335819040517, total=  48.8s\n",
      "[CV] learning_rate=0.2, max_depth=10, n_estimators=50 ................\n",
      "[CV]  learning_rate=0.2, max_depth=10, n_estimators=25, score=0.7392996108949418, total=  50.7s\n",
      "[CV] learning_rate=0.2, max_depth=10, n_estimators=50 ................\n",
      "[CV]  learning_rate=0.2, max_depth=10, n_estimators=25, score=0.7412922439466529, total=  50.1s\n",
      "[CV] learning_rate=0.2, max_depth=10, n_estimators=50 ................\n",
      "[CV]  learning_rate=0.2, max_depth=10, n_estimators=50, score=0.7157182251190775, total= 1.5min\n",
      "[CV] learning_rate=0.2, max_depth=10, n_estimators=50 ................\n",
      "[CV]  learning_rate=0.2, max_depth=10, n_estimators=50, score=0.7558068084060464, total= 1.5min\n",
      "[CV] learning_rate=0.2, max_depth=10, n_estimators=50 ................\n",
      "[CV]  learning_rate=0.2, max_depth=10, n_estimators=50, score=0.7465341675867991, total= 1.5min\n",
      "[CV] learning_rate=0.2, max_depth=10, n_estimators=50 ................\n",
      "[CV]  learning_rate=0.2, max_depth=10, n_estimators=50, score=0.7317839195979899, total= 1.5min\n",
      "[CV] learning_rate=0.2, max_depth=10, n_estimators=50 ................\n",
      "[CV]  learning_rate=0.2, max_depth=10, n_estimators=50, score=0.740339472733839, total= 1.5min\n",
      "[CV] learning_rate=0.2, max_depth=10, n_estimators=100 ...............\n",
      "[CV]  learning_rate=0.2, max_depth=10, n_estimators=50, score=0.7474099654662062, total= 1.5min\n",
      "[CV] learning_rate=0.2, max_depth=10, n_estimators=100 ...............\n",
      "[CV]  learning_rate=0.2, max_depth=10, n_estimators=50, score=0.7374215849443092, total= 1.5min\n",
      "[CV] learning_rate=0.2, max_depth=10, n_estimators=100 ...............\n",
      "[CV]  learning_rate=0.2, max_depth=10, n_estimators=50, score=0.7365800340053437, total= 1.5min\n",
      "[CV] learning_rate=0.2, max_depth=10, n_estimators=100 ...............\n",
      "[CV]  learning_rate=0.2, max_depth=10, n_estimators=50, score=0.7322914040836905, total= 1.5min\n",
      "[CV] learning_rate=0.2, max_depth=10, n_estimators=100 ...............\n",
      "[CV]  learning_rate=0.2, max_depth=10, n_estimators=50, score=0.7337753410684688, total= 1.5min\n",
      "[CV] learning_rate=0.2, max_depth=10, n_estimators=100 ...............\n",
      "[CV]  learning_rate=0.2, max_depth=10, n_estimators=100, score=0.7037267080745341, total= 2.9min\n",
      "[CV] learning_rate=0.2, max_depth=10, n_estimators=100 ...............\n",
      "[CV]  learning_rate=0.2, max_depth=10, n_estimators=100, score=0.7359202043547014, total= 2.9min\n",
      "[CV] learning_rate=0.2, max_depth=10, n_estimators=100 ...............\n",
      "[CV]  learning_rate=0.2, max_depth=10, n_estimators=100, score=0.7316332726168792, total= 2.9min\n",
      "[CV] learning_rate=0.2, max_depth=10, n_estimators=100 ...............\n",
      "[CV]  learning_rate=0.2, max_depth=10, n_estimators=100, score=0.7142857142857143, total= 3.0min\n",
      "[CV] learning_rate=0.2, max_depth=10, n_estimators=100 ...............\n",
      "[CV]  learning_rate=0.2, max_depth=10, n_estimators=100, score=0.7308377896613191, total= 2.8min\n",
      "[CV] learning_rate=0.2, max_depth=10, n_estimators=200 ...............\n",
      "[CV]  learning_rate=0.2, max_depth=10, n_estimators=100, score=0.738943488943489, total= 2.8min\n",
      "[CV] learning_rate=0.2, max_depth=10, n_estimators=200 ...............\n",
      "[CV]  learning_rate=0.2, max_depth=10, n_estimators=100, score=0.7271418286537077, total= 2.8min\n",
      "[CV] learning_rate=0.2, max_depth=10, n_estimators=200 ...............\n",
      "[CV]  learning_rate=0.2, max_depth=10, n_estimators=100, score=0.7237092477483191, total= 2.9min\n",
      "[CV] learning_rate=0.2, max_depth=10, n_estimators=200 ...............\n",
      "[CV]  learning_rate=0.2, max_depth=10, n_estimators=100, score=0.7201672156067899, total= 2.9min\n",
      "[CV] learning_rate=0.2, max_depth=10, n_estimators=200 ...............\n",
      "[CV]  learning_rate=0.2, max_depth=10, n_estimators=100, score=0.7203229468903748, total= 2.8min\n",
      "[CV] learning_rate=0.2, max_depth=10, n_estimators=200 ...............\n",
      "[CV]  learning_rate=0.1, max_depth=20, n_estimators=400, score=0.6889668521654972, total=39.6min\n",
      "[CV] learning_rate=0.2, max_depth=10, n_estimators=200 ...............\n",
      "[CV]  learning_rate=0.1, max_depth=20, n_estimators=400, score=0.6855270994639666, total=39.7min\n",
      "[CV] learning_rate=0.2, max_depth=10, n_estimators=200 ...............\n",
      "[CV]  learning_rate=0.2, max_depth=10, n_estimators=200, score=0.6927930114049987, total= 6.1min\n",
      "[CV] learning_rate=0.2, max_depth=10, n_estimators=200 ...............\n",
      "[CV]  learning_rate=0.2, max_depth=10, n_estimators=200, score=0.7231179536913565, total= 6.0min\n",
      "[CV] learning_rate=0.2, max_depth=10, n_estimators=200 ...............\n",
      "[CV]  learning_rate=0.2, max_depth=10, n_estimators=200, score=0.7081391179634277, total= 6.1min\n",
      "[CV] learning_rate=0.2, max_depth=10, n_estimators=400 ...............\n",
      "[CV]  learning_rate=0.2, max_depth=10, n_estimators=200, score=0.7088075210291935, total= 6.1min\n",
      "[CV] learning_rate=0.2, max_depth=10, n_estimators=400 ...............\n",
      "[CV]  learning_rate=0.2, max_depth=10, n_estimators=200, score=0.7175813501699855, total= 5.9min\n",
      "[CV] learning_rate=0.2, max_depth=10, n_estimators=400 ...............\n"
     ]
    },
    {
     "name": "stderr",
     "output_type": "stream",
     "text": [
      "[Parallel(n_jobs=-1)]: Done 1185 tasks      | elapsed: 703.5min\n"
     ]
    },
    {
     "name": "stdout",
     "output_type": "stream",
     "text": [
      "[CV]  learning_rate=0.2, max_depth=10, n_estimators=200, score=0.711641791044776, total= 6.0min\n",
      "[CV] learning_rate=0.2, max_depth=10, n_estimators=400 ...............\n",
      "[CV]  learning_rate=0.2, max_depth=10, n_estimators=200, score=0.7080474111041796, total= 6.0min\n",
      "[CV] learning_rate=0.2, max_depth=10, n_estimators=400 ...............\n",
      "[CV]  learning_rate=0.2, max_depth=10, n_estimators=200, score=0.7132684547828151, total= 5.9min\n",
      "[CV] learning_rate=0.2, max_depth=10, n_estimators=400 ...............\n",
      "[CV]  learning_rate=0.2, max_depth=10, n_estimators=200, score=0.6987385604748949, total= 6.2min\n",
      "[CV] learning_rate=0.2, max_depth=10, n_estimators=400 ...............\n",
      "[CV]  learning_rate=0.2, max_depth=10, n_estimators=200, score=0.7008252247813769, total= 6.0min\n",
      "[CV] learning_rate=0.2, max_depth=10, n_estimators=400 ...............\n",
      "[CV]  learning_rate=0.2, max_depth=10, n_estimators=400, score=0.7084485037856028, total=13.0min\n",
      "[CV] learning_rate=0.2, max_depth=10, n_estimators=400 ...............\n",
      "[CV]  learning_rate=0.2, max_depth=10, n_estimators=400, score=0.6821437097159226, total=13.2min\n",
      "[CV] learning_rate=0.2, max_depth=10, n_estimators=400 ...............\n",
      "[CV]  learning_rate=0.2, max_depth=10, n_estimators=400, score=0.6958547365906104, total=13.0min\n",
      "[CV] learning_rate=0.2, max_depth=20, n_estimators=25 ................\n",
      "[CV]  learning_rate=0.2, max_depth=10, n_estimators=400, score=0.6967513434294089, total=13.2min\n",
      "[CV] learning_rate=0.2, max_depth=20, n_estimators=25 ................\n",
      "[CV]  learning_rate=0.2, max_depth=10, n_estimators=400, score=0.6938080131594407, total=13.3min\n",
      "[CV] learning_rate=0.2, max_depth=20, n_estimators=25 ................\n",
      "[CV]  learning_rate=0.2, max_depth=10, n_estimators=400, score=0.7067307692307693, total=13.1min\n",
      "[CV] learning_rate=0.2, max_depth=20, n_estimators=25 ................\n",
      "[CV]  learning_rate=0.2, max_depth=10, n_estimators=400, score=0.6995141397782485, total=12.0min\n",
      "[CV] learning_rate=0.2, max_depth=20, n_estimators=25 ................\n",
      "[CV]  learning_rate=0.2, max_depth=10, n_estimators=400, score=0.7005202175455191, total=13.0min\n",
      "[CV] learning_rate=0.2, max_depth=20, n_estimators=25 ................\n",
      "[CV]  learning_rate=0.2, max_depth=20, n_estimators=25, score=0.6597812879708385, total= 4.2min\n",
      "[CV] learning_rate=0.2, max_depth=20, n_estimators=25 ................\n",
      "[CV]  learning_rate=0.2, max_depth=20, n_estimators=25, score=0.6931416737726885, total= 4.2min\n",
      "[CV] learning_rate=0.2, max_depth=20, n_estimators=25 ................\n",
      "[CV]  learning_rate=0.2, max_depth=20, n_estimators=25, score=0.7026044821320412, total= 4.4min\n",
      "[CV] learning_rate=0.2, max_depth=20, n_estimators=25 ................\n",
      "[CV]  learning_rate=0.2, max_depth=20, n_estimators=25, score=0.6759443339960238, total= 4.4min\n",
      "[CV] learning_rate=0.2, max_depth=20, n_estimators=25 ................\n",
      "[CV]  learning_rate=0.2, max_depth=20, n_estimators=25, score=0.6842794240152328, total= 4.4min\n",
      "[CV] learning_rate=0.2, max_depth=20, n_estimators=50 ................\n",
      "[CV]  learning_rate=0.2, max_depth=20, n_estimators=25, score=0.6920184376516253, total= 4.3min\n",
      "[CV] learning_rate=0.2, max_depth=20, n_estimators=50 ................\n",
      "[CV]  learning_rate=0.2, max_depth=20, n_estimators=25, score=0.6854688083675757, total= 4.5min\n",
      "[CV] learning_rate=0.2, max_depth=20, n_estimators=50 ................\n",
      "[CV]  learning_rate=0.2, max_depth=20, n_estimators=25, score=0.6921708185053381, total= 4.4min\n",
      "[CV] learning_rate=0.2, max_depth=20, n_estimators=50 ................\n",
      "[CV]  learning_rate=0.2, max_depth=20, n_estimators=25, score=0.6953183991945633, total= 4.5min\n",
      "[CV] learning_rate=0.2, max_depth=20, n_estimators=50 ................\n",
      "[CV]  learning_rate=0.2, max_depth=20, n_estimators=25, score=0.6828913912095895, total= 4.2min\n",
      "[CV] learning_rate=0.2, max_depth=20, n_estimators=50 ................\n",
      "[CV]  learning_rate=0.2, max_depth=10, n_estimators=400, score=0.6957306073361395, total=13.3min\n",
      "[CV] learning_rate=0.2, max_depth=20, n_estimators=50 ................\n",
      "[CV]  learning_rate=0.2, max_depth=10, n_estimators=400, score=0.6946136972946625, total=13.5min\n",
      "[CV] learning_rate=0.2, max_depth=20, n_estimators=50 ................\n",
      "[CV]  learning_rate=0.2, max_depth=20, n_estimators=50, score=0.6630460730484603, total= 8.2min\n",
      "[CV] learning_rate=0.2, max_depth=20, n_estimators=50 ................\n",
      "[CV]  learning_rate=0.2, max_depth=20, n_estimators=50, score=0.6930872240318494, total= 8.2min\n",
      "[CV] learning_rate=0.2, max_depth=20, n_estimators=50 ................\n",
      "[CV]  learning_rate=0.2, max_depth=20, n_estimators=50, score=0.6852667645619188, total= 8.3min\n",
      "[CV] learning_rate=0.2, max_depth=20, n_estimators=100 ...............\n",
      "[CV]  learning_rate=0.2, max_depth=20, n_estimators=50, score=0.6932748191199146, total= 8.7min\n",
      "[CV] learning_rate=0.2, max_depth=20, n_estimators=100 ...............\n",
      "[CV]  learning_rate=0.2, max_depth=20, n_estimators=50, score=0.6883842587088337, total= 8.4min\n",
      "[CV] learning_rate=0.2, max_depth=20, n_estimators=100 ...............\n",
      "[CV]  learning_rate=0.2, max_depth=20, n_estimators=50, score=0.6962927756653992, total= 8.5min\n",
      "[CV] learning_rate=0.2, max_depth=20, n_estimators=100 ...............\n",
      "[CV]  learning_rate=0.2, max_depth=20, n_estimators=50, score=0.6937156802928613, total= 8.4min\n",
      "[CV] learning_rate=0.2, max_depth=20, n_estimators=100 ...............\n",
      "[CV]  learning_rate=0.2, max_depth=20, n_estimators=50, score=0.6960598148587704, total= 8.3min\n",
      "[CV] learning_rate=0.2, max_depth=20, n_estimators=100 ...............\n",
      "[CV]  learning_rate=0.2, max_depth=20, n_estimators=50, score=0.6931000248200546, total= 8.8min\n",
      "[CV] learning_rate=0.2, max_depth=20, n_estimators=100 ...............\n",
      "[CV]  learning_rate=0.2, max_depth=20, n_estimators=50, score=0.6830469782530337, total= 8.2min\n",
      "[CV] learning_rate=0.2, max_depth=20, n_estimators=100 ...............\n",
      "[CV]  learning_rate=0.2, max_depth=20, n_estimators=100, score=0.6691648822269808, total=14.4min\n",
      "[CV] learning_rate=0.2, max_depth=20, n_estimators=100 ...............\n",
      "[CV]  learning_rate=0.2, max_depth=20, n_estimators=100, score=0.6889128094725511, total=14.1min\n",
      "[CV] learning_rate=0.2, max_depth=20, n_estimators=100 ...............\n",
      "[CV]  learning_rate=0.2, max_depth=20, n_estimators=100, score=0.6932944606413993, total=14.5min\n",
      "[CV] learning_rate=0.2, max_depth=20, n_estimators=200 ...............\n",
      "[CV]  learning_rate=0.2, max_depth=20, n_estimators=100, score=0.6833251473477406, total=14.3min\n",
      "[CV] learning_rate=0.2, max_depth=20, n_estimators=200 ...............\n",
      "[CV]  learning_rate=0.2, max_depth=20, n_estimators=100, score=0.6838978015448602, total=14.1min\n",
      "[CV] learning_rate=0.2, max_depth=20, n_estimators=200 ...............\n",
      "[CV]  learning_rate=0.2, max_depth=20, n_estimators=100, score=0.6966238706609607, total=14.3min\n",
      "[CV] learning_rate=0.2, max_depth=20, n_estimators=200 ...............\n",
      "[CV]  learning_rate=0.2, max_depth=20, n_estimators=100, score=0.6905025187369458, total=14.1min\n",
      "[CV] learning_rate=0.2, max_depth=20, n_estimators=200 ...............\n",
      "[CV]  learning_rate=0.2, max_depth=20, n_estimators=100, score=0.6960667461263409, total=14.1min\n",
      "[CV] learning_rate=0.2, max_depth=20, n_estimators=200 ...............\n",
      "[CV]  learning_rate=0.2, max_depth=20, n_estimators=100, score=0.6862040033561069, total=14.1min\n",
      "[CV] learning_rate=0.2, max_depth=20, n_estimators=200 ...............\n",
      "[CV]  learning_rate=0.2, max_depth=20, n_estimators=100, score=0.6862026862026863, total=14.4min\n",
      "[CV] learning_rate=0.2, max_depth=20, n_estimators=200 ...............\n",
      "[CV]  learning_rate=0.2, max_depth=20, n_estimators=200, score=0.6752701080432174, total=19.9min\n",
      "[CV] learning_rate=0.2, max_depth=20, n_estimators=200 ...............\n",
      "[CV]  learning_rate=0.2, max_depth=20, n_estimators=200, score=0.6941613715381849, total=19.9min\n",
      "[CV] learning_rate=0.2, max_depth=20, n_estimators=200 ...............\n",
      "[CV]  learning_rate=0.2, max_depth=20, n_estimators=200, score=0.6927885171894895, total=20.0min\n",
      "[CV] learning_rate=0.2, max_depth=20, n_estimators=400 ...............\n",
      "[CV]  learning_rate=0.2, max_depth=20, n_estimators=200, score=0.6849563953488372, total=20.0min\n",
      "[CV] learning_rate=0.2, max_depth=20, n_estimators=400 ...............\n"
     ]
    },
    {
     "name": "stderr",
     "output_type": "stream",
     "text": [
      "[Parallel(n_jobs=-1)]: Done 1234 tasks      | elapsed: 772.1min\n"
     ]
    },
    {
     "name": "stdout",
     "output_type": "stream",
     "text": [
      "[CV]  learning_rate=0.2, max_depth=20, n_estimators=200, score=0.6926253687315633, total=19.5min\n",
      "[CV] learning_rate=0.2, max_depth=20, n_estimators=400 ...............\n",
      "[CV]  learning_rate=0.2, max_depth=20, n_estimators=200, score=0.6972182596291012, total=19.5min\n",
      "[CV] learning_rate=0.2, max_depth=20, n_estimators=400 ...............\n",
      "[CV]  learning_rate=0.2, max_depth=20, n_estimators=200, score=0.6899082568807339, total=19.6min\n",
      "[CV] learning_rate=0.2, max_depth=20, n_estimators=400 ...............\n",
      "[CV]  learning_rate=0.2, max_depth=20, n_estimators=200, score=0.6973152767878356, total=19.5min\n",
      "[CV] learning_rate=0.2, max_depth=20, n_estimators=400 ...............\n",
      "[CV]  learning_rate=0.2, max_depth=20, n_estimators=200, score=0.6886082098615497, total=19.8min\n",
      "[CV] learning_rate=0.2, max_depth=20, n_estimators=400 ...............\n",
      "[CV]  learning_rate=0.2, max_depth=20, n_estimators=200, score=0.6860868524943176, total=19.7min\n",
      "[CV] learning_rate=0.2, max_depth=20, n_estimators=400 ...............\n",
      "[CV]  learning_rate=0.2, max_depth=20, n_estimators=400, score=0.6720941288328975, total=30.5min\n",
      "[CV] learning_rate=0.2, max_depth=20, n_estimators=400 ...............\n",
      "[CV]  learning_rate=0.2, max_depth=20, n_estimators=400, score=0.6948929553881114, total=31.2min\n",
      "[CV] learning_rate=0.2, max_depth=20, n_estimators=400 ...............\n",
      "[CV]  learning_rate=0.2, max_depth=20, n_estimators=400, score=0.6913850766924231, total=31.3min\n",
      "[CV]  learning_rate=0.2, max_depth=20, n_estimators=400, score=0.6849808061420345, total=31.3min\n",
      "[CV]  learning_rate=0.2, max_depth=20, n_estimators=400, score=0.7014943074003795, total=28.9min\n",
      "[CV]  learning_rate=0.2, max_depth=20, n_estimators=400, score=0.6891685287545573, total=29.1min\n",
      "[CV]  learning_rate=0.2, max_depth=20, n_estimators=400, score=0.6897182583241859, total=26.8min\n",
      "[CV]  learning_rate=0.2, max_depth=20, n_estimators=400, score=0.6920537609054468, total=26.9min\n",
      "[CV]  learning_rate=0.2, max_depth=20, n_estimators=400, score=0.6900507123883121, total=20.0min\n",
      "[CV]  learning_rate=0.2, max_depth=20, n_estimators=400, score=0.6809222315135586, total=19.8min\n"
     ]
    },
    {
     "name": "stderr",
     "output_type": "stream",
     "text": [
      "[Parallel(n_jobs=-1)]: Done 1250 out of 1250 | elapsed: 823.2min finished\n"
     ]
    },
    {
     "name": "stdout",
     "output_type": "stream",
     "text": [
      "Unoptimized model\n",
      "------\n",
      "Accuracy score on testing data: 0.8630\n",
      "F-score on testing data: 0.7395\n",
      "\n",
      "Optimized Model\n",
      "------\n",
      "Final accuracy score on the testing data: 0.8699\n",
      "Final F-score on the testing data: 0.7512\n"
     ]
    }
   ],
   "source": [
    "# TODO: Import 'GridSearchCV', 'make_scorer', and any other necessary libraries\n",
    "from sklearn.model_selection import GridSearchCV, ShuffleSplit\n",
    "from sklearn.metrics import make_scorer\n",
    "\n",
    "# TODO: Initialize the classifier\n",
    "clf = GradientBoostingClassifier(random_state=30)\n",
    "\n",
    "# TODO: Create the parameters list you wish to tune, using a dictionary if needed.\n",
    "# HINT: parameters = {'parameter_1': [value1, value2], 'parameter_2': [value1, value2]}\n",
    "parameters = {'learning_rate':[0.02, 0.01, 0.5, 0.1, 0.2],  # default=0.1\n",
    "              'n_estimators':[25,50,100,200,400],  # default=100\n",
    "              'max_depth':[2, 3, 5, 10, 20]} # default=3\n",
    "\n",
    "# TODO: Make an fbeta_score scoring object using make_scorer()\n",
    "scorer = make_scorer(fbeta_score, beta=0.5)\n",
    "\n",
    "# TODO: Perform grid search on the classifier using 'scorer' as the scoring method using GridSearchCV()\n",
    "cv = ShuffleSplit(n_splits = 10, test_size = 0.20, random_state = 30)\n",
    "grid_obj = GridSearchCV(estimator=clf, param_grid=parameters, cv = cv, scoring=scorer, n_jobs=-1, verbose=10)\n",
    "\n",
    "# TODO: Fit the grid search object to the training data and find the optimal parameters using fit()\n",
    "grid_fit = grid_obj.fit(X_train, y_train)\n",
    "\n",
    "# Get the estimator\n",
    "best_clf = grid_fit.best_estimator_\n",
    "\n",
    "# Make predictions using the unoptimized and model\n",
    "predictions = (clf.fit(X_train, y_train)).predict(X_test)\n",
    "best_predictions = best_clf.predict(X_test)\n",
    "\n",
    "# Report the before-and-afterscores\n",
    "print(\"Unoptimized model\\n------\")\n",
    "print(\"Accuracy score on testing data: {:.4f}\".format(accuracy_score(y_test, predictions)))\n",
    "print(\"F-score on testing data: {:.4f}\".format(fbeta_score(y_test, predictions, beta = 0.5)))\n",
    "print(\"\\nOptimized Model\\n------\")\n",
    "print(\"Final accuracy score on the testing data: {:.4f}\".format(accuracy_score(y_test, best_predictions)))\n",
    "print(\"Final F-score on the testing data: {:.4f}\".format(fbeta_score(y_test, best_predictions, beta = 0.5)))"
   ]
  },
  {
   "cell_type": "code",
   "execution_count": 14,
   "metadata": {},
   "outputs": [
    {
     "name": "stdout",
     "output_type": "stream",
     "text": [
      "{'learning_rate': 0.2, 'max_depth': 2, 'n_estimators': 400}\n"
     ]
    }
   ],
   "source": [
    "print(grid_obj.best_params_)"
   ]
  },
  {
   "cell_type": "markdown",
   "metadata": {},
   "source": [
    "### Question 5 - Final Model Evaluation\n",
    "\n",
    "* What is your optimized model's accuracy and F-score on the testing data? \n",
    "* Are these scores better or worse than the unoptimized model? \n",
    "* How do the results from your optimized model compare to the naive predictor benchmarks you found earlier in **Question 1**?_  \n",
    "\n",
    "**Note:** Fill in the table below with your results, and then provide discussion in the **Answer** box."
   ]
  },
  {
   "cell_type": "markdown",
   "metadata": {},
   "source": [
    "#### Results:\n",
    "\n",
    "|     Metric     | Unoptimized Model | Optimized Model |\n",
    "| :------------: | :---------------: | :-------------: | \n",
    "| Accuracy Score |    0.8630         |       0.8699    |\n",
    "| F-score        |  0.7395           |    0.7512       |\n"
   ]
  },
  {
   "cell_type": "markdown",
   "metadata": {},
   "source": [
    "**Answer: ** The optimized model's accuracy and F-score on the testing data are: 0.8699 and 0.7512, respectively. These scores are slightly higher than the unoptimized model (0.8630 and 0.7395, respectively). The performance of the optimized model outperforms significantly when compared to the naive predictor in Question 1. "
   ]
  },
  {
   "cell_type": "markdown",
   "metadata": {},
   "source": [
    "----\n",
    "## Feature Importance\n",
    "\n",
    "An important task when performing supervised learning on a dataset like the census data we study here is determining which features provide the most predictive power. By focusing on the relationship between only a few crucial features and the target label we simplify our understanding of the phenomenon, which is most always a useful thing to do. In the case of this project, that means we wish to identify a small number of features that most strongly predict whether an individual makes at most or more than \\$50,000.\n",
    "\n",
    "Choose a scikit-learn classifier (e.g., adaboost, random forests) that has a `feature_importance_` attribute, which is a function that ranks the importance of features according to the chosen classifier.  In the next python cell fit this classifier to training set and use this attribute to determine the top 5 most important features for the census dataset."
   ]
  },
  {
   "cell_type": "markdown",
   "metadata": {},
   "source": [
    "### Question 6 - Feature Relevance Observation\n",
    "When **Exploring the Data**, it was shown there are thirteen available features for each individual on record in the census data. Of these thirteen records, which five features do you believe to be most important for prediction, and in what order would you rank them and why?"
   ]
  },
  {
   "cell_type": "markdown",
   "metadata": {},
   "source": [
    "**Answer:**\n",
    "\n",
    "2- **Age**: People aged from 30-60 are tended to earn more than youger (less experience or still studying) or older people (retired or part-time workers).\n",
    "\n",
    "2- **Occupation**: High skilled people like doctors or dentist (Prof-specialty) are paid more than lower skill employee like Handlers/clearners.\n",
    "\n",
    "3- **Workclass**: Working for the state or government does not always pay as much as working in the private sector.\n",
    "\n",
    "4- **Education Number**: People have longer education number are likely having a higher paid jobs than lower education people.\n",
    "\n",
    "5- **Hours per week**: Part-time workers are likely to earn less than full-time workers. \n"
   ]
  },
  {
   "cell_type": "markdown",
   "metadata": {},
   "source": [
    "### Implementation - Extracting Feature Importance\n",
    "Choose a `scikit-learn` supervised learning algorithm that has a `feature_importance_` attribute availble for it. This attribute is a function that ranks the importance of each feature when making predictions based on the chosen algorithm.\n",
    "\n",
    "In the code cell below, you will need to implement the following:\n",
    " - Import a supervised learning model from sklearn if it is different from the three used earlier.\n",
    " - Train the supervised model on the entire training set.\n",
    " - Extract the feature importances using `'.feature_importances_'`."
   ]
  },
  {
   "cell_type": "code",
   "execution_count": 15,
   "metadata": {},
   "outputs": [
    {
     "data": {
      "image/png": "[encoded data removed]",
      "text/plain": [
       "<Figure size 648x360 with 1 Axes>"
      ]
     },
     "metadata": {},
     "output_type": "display_data"
    }
   ],
   "source": [
    "# TODO: Import a supervised learning model that has 'feature_importances_'\n",
    "from sklearn.ensemble import AdaBoostClassifier\n",
    "\n",
    "# TODO: Train the supervised model on the training set using .fit(X_train, y_train)\n",
    "model = GradientBoostingClassifier(n_estimators=400, learning_rate=0.2, max_depth=2, random_state=30)\n",
    "model.fit(X_train, y_train)\n",
    "\n",
    "# TODO: Extract the feature importances using .feature_importances_ \n",
    "importances = model.feature_importances_\n",
    "\n",
    "# Plot\n",
    "vs.feature_plot(importances, X_train, y_train)"
   ]
  },
  {
   "cell_type": "markdown",
   "metadata": {},
   "source": [
    "### Question 7 - Extracting Feature Importance\n",
    "\n",
    "Observe the visualization created above which displays the five most relevant features for predicting if an individual makes at most or above \\$50,000.  \n",
    "* How do these five features compare to the five features you discussed in **Question 6**?\n",
    "* If you were close to the same answer, how does this visualization confirm your thoughts? \n",
    "* If you were not close, why do you think these features are more relevant?"
   ]
  },
  {
   "cell_type": "markdown",
   "metadata": {},
   "source": [
    "**Answer:** Age, hours-per-week and education number matched with my prediction. However, I did not expect the captial-gain and capital-loss are important features. I noticed that all five selected features are numerical features, it maybe because the process of converting one categorical variable into multiple numerical features through one-hot encoding. The multiple numerical features as the result play less important role compare to the orginal feature. Nonetheless, it was pretty close and the visualization confirms my thoughts."
   ]
  },
  {
   "cell_type": "markdown",
   "metadata": {},
   "source": [
    "### Feature Selection\n",
    "How does a model perform if we only use a subset of all the available features in the data? With less features required to train, the expectation is that training and prediction time is much lower — at the cost of performance metrics. From the visualization above, we see that the top five most important features contribute more than half of the importance of **all** features present in the data. This hints that we can attempt to *reduce the feature space* and simplify the information required for the model to learn. The code cell below will use the same optimized model you found earlier, and train it on the same training set *with only the top five important features*. "
   ]
  },
  {
   "cell_type": "code",
   "execution_count": 16,
   "metadata": {},
   "outputs": [
    {
     "name": "stdout",
     "output_type": "stream",
     "text": [
      "Final Model trained on full data\n",
      "------\n",
      "Accuracy on testing data: 0.8699\n",
      "F-score on testing data: 0.7512\n",
      "\n",
      "Final Model trained on reduced data\n",
      "------\n",
      "Accuracy on testing data: 0.8421\n",
      "F-score on testing data: 0.6986\n"
     ]
    }
   ],
   "source": [
    "# Import functionality for cloning a model\n",
    "from sklearn.base import clone\n",
    "\n",
    "# Reduce the feature space\n",
    "X_train_reduced = X_train[X_train.columns.values[(np.argsort(importances)[::-1])[:5]]]\n",
    "X_test_reduced = X_test[X_test.columns.values[(np.argsort(importances)[::-1])[:5]]]\n",
    "\n",
    "# Train on the \"best\" model found from grid search earlier\n",
    "clf = (clone(best_clf)).fit(X_train_reduced, y_train)\n",
    "\n",
    "# Make new predictions\n",
    "reduced_predictions = clf.predict(X_test_reduced)\n",
    "\n",
    "# Report scores from the final model using both versions of data\n",
    "print(\"Final Model trained on full data\\n------\")\n",
    "print(\"Accuracy on testing data: {:.4f}\".format(accuracy_score(y_test, best_predictions)))\n",
    "print(\"F-score on testing data: {:.4f}\".format(fbeta_score(y_test, best_predictions, beta = 0.5)))\n",
    "print(\"\\nFinal Model trained on reduced data\\n------\")\n",
    "print(\"Accuracy on testing data: {:.4f}\".format(accuracy_score(y_test, reduced_predictions)))\n",
    "print(\"F-score on testing data: {:.4f}\".format(fbeta_score(y_test, reduced_predictions, beta = 0.5)))"
   ]
  },
  {
   "cell_type": "markdown",
   "metadata": {},
   "source": [
    "### Question 8 - Effects of Feature Selection\n",
    "\n",
    "* How does the final model's F-score and accuracy score on the reduced data using only five features compare to those same scores when all features are used?\n",
    "* If training time was a factor, would you consider using the reduced data as your training set?"
   ]
  },
  {
   "cell_type": "markdown",
   "metadata": {},
   "source": [
    "**Answer:** When using only five the most relevant features suggested from the Gradient Boosting Classifier, the model performs slightly worse (-0.0278 in accuracy score and -0.0526 in f-score) compare to using all features. However, reducing the number of features also reduces the tranining time. So if the training time is an important factor or the training set is too large, I would recommend to reduce the number of features. "
   ]
  },
  {
   "cell_type": "markdown",
   "metadata": {},
   "source": [
    "> **Note**: Once you have completed all of the code implementations and successfully answered each question above, you may finalize your work by exporting the iPython Notebook as an HTML document. You can do this by using the menu above and navigating to  \n",
    "**File -> Download as -> HTML (.html)**. Include the finished document along with this notebook as your submission."
   ]
  },
  {
   "cell_type": "markdown",
   "metadata": {},
   "source": [
    "##Before You Submit\n",
    "You will also need run the following in order to convert the Jupyter notebook into HTML, so that your submission will include both files."
   ]
  },
  {
   "cell_type": "code",
   "execution_count": 11,
   "metadata": {},
   "outputs": [
    {
     "data": {
      "text/plain": [
       "['[NbConvertApp] Converting notebook finding_donors.ipynb to html',\n",
       " '[NbConvertApp] Writing 733259 bytes to finding_donors.html']"
      ]
     },
     "execution_count": 11,
     "metadata": {},
     "output_type": "execute_result"
    }
   ],
   "source": [
    "!!jupyter nbconvert *.ipynb"
   ]
  },
  {
   "cell_type": "code",
   "execution_count": null,
   "metadata": {},
   "outputs": [],
   "source": []
  }
 ],
 "metadata": {
  "kernelspec": {
   "display_name": "Python 3",
   "language": "python",
   "name": "python3"
  },
  "language_info": {
   "codemirror_mode": {
    "name": "ipython",
    "version": 3
   },
   "file_extension": ".py",
   "mimetype": "text/x-python",
   "name": "python",
   "nbconvert_exporter": "python",
   "pygments_lexer": "ipython3",
   "version": "3.6.3"
  }
 },
 "nbformat": 4,
 "nbformat_minor": 1
}
